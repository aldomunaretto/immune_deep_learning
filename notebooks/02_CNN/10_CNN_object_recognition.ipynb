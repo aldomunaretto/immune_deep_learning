{
 "cells": [
  {
   "cell_type": "markdown",
   "metadata": {},
   "source": [
    "[![Open in Colab](https://colab.research.google.com/assets/colab-badge.svg)](https://colab.research.google.com/github/aldomunaretto/immune_deep_learning/blob/main/notebooks/02_CNN/10_CNN_object_recognition.ipynb)"
   ]
  },
  {
   "cell_type": "markdown",
   "metadata": {
    "id": "tWInLoVLKYTE"
   },
   "source": [
    "<h1><font color=\"#113D68\" size=6>Redes Neuronales Convolucionales</font></h1>\n",
    "\n",
    "<h1><font color=\"#113D68\" size=5>3. Reconocimiento de objetos</font></h1>\n"
   ]
  },
  {
   "cell_type": "markdown",
   "metadata": {
    "id": "drfvmOQBKYTG"
   },
   "source": [
    "---\n",
    "\n",
    "<a id=\"indice\"></a>\n",
    "<h2><font color=\"#004D7F\" size=5>Índice</font></h2>\n",
    "\n",
    "* [0. Contexto](#section0)\n",
    "* [1. Conjunto de datos](#section1)\n",
    "    * [1.1. 1.1. Cargar el dataset CIFAR-10](#section1.1)\n",
    "* [2. CNN de línea base](#section2)\n",
    "    * [2.1. Librería y dataset](#section2.1)\n",
    "    * [2.2. Normalización](#section2.2)\n",
    "    * [2.3. One-Hot Encoding](#section2.3)\n",
    "    * [2.4. Desarrollar CNN de linea base](#section2.4)\n",
    "    * [2.5. Evaluación del modelo](#section2.5)\n",
    "* [3. CNN más profunda](#section3)\n",
    "* [4. Rendimiento del modelo](#section4)"
   ]
  },
  {
   "cell_type": "markdown",
   "metadata": {
    "id": "wrrydKqOKYTG"
   },
   "source": [
    "---\n",
    "<a id=\"section0\"></a>\n",
    "# <font color=\"#004D7F\" size=6> 0. Contexto</font>"
   ]
  },
  {
   "cell_type": "markdown",
   "metadata": {
    "id": "SFheKgL3KYTG"
   },
   "source": [
    "En esta lección, descubrirá cómo desarrollar y evaluar modelos de Deep Learning para el reconocimiento de objetos en Keras. Después de completar este tutorial paso a paso, sabrá:\n",
    "* Trabajar con el dataset CIFAR-10.\n",
    "* Crear una CNN de linea base para el reconocimiento de objetos.\n",
    "* Mejorar el rendimiento mediante CNN más profundas."
   ]
  },
  {
   "cell_type": "code",
   "execution_count": null,
   "metadata": {
    "id": "7Q1wKW8CKYTG"
   },
   "outputs": [],
   "source": [
    "import tensorflow as tf\n",
    "# Eliminar warning\n",
    "tf.compat.v1.logging.set_verbosity(tf.compat.v1.logging.ERROR)"
   ]
  },
  {
   "cell_type": "markdown",
   "metadata": {
    "id": "meDYjcCDKYTH"
   },
   "source": [
    "---\n",
    "<div style=\"text-align: right\"> <font size=5> <a href=\"#indice\"><i class=\"fa fa-arrow-circle-up\" aria-hidden=\"true\" style=\"color:#004D7F\"></i></a></font></div>\n",
    "\n",
    "---"
   ]
  },
  {
   "cell_type": "markdown",
   "metadata": {
    "id": "wEx8wITLKYTH"
   },
   "source": [
    "<a id=\"section1\"></a>\n",
    "# <font color=\"#004D7F\" size=6>1. Conjunto de datos</font>"
   ]
  },
  {
   "cell_type": "markdown",
   "metadata": {
    "id": "zruwawaIKYTH"
   },
   "source": [
    "El Instituto Canadiense de Investigación Avanzada (CIFAR, por sus siglas en inglés) desarrolló un conjunto de datos estándar de visión artificial y Deep Learning para este problema.\n",
    "\n",
    "El conjunto de datos CIFAR-10 consta de 60.000 fotos divididas en 10 clases. Las clases incluyen objetos comunes como aviones, automóviles, pájaros, gatos, etc. El conjunto de datos se divide en 50.000 imágenes para train y 10.000 para test. Las fotos son en color con canales rojo, verde y azul, por lo que tienen un tamaño de $32 × 32 × 3$ píxeles."
   ]
  },
  {
   "cell_type": "markdown",
   "metadata": {
    "id": "Bg4EleT3KYTH"
   },
   "source": [
    "<div class=\"alert alert-block alert-info\">\n",
    "    \n",
    "<i class=\"fa fa-info-circle\" aria-hidden=\"true\"></i>\n",
    "Puede obtener más información sobre el dataset [CIFAR](http://www.cs.toronto.edu/~kriz/cifar.html)\n"
   ]
  },
  {
   "cell_type": "markdown",
   "metadata": {
    "id": "Sf_HsHluKYTH"
   },
   "source": [
    "<div class=\"alert alert-block alert-info\">\n",
    "    \n",
    "<i class=\"fa fa-info-circle\" aria-hidden=\"true\"></i>\n",
    "Puede obtener más información sobre la página de Rodrigo Beneson y sus resultados sobre el dataset [CIFAR](http://rodrigob.github.io/are_we_there_yet/build/classification_datasets_results.html)\n"
   ]
  },
  {
   "cell_type": "markdown",
   "metadata": {
    "id": "njS4pJe7KYTH"
   },
   "source": [
    "<a id=\"section1.1\"></a>\n",
    "# <font color=\"#004D7F\" size=5>1.1. Cargar el dataset CIFAR-10</font>"
   ]
  },
  {
   "cell_type": "markdown",
   "metadata": {
    "id": "QuxUQDO_KYTH"
   },
   "source": [
    "El conjunto de datos CIFAR-10 se puede cargar fácilmente en Keras. Keras tiene la posibilidad de descargar automáticamente conjuntos de datos estándar como CIFAR-10 y almacenarlos en el directorio `~/.keras/datasets` usando la función `cifar10.load_data()`.\n",
    "\n",
    "Este conjunto de datos tiene un tamaño de 163 megabytes, por lo que la descarga puede demorar unos minutos.\n",
    "\n",
    "El conjunto de datos se almacena como conjuntos Pickle de train/test. Cada imagen se representa como una matriz tridimensional, con dimensiones del canal (rojo, verde, azul), ancho y alto."
   ]
  },
  {
   "cell_type": "code",
   "execution_count": null,
   "metadata": {
    "id": "zBVETDtAKYTH"
   },
   "outputs": [],
   "source": [
    "# Plot ad hoc CIFAR10 instances\n",
    "from keras.datasets import cifar10\n",
    "import matplotlib.pyplot as plt\n",
    "# load data\n",
    "(X_train, y_train), (X_test, y_test) = cifar10.load_data()\n",
    "# create a grid of 3x3 images\n",
    "for i in range(0, 9):\n",
    "    plt.subplot(330 + 1 + i)\n",
    "    plt.imshow(X_train[i])\n",
    "# show the plot\n",
    "plt.show()"
   ]
  },
  {
   "cell_type": "markdown",
   "metadata": {
    "id": "_5DV2eBiKYTI"
   },
   "source": [
    "---\n",
    "<div style=\"text-align: right\"> <font size=5> <a href=\"#indice\"><i class=\"fa fa-arrow-circle-up\" aria-hidden=\"true\" style=\"color:#004D7F\"></i></a></font></div>\n",
    "\n",
    "---"
   ]
  },
  {
   "cell_type": "markdown",
   "metadata": {
    "id": "KyQhjYx0KYTI"
   },
   "source": [
    "<a id=\"section2\"></a>\n",
    "# <font color=\"#004D7F\" size=6>2. CNN de línea base</font>"
   ]
  },
  {
   "cell_type": "markdown",
   "metadata": {
    "id": "iuk0OKcwKYTI"
   },
   "source": [
    "El problema de CIFAR-10 se resuelve mejor utilizando una red neuronal convolucional (CNN)."
   ]
  },
  {
   "cell_type": "markdown",
   "metadata": {
    "id": "MFBNrYQ9KYTI"
   },
   "source": [
    "<a id=\"section2.1\"></a>\n",
    "# <font color=\"#004D7F\" size=5>2.1. Librería y dataset</font>"
   ]
  },
  {
   "cell_type": "markdown",
   "metadata": {
    "id": "AyK1uALVKYTI"
   },
   "source": [
    "Podemos comenzar rápidamente importando todas las clases, funciones y el dataset que necesitaremos en este ejemplo."
   ]
  },
  {
   "cell_type": "code",
   "execution_count": null,
   "metadata": {
    "id": "xm4rGl0uKYTI"
   },
   "outputs": [],
   "source": [
    "# Simple CNN model for the CIFAR-10 Dataset\n",
    "from keras.datasets import cifar10\n",
    "from keras.models import Sequential\n",
    "from keras.layers import Dense\n",
    "from keras.layers import Dropout\n",
    "from keras.layers import Flatten\n",
    "from keras.constraints import max_norm\n",
    "from keras.optimizers import SGD\n",
    "from keras.layers import Conv2D\n",
    "from keras.layers import MaxPooling2D\n",
    "from keras.utils import to_categorical\n",
    "# load data\n",
    "(X_train, y_train), (X_test, y_test) = cifar10.load_data()"
   ]
  },
  {
   "cell_type": "markdown",
   "metadata": {
    "id": "krP_2p7ZKYTI"
   },
   "source": [
    "<a id=\"section2.2\"></a>\n",
    "# <font color=\"#004D7F\" size=5>2.2. Normalización</font>"
   ]
  },
  {
   "cell_type": "markdown",
   "metadata": {
    "id": "zFjmmrhYKYTI"
   },
   "source": [
    "Los valores de píxeles están en el rango de 0 a 255 para cada uno de los canales rojo, verde y azul por o que es una buena práctica normalizarlos."
   ]
  },
  {
   "cell_type": "code",
   "execution_count": null,
   "metadata": {
    "id": "NI3mer6OKYTI"
   },
   "outputs": [],
   "source": [
    "# normalize inputs from 0-255 to 0.0-1.0\n",
    "X_train = X_train.astype('float32')\n",
    "X_test = X_test.astype('float32')\n",
    "\n",
    "X_train, X_test = X_train / 255.0, X_test / 255.0"
   ]
  },
  {
   "cell_type": "markdown",
   "metadata": {
    "id": "DAlJAe5QKYTI"
   },
   "source": [
    "<a id=\"section2.3\"></a>\n",
    "# <font color=\"#004D7F\" size=5>2.3. One-Hot Encoding</font>"
   ]
  },
  {
   "cell_type": "markdown",
   "metadata": {
    "id": "jFM8K4s-KYTI"
   },
   "source": [
    "Las variables de salida se definen como un vector de números enteros de 0 a 1 para cada clase por lo que usamos One-Hot Encoding para transformar las 10 clases del problema."
   ]
  },
  {
   "cell_type": "code",
   "execution_count": null,
   "metadata": {
    "id": "jh8CiEZ7KYTI"
   },
   "outputs": [],
   "source": [
    "# one hot encode outputs\n",
    "y_train = to_categorical(y_train, num_classes= 10)\n",
    "y_test = to_categorical(y_test, num_classes = 10)"
   ]
  },
  {
   "cell_type": "markdown",
   "metadata": {
    "id": "A47XiUQbKYTI"
   },
   "source": [
    "<a id=\"section2.4\"></a>\n",
    "# <font color=\"#004D7F\" size=5>2.4. Desarrollar CNN de linea base</font>"
   ]
  },
  {
   "cell_type": "markdown",
   "metadata": {
    "id": "0rXFSuvBKYTI"
   },
   "source": [
    "Comencemos por definir una estructura CNN de linea base y evaluar qué tan bien se desempeña en el problema. Usaremos una estructura con dos capas convolucionales seguidas de agrupación máxima y un aplanamiento de la red a capas completamente conectadas para hacer predicciones. Nuestra estructura de red de referencia se puede resumir de la siguiente manera:\n",
    "1. Capa de entrada convolucional, 32 mapas de características con un tamaño de $3 × 3$, una función de activación ReLu y una restricción de peso de la norma máxima establecida en 3.\n",
    "2. Dropout en 20%.\n",
    "3. Capa convolucional, 32 mapas de características con un tamaño de $3 × 3$, una función de activación ReLu y una restricción de peso de la norma máxima establecida en 3.\n",
    "4. Capa Max Pool con el tamaño $2 × 2$.\n",
    "5. Aplanar la capa.\n",
    "6. Capa totalmente conectada con 512 unidades y función de activación de rectificador.\n",
    "7. Dropout en 50%.\n",
    "8. Capa de salida totalmente conectada con 10 unidades y función de activación Softmax.\n",
    "\n",
    "Finalmente, se utiliza una función de pérdida logarítmica con el algoritmo de optimización SGD configurado con un gran momentum y peso `decay`, comenzando con una tasa de aprendizaje de 0,01.\n",
    "\n",
    "A continuación se proporciona una visualización de la estructura de la red.\n"
   ]
  },
  {
   "cell_type": "code",
   "execution_count": null,
   "metadata": {
    "id": "tq5jrxwmwzA_"
   },
   "outputs": [],
   "source": [
    "from IPython.display import Image, display\n",
    "\n",
    "# Suponiendo que el nombre de la imagen es 'mi_imagen.jpg'\n",
    "display(Image('Img/4_Objetos_lineaBase.png'))"
   ]
  },
  {
   "cell_type": "code",
   "execution_count": null,
   "metadata": {
    "id": "tY9b88rArXaD"
   },
   "outputs": [],
   "source": [
    "# Definir la arquitectura del modelo\n",
    "model = Sequential()\n",
    "\n",
    "# Capa de entrada convolucional, 32 mapas de características con un tamaño de 3x3, una función de activación ReLU y una restricción de peso de la norma máxima establecida en 3.\n",
    "model.add(Conv2D(32, (3, 3), activation='relu', kernel_constraint=max_norm(3), input_shape=(32, 32, 3)))\n",
    "\n",
    "# Dropout en 20%\n",
    "model.add(Dropout(0.2))\n",
    "\n",
    "# Capa convolucional, 32 mapas de características con un tamaño de 3x3, una función de activación ReLU y una restricción de peso de la norma máxima establecida en 3.\n",
    "model.add(Conv2D(32, (3, 3), activation='relu', kernel_constraint=max_norm(3)))\n",
    "\n",
    "# Capa Max Pool con el tamaño 2x2\n",
    "model.add(MaxPooling2D())\n",
    "\n",
    "# Aplanar la capa\n",
    "model.add(Flatten())\n",
    "\n",
    "# Capa totalmente conectada con 512 unidades y función de activación de rectificador\n",
    "model.add(Dense(512, activation='relu', kernel_constraint=max_norm(3)))\n",
    "\n",
    "# Dropout en 50%\n",
    "model.add(Dropout(0.5))\n",
    "\n",
    "# Capa de salida totalmente conectada con 10 unidades y función de activación Softmax\n",
    "model.add(Dense(10, activation='softmax'))\n",
    "\n",
    "model.summary()"
   ]
  },
  {
   "cell_type": "code",
   "execution_count": null,
   "metadata": {
    "id": "hFA-eIkeEfSU"
   },
   "outputs": [],
   "source": [
    "# Compile model\n",
    "epochs = 25\n",
    "lrate = 0.01\n",
    "decay = lrate/epochs\n",
    "\n",
    "sgd = SGD(learning_rate=lrate, momentum=0.9, weight_decay= decay, nesterov=False)\n",
    "model.compile(optimizer=sgd, loss='categorical_crossentropy', metrics=['accuracy'])"
   ]
  },
  {
   "cell_type": "markdown",
   "metadata": {
    "id": "qeoxNa5pKYTJ"
   },
   "source": [
    "<a id=\"section2.5\"></a>\n",
    "# <font color=\"#004D7F\" size=5>2.5. Evaluación del modelo</font>"
   ]
  },
  {
   "cell_type": "markdown",
   "metadata": {
    "id": "wCYaVyODKYTJ"
   },
   "source": [
    "Ajustamos este modelo con 25 épocas y un tamaño de batch de 32.\n",
    "\n",
    "Se pone 25 con fines de obtener un resultado rápido pero pruebe con 150 épocas que sería más apropiado"
   ]
  },
  {
   "cell_type": "code",
   "execution_count": null,
   "metadata": {
    "id": "A7f6WnO3KYTJ"
   },
   "outputs": [],
   "source": [
    "# Fit the model\n",
    "model.fit(X_train, y_train, epochs=25, batch_size=32, validation_data=(X_test, y_test))\n",
    "# Final evaluation of the model\n",
    "score = model.evaluate(X_test, y_test, verbose=0)"
   ]
  },
  {
   "cell_type": "markdown",
   "metadata": {
    "id": "NjohpEhlKYTJ"
   },
   "source": [
    "---\n",
    "<div style=\"text-align: right\"> <font size=5> <a href=\"#indice\"><i class=\"fa fa-arrow-circle-up\" aria-hidden=\"true\" style=\"color:#004D7F\"></i></a></font></div>\n",
    "\n",
    "---"
   ]
  },
  {
   "cell_type": "markdown",
   "metadata": {
    "id": "dY1v6XeWyAid"
   },
   "source": [
    "<a id=\"section3\"></a>\n",
    "# <font color=\"#004D7F\" size=6>3. CNN más profunda</font>"
   ]
  },
  {
   "cell_type": "markdown",
   "metadata": {
    "id": "QfHsHHx9witS"
   },
   "source": [
    "En esta sección, analizaremos la ampliación del tamaño y la complejidad de nuestro modelo. Podemos introducir una ronda adicional de convoluciones con muchos más mapas de características. Usaremos el mismo patrón de capas convolucional, Dropout, convolucional y de Max-Pooling.\n",
    "\n",
    "Podemos resumir una nueva arquitectura de red como:\n",
    "1. Capa de entrada convolucional, 32 mapas de $3 × 3$ y función de activación ReLU.\n",
    "2. Capa Dropout al 20%.\n",
    "3. Capa convolucional, 32 mapas de $3 × 3$ y una función de activación ReLU.\n",
    "4. Capa Max-Pooling de $2 × 2$.\n",
    "5. Capa convolucional, 64 mapas de $3 × 3$ y función de activación ReLU.\n",
    "6. Capa Dropout al 20%.\n",
    "7. Capa convolucional, 64 mapas de $3 × 3$ y función de activación ReLU.\n",
    "8. Capa Max-Pooling de $2 × 2$.\n",
    "9. Capa convolucional, 128 mapas de $3 × 3$ y función de activación ReLU.\n",
    "10. Capa Dropout al 20%.\n",
    "11. Capa convolucional, 128 de $3 × 3$ y función de activación ReLU.\n",
    "12. Capa Max-Pooling de $2 × 2$.\n",
    "13. Aplanar la capa.\n",
    "14. Capa Dropout al 20%.\n",
    "15. Capa totalmente conectada con 1.024 neuronas y función de activación ReLU.\n",
    "16. Capa Dropout al 20%.\n",
    "17. Capa totalmente conectada con 512 neuronas y función de activación ReLU.\n",
    "18. Capa Dropout al 20%.\n",
    "19. Capa de salida totalmente conectada con 10 unidades y función de activación Softmax."
   ]
  },
  {
   "cell_type": "code",
   "execution_count": null,
   "metadata": {
    "id": "G7m5zosbKYTJ"
   },
   "outputs": [],
   "source": [
    "# Create the model\n",
    "???\n",
    "\n",
    "# Compile model\n",
    "???\n",
    "\n",
    "# Fit the model\n",
    "???\n",
    "\n",
    "# Final evaluation of the model\n",
    "???"
   ]
  },
  {
   "cell_type": "markdown",
   "metadata": {
    "id": "BMsMt3scKYTJ"
   },
   "source": [
    "---\n",
    "<div style=\"text-align: right\"> <font size=5> <a href=\"#indice\"><i class=\"fa fa-arrow-circle-up\" aria-hidden=\"true\" style=\"color:#004D7F\"></i></a></font></div>\n",
    "\n",
    "---"
   ]
  },
  {
   "cell_type": "markdown",
   "metadata": {
    "id": "guO0cjm_KYTJ"
   },
   "source": [
    "<a id=\"section4\"></a>\n",
    "# <font color=\"#004D7F\" size=6>4. Rendimiento del modelo </font>"
   ]
  },
  {
   "cell_type": "markdown",
   "metadata": {
    "id": "6EHyXvicKYTK"
   },
   "source": [
    "Trabajo para vosotros:\n",
    "* **Entrena para más épocas**. Es común entrenar grandes redes neuronales convolucionales durante cientos o miles de épocas.\n",
    "* **Data Augmentation**. Los objetos de la imagen varían en su posición.\n",
    "* **Topología de red más profunda**. La red más grande presentada es profunda, pero se podrían diseñar redes más grandes para el problema."
   ]
  },
  {
   "cell_type": "code",
   "execution_count": null,
   "metadata": {
    "colab": {
     "base_uri": "https://localhost:8080/",
     "height": 1000
    },
    "executionInfo": {
     "elapsed": 3664190,
     "status": "ok",
     "timestamp": 1716550900457,
     "user": {
      "displayName": "Aldo Munaretto",
      "userId": "00686307437549586015"
     },
     "user_tz": -120
    },
    "id": "jFMaERfSMCCl",
    "outputId": "1f6105ce-9fa7-4696-a91e-f531443b5b3d"
   },
   "outputs": [
    {
     "name": "stdout",
     "output_type": "stream",
     "text": [
      "Epoch 1/25\n",
      "782/782 [==============================] - 149s 188ms/step - loss: 1.6215 - accuracy: 0.4006 - val_loss: 1.2681 - val_accuracy: 0.5502\n",
      "Epoch 2/25\n",
      "782/782 [==============================] - 148s 190ms/step - loss: 1.2560 - accuracy: 0.5466 - val_loss: 1.0952 - val_accuracy: 0.6123\n",
      "Epoch 3/25\n",
      "782/782 [==============================] - 151s 193ms/step - loss: 1.1147 - accuracy: 0.6042 - val_loss: 0.9687 - val_accuracy: 0.6612\n",
      "Epoch 4/25\n",
      "782/782 [==============================] - 148s 189ms/step - loss: 1.0271 - accuracy: 0.6360 - val_loss: 0.8552 - val_accuracy: 0.7003\n",
      "Epoch 5/25\n",
      "782/782 [==============================] - 148s 189ms/step - loss: 0.9632 - accuracy: 0.6597 - val_loss: 0.8004 - val_accuracy: 0.7207\n",
      "Epoch 6/25\n",
      "782/782 [==============================] - 147s 188ms/step - loss: 0.9207 - accuracy: 0.6762 - val_loss: 0.7848 - val_accuracy: 0.7305\n",
      "Epoch 7/25\n",
      "782/782 [==============================] - 141s 181ms/step - loss: 0.8794 - accuracy: 0.6929 - val_loss: 0.7839 - val_accuracy: 0.7262\n",
      "Epoch 8/25\n",
      "782/782 [==============================] - 141s 180ms/step - loss: 0.8480 - accuracy: 0.7019 - val_loss: 0.7685 - val_accuracy: 0.7350\n",
      "Epoch 9/25\n",
      "782/782 [==============================] - 145s 185ms/step - loss: 0.8285 - accuracy: 0.7101 - val_loss: 0.7101 - val_accuracy: 0.7509\n",
      "Epoch 10/25\n",
      "782/782 [==============================] - 140s 179ms/step - loss: 0.8013 - accuracy: 0.7192 - val_loss: 0.7151 - val_accuracy: 0.7483\n",
      "Epoch 11/25\n",
      "782/782 [==============================] - 144s 184ms/step - loss: 0.7850 - accuracy: 0.7236 - val_loss: 0.6910 - val_accuracy: 0.7597\n",
      "Epoch 12/25\n",
      "782/782 [==============================] - 142s 182ms/step - loss: 0.7643 - accuracy: 0.7304 - val_loss: 0.6864 - val_accuracy: 0.7619\n",
      "Epoch 13/25\n",
      "782/782 [==============================] - 146s 187ms/step - loss: 0.7560 - accuracy: 0.7341 - val_loss: 0.7138 - val_accuracy: 0.7518\n",
      "Epoch 14/25\n",
      "782/782 [==============================] - 145s 186ms/step - loss: 0.7399 - accuracy: 0.7394 - val_loss: 0.6581 - val_accuracy: 0.7713\n",
      "Epoch 15/25\n",
      "782/782 [==============================] - 146s 187ms/step - loss: 0.7235 - accuracy: 0.7454 - val_loss: 0.6766 - val_accuracy: 0.7640\n",
      "Epoch 16/25\n",
      "782/782 [==============================] - 148s 190ms/step - loss: 0.7143 - accuracy: 0.7509 - val_loss: 0.6630 - val_accuracy: 0.7716\n",
      "Epoch 17/25\n",
      "782/782 [==============================] - 149s 190ms/step - loss: 0.7030 - accuracy: 0.7518 - val_loss: 0.6861 - val_accuracy: 0.7661\n",
      "Epoch 18/25\n",
      "782/782 [==============================] - 146s 187ms/step - loss: 0.6977 - accuracy: 0.7540 - val_loss: 0.6351 - val_accuracy: 0.7800\n",
      "Epoch 19/25\n",
      "782/782 [==============================] - 151s 194ms/step - loss: 0.6853 - accuracy: 0.7592 - val_loss: 0.6351 - val_accuracy: 0.7792\n",
      "Epoch 20/25\n",
      "782/782 [==============================] - 142s 182ms/step - loss: 0.6838 - accuracy: 0.7601 - val_loss: 0.6250 - val_accuracy: 0.7876\n",
      "Epoch 21/25\n",
      "782/782 [==============================] - 145s 185ms/step - loss: 0.6696 - accuracy: 0.7639 - val_loss: 0.6686 - val_accuracy: 0.7698\n",
      "Epoch 22/25\n",
      "782/782 [==============================] - 144s 184ms/step - loss: 0.6682 - accuracy: 0.7640 - val_loss: 0.6585 - val_accuracy: 0.7730\n",
      "Epoch 23/25\n",
      "782/782 [==============================] - 143s 183ms/step - loss: 0.6588 - accuracy: 0.7695 - val_loss: 0.6303 - val_accuracy: 0.7828\n",
      "Epoch 24/25\n",
      "782/782 [==============================] - 148s 189ms/step - loss: 0.6537 - accuracy: 0.7683 - val_loss: 0.6067 - val_accuracy: 0.7883\n",
      "Epoch 25/25\n",
      "782/782 [==============================] - 143s 183ms/step - loss: 0.6389 - accuracy: 0.7754 - val_loss: 0.6126 - val_accuracy: 0.7922\n",
      "313/313 - 8s - loss: 0.6126 - accuracy: 0.7922 - 8s/epoch - 26ms/step\n",
      "Precisión en el conjunto de prueba: 0.7922000288963318\n"
     ]
    },
    {
     "data": {
      "image/png": "[encoded data removed]",
      "text/plain": [
       "<Figure size 640x480 with 1 Axes>"
      ]
     },
     "metadata": {},
     "output_type": "display_data"
    },
    {
     "data": {
      "image/png": "[encoded data removed]",
      "text/plain": [
       "<Figure size 640x480 with 1 Axes>"
      ]
     },
     "metadata": {},
     "output_type": "display_data"
    }
   ],
   "source": [
    "import tensorflow as tf\n",
    "from tensorflow.keras import datasets, layers, models\n",
    "import matplotlib.pyplot as plt\n",
    "\n",
    "# Cargar y preprocesar el conjunto de datos CIFAR-10\n",
    "(X_train, y_train), (X_test, y_test) = datasets.cifar10.load_data()\n",
    "\n",
    "# Normalizar los datos de entrada a valores entre 0 y 1\n",
    "X_train, X_test = X_train / 255.0, X_test / 255.0\n",
    "\n",
    "# Definir la arquitectura del modelo\n",
    "model = models.Sequential()\n",
    "\n",
    "# Primera capa convolucional con 32 filtros, tamaño de kernel 3x3, padding 'same' y activación ReLU\n",
    "model.add(layers.Conv2D(32, (3, 3), padding='same', activation='relu', input_shape=(32, 32, 3)))\n",
    "model.add(layers.MaxPooling2D((2, 2)))\n",
    "model.add(layers.Dropout(0.2))\n",
    "\n",
    "# Segunda capa convolucional con 64 filtros, tamaño de kernel 3x3, padding 'same' y activación ReLU\n",
    "model.add(layers.Conv2D(64, (3, 3), padding='same', activation='relu'))\n",
    "model.add(layers.MaxPooling2D((2, 2)))\n",
    "model.add(layers.Dropout(0.3))\n",
    "\n",
    "# Tercera capa convolucional con 128 filtros, tamaño de kernel 3x3, padding 'same' y activación ReLU\n",
    "model.add(layers.Conv2D(128, (3, 3), padding='same', activation='relu'))\n",
    "model.add(layers.MaxPooling2D((2, 2)))\n",
    "model.add(layers.Dropout(0.4))\n",
    "\n",
    "# Aplanar la capa\n",
    "model.add(layers.Flatten())\n",
    "\n",
    "# Capa totalmente conectada con 512 unidades y activación ReLU\n",
    "model.add(layers.Dense(512, activation='relu'))\n",
    "model.add(layers.Dropout(0.5))\n",
    "\n",
    "# Capa de salida totalmente conectada con 10 unidades y activación Softmax\n",
    "model.add(layers.Dense(10, activation='softmax'))\n",
    "\n",
    "# Compilar el modelo\n",
    "model.compile(optimizer='adam', loss='sparse_categorical_crossentropy', metrics=['accuracy'])\n",
    "\n",
    "# Entrenar el modelo\n",
    "history = model.fit(X_train, y_train, epochs=25, batch_size=64, validation_data=(X_test, y_test))\n",
    "\n",
    "# Evaluar el modelo en el conjunto de prueba\n",
    "test_loss, test_acc = model.evaluate(X_test, y_test, verbose=2)\n",
    "print(f'Precisión en el conjunto de prueba: {test_acc}')\n",
    "\n",
    "# Graficar la precisión y la pérdida durante el entrenamiento\n",
    "plt.plot(history.history['accuracy'], label='Precisión de entrenamiento')\n",
    "plt.plot(history.history['val_accuracy'], label='Precisión de validación')\n",
    "plt.xlabel('Épocas')\n",
    "plt.ylabel('Precisión')\n",
    "plt.legend()\n",
    "plt.show()\n",
    "\n",
    "plt.plot(history.history['loss'], label='Pérdida de entrenamiento')\n",
    "plt.plot(history.history['val_loss'], label='Pérdida de validación')\n",
    "plt.xlabel('Épocas')\n",
    "plt.ylabel('Pérdida')\n",
    "plt.legend()\n",
    "plt.show()\n"
   ]
  },
  {
   "cell_type": "markdown",
   "metadata": {
    "id": "wriYgLxaKYTK"
   },
   "source": [
    "<div style=\"text-align: right\"> <font size=5> <a href=\"#indice\"><i class=\"fa fa-arrow-circle-up\" aria-hidden=\"true\" style=\"color:#004D7F\"></i></a></font></div>\n",
    "\n",
    "---\n",
    "\n",
    "<div style=\"text-align: right\"> <font size=6><i class=\"fa fa-coffee\" aria-hidden=\"true\" style=\"color:#004D7F\"></i> </font></div>"
   ]
  }
 ],
 "metadata": {
  "colab": {
   "provenance": []
  },
  "kernelspec": {
   "display_name": "Python 3",
   "language": "python",
   "name": "python3"
  },
  "language_info": {
   "codemirror_mode": {
    "name": "ipython",
    "version": 3
   },
   "file_extension": ".py",
   "mimetype": "text/x-python",
   "name": "python",
   "nbconvert_exporter": "python",
   "pygments_lexer": "ipython3",
   "version": "3.6.9"
  }
 },
 "nbformat": 4,
 "nbformat_minor": 0
}
