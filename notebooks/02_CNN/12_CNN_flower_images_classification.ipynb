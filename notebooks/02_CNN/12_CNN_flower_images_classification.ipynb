{
 "cells": [
  {
   "cell_type": "markdown",
   "metadata": {},
   "source": [
    "[![Open in Colab](https://colab.research.google.com/assets/colab-badge.svg)](https://colab.research.google.com/github/aldomunaretto/immune_deep_learning/blob/main/notebooks/02_CNN/12_CNN_flower_images_classification.ipynb)"
   ]
  },
  {
   "cell_type": "markdown",
   "metadata": {
    "id": "8AnXqzZ0flyw"
   },
   "source": [
    "<h1><font color=\"#113D68\" size=6>Redes Neuronales Convolucionales</font></h1>\n",
    "\n",
    "<h1><font color=\"#113D68\" size=5>4. Clasificar Imagenes de Flores</font></h1>"
   ]
  },
  {
   "cell_type": "markdown",
   "metadata": {
    "id": "_Yod_clpkHGm"
   },
   "source": [
    "---\n",
    "<div style=\"text-align: right\"> <font size=5> <a href=\"#indice\"><i class=\"fa fa-arrow-circle-up\" aria-hidden=\"true\" style=\"color:#004D7F\"></i></a></font></div>\n",
    "\n",
    "---"
   ]
  },
  {
   "cell_type": "markdown",
   "metadata": {
    "id": "406Tfz90kHGm"
   },
   "source": [
    "# <font color=\"#004D7F\" size=5>VGG 102 Category Flowers</font>"
   ]
  },
  {
   "cell_type": "markdown",
   "metadata": {
    "id": "wCC1f-4KkHGm"
   },
   "source": [
    "Este dataset trata de un problema de clasificación de imágenes donde la clase es una de las 102 posibles etiquetas que representan a las flores que aparecen en mismo."
   ]
  },
  {
   "cell_type": "code",
   "execution_count": 1,
   "metadata": {
    "colab": {
     "base_uri": "https://localhost:8080/"
    },
    "executionInfo": {
     "elapsed": 213624,
     "status": "ok",
     "timestamp": 1717008179561,
     "user": {
      "displayName": "Aldo Munaretto",
      "userId": "00686307437549586015"
     },
     "user_tz": -120
    },
    "id": "WReTkX6T1ADw",
    "outputId": "45825bab-8192-4a18-f85f-da55c187c7dc"
   },
   "outputs": [
    {
     "name": "stdout",
     "output_type": "stream",
     "text": [
      "...1631%, 0 MB, 20128 KB/s, 0 seconds passed"
     ]
    },
    {
     "data": {
      "text/plain": [
       "('vgg102flowers_targets.mat', <http.client.HTTPMessage at 0x7be350104370>)"
      ]
     },
     "execution_count": 1,
     "metadata": {},
     "output_type": "execute_result"
    }
   ],
   "source": [
    "import sys\n",
    "import time\n",
    "import urllib.request\n",
    "import tarfile\n",
    "import numpy as np\n",
    "\n",
    "def reporthook(count, block_size, total_size):\n",
    "    # From: https://blog.shichao.io/2012/10/04/progress_speed_indicator_for_urlretrieve_in_python.html\n",
    "    global start_time\n",
    "    if count == 0:\n",
    "        start_time = time.time()\n",
    "        return\n",
    "    duration = time.time() - start_time\n",
    "    progress_size = int(count * block_size)\n",
    "    speed = int(progress_size / (1024 * duration))\n",
    "    percent = int(count * block_size * 100 / total_size)\n",
    "    sys.stdout.write(\"\\r...%d%%, %d MB, %d KB/s, %d seconds passed\" %\n",
    "                    (percent, progress_size / (1024 * 1024), speed, duration))\n",
    "    sys.stdout.flush()\n",
    "\n",
    "# Download and extract\n",
    "data_url = 'http://www.robots.ox.ac.uk/~vgg/data/flowers/102/102flowers.tgz'\n",
    "urllib.request.urlretrieve(data_url, 'vgg102flowers.tar.gz', reporthook)\n",
    "tar = tarfile.open('vgg102flowers.tar.gz', \"r:gz\")\n",
    "tar.extractall()\n",
    "tar.close()\n",
    "\n",
    "labels_url = 'http://www.robots.ox.ac.uk/~vgg/data/flowers/102/imagelabels.mat'\n",
    "urllib.request.urlretrieve(labels_url, 'vgg102flowers_targets.mat', reporthook)"
   ]
  },
  {
   "cell_type": "code",
   "execution_count": 2,
   "metadata": {
    "colab": {
     "base_uri": "https://localhost:8080/"
    },
    "executionInfo": {
     "elapsed": 12,
     "status": "ok",
     "timestamp": 1717008179561,
     "user": {
      "displayName": "Aldo Munaretto",
      "userId": "00686307437549586015"
     },
     "user_tz": -120
    },
    "id": "7LdAHe4HUK4z",
    "outputId": "68ecddfd-affe-49ba-fe0f-03e4cbce0ae0"
   },
   "outputs": [
    {
     "name": "stdout",
     "output_type": "stream",
     "text": [
      "Loaded 8189 files.\n"
     ]
    }
   ],
   "source": [
    "from glob import glob\n",
    "from scipy.io import loadmat\n",
    "\n",
    "# Ficheros\n",
    "files = np.array(sorted(glob(\"jpg/*\")))\n",
    "\n",
    "# Targets\n",
    "mat = loadmat('vgg102flowers_targets.mat')\n",
    "labels = mat['labels'][0] - 1\n",
    "\n",
    "# Random permute (we can also shuffle the dataset)\n",
    "idx = np.random.permutation(len(files))\n",
    "files = files[idx]\n",
    "labels = labels[idx]\n",
    "\n",
    "# Cargar nombres de clases\n",
    "# From: https://github.com/jimgoo/caffe-oxford102\n",
    "names = ['pink primrose', 'hard-leaved pocket orchid', 'canterbury bells', 'sweet pea', 'english marigold', 'tiger lily', 'moon orchid', 'bird of paradise', 'monkshood', 'globe thistle', 'snapdragon', \"colt's foot\", 'king protea', 'spear thistle', 'yellow iris', 'globe-flower', 'purple coneflower', 'peruvian lily', 'balloon flower', 'giant white arum lily', 'fire lily', 'pincushion flower', 'fritillary', 'red ginger', 'grape hyacinth', 'corn poppy', 'prince of wales feathers', 'stemless gentian', 'artichoke', 'sweet william', 'carnation', 'garden phlox', 'love in the mist', 'mexican aster', 'alpine sea holly', 'ruby-lipped cattleya', 'cape flower', 'great masterwort', 'siam tulip', 'lenten rose', 'barbeton daisy', 'daffodil', 'sword lily', 'poinsettia', 'bolero deep blue', 'wallflower', 'marigold', 'buttercup', 'oxeye daisy', 'common dandelion', 'petunia', 'wild pansy', 'primula', 'sunflower', 'pelargonium', 'bishop of llandaff', 'gaura', 'geranium', 'orange dahlia', 'pink-yellow dahlia?', 'cautleya spicata', 'japanese anemone', 'black-eyed susan', 'silverbush', 'californian poppy', 'osteospermum', 'spring crocus', 'bearded iris', 'windflower', 'tree poppy', 'gazania', 'azalea', 'water lily', 'rose', 'thorn apple', 'morning glory', 'passion flower', 'lotus', 'toad lily', 'anthurium', 'frangipani', 'clematis', 'hibiscus', 'columbine', 'desert-rose', 'tree mallow', 'magnolia', 'cyclamen ', 'watercress', 'canna lily', 'hippeastrum ', 'bee balm', 'ball moss', 'foxglove', 'bougainvillea', 'camellia', 'mallow', 'mexican petunia', 'bromelia', 'blanket flower', 'trumpet creeper', 'blackberry lily']\n",
    "\n",
    "print(\"Loaded %d files.\" % len(files))"
   ]
  },
  {
   "cell_type": "code",
   "execution_count": 3,
   "metadata": {
    "colab": {
     "base_uri": "https://localhost:8080/"
    },
    "executionInfo": {
     "elapsed": 10,
     "status": "ok",
     "timestamp": 1717008179562,
     "user": {
      "displayName": "Aldo Munaretto",
      "userId": "00686307437549586015"
     },
     "user_tz": -120
    },
    "id": "1Ikkpck7gE-O",
    "outputId": "a130915b-a9b4-4fdb-9e5a-295c0c3d9956"
   },
   "outputs": [
    {
     "name": "stdout",
     "output_type": "stream",
     "text": [
      "Train:  (4913,)\n",
      "Valid:  (1638,)\n",
      "Test:  (1638,)\n"
     ]
    }
   ],
   "source": [
    "from sklearn.model_selection import train_test_split\n",
    "\n",
    "# Train/valid/test split\n",
    "train_valid_files, test_files, train_valid_labels, test_labels = train_test_split(\n",
    "    files, labels, test_size=0.2, random_state=1234, stratify=labels)\n",
    "train_files, valid_files, train_labels, valid_labels = train_test_split(\n",
    "    train_valid_files, train_valid_labels, test_size=0.25, random_state=5678, stratify=train_valid_labels)\n",
    "\n",
    "print(\"Train: \", train_files.shape)\n",
    "print(\"Valid: \", valid_files.shape)\n",
    "print(\"Test: \", test_files.shape)\n",
    "\n",
    "del train_valid_files, train_valid_labels"
   ]
  },
  {
   "cell_type": "markdown",
   "metadata": {
    "id": "as6sf60jgfmX"
   },
   "source": [
    "Ahora vamos a utilizar las funciones de **Keras** para preparar un iterador que recorra las imágenes de la carpeta y así poder entrenar nuestra red neuronal. Extisten varias opciones para realizar este iterador, así como formas de hacer data augmentation y de extender dichas opciones a las predefinidas en Keras. Se recomienda echar un vistazo a la página de [procesamiento de imágenes.](https://keras.io/preprocessing/image/)\n",
    "\n",
    "En este caso vamos a empezar leyendo de un DataFrame de pandas con dos columnas, una con la ruta a la imagen y otra con la etiqueta correspondiente. Todo esto lo haremos a través de la clase `ImageDataGenerator`, que se divide en dos partes como veremos a continuación."
   ]
  },
  {
   "cell_type": "code",
   "execution_count": 4,
   "metadata": {
    "executionInfo": {
     "elapsed": 9,
     "status": "ok",
     "timestamp": 1717008179562,
     "user": {
      "displayName": "Aldo Munaretto",
      "userId": "00686307437549586015"
     },
     "user_tz": -120
    },
    "id": "BRKz-6lAhtfh"
   },
   "outputs": [],
   "source": [
    "import pandas as pd\n",
    "\n",
    "train_frame = pd.DataFrame(np.array([train_files, train_labels]).T, columns=['files','labels'])\n",
    "valid_frame = pd.DataFrame(np.array([valid_files, valid_labels]).T, columns=['files','labels'])\n",
    "test_frame = pd.DataFrame(np.array([test_files, test_labels]).T, columns=['files','labels'])"
   ]
  },
  {
   "cell_type": "code",
   "execution_count": 5,
   "metadata": {
    "colab": {
     "base_uri": "https://localhost:8080/"
    },
    "executionInfo": {
     "elapsed": 9,
     "status": "ok",
     "timestamp": 1717008179562,
     "user": {
      "displayName": "Aldo Munaretto",
      "userId": "00686307437549586015"
     },
     "user_tz": -120
    },
    "id": "1L5JUz_pvX7B",
    "outputId": "02fa8566-36c4-4ca3-d8f2-bb32b14a3f65"
   },
   "outputs": [
    {
     "name": "stdout",
     "output_type": "stream",
     "text": [
      "Found 4913 validated image filenames belonging to 102 classes.\n",
      "Found 1638 validated image filenames belonging to 102 classes.\n",
      "Found 1638 validated image filenames belonging to 102 classes.\n"
     ]
    }
   ],
   "source": [
    "from keras.preprocessing.image import ImageDataGenerator\n",
    "\n",
    "# cuando definimos ImageDataGenerator incluimos los preprocesamientos a realizar\n",
    "train_datagen = ImageDataGenerator(rescale=1./255)\n",
    "valid_datagen = ImageDataGenerator(rescale=1./255)\n",
    "test_datagen = ImageDataGenerator(rescale=1./255)\n",
    "\n",
    "# y con esta indicamos como vamos a leer la información y de donde.\n",
    "train_iter = train_datagen.flow_from_dataframe(train_frame,\n",
    "                                               x_col='files',\n",
    "                                               y_col='labels',\n",
    "                                               target_size=(100, 120),\n",
    "                                               class_mode='categorical',\n",
    "                                               batch_size=32,\n",
    "                                               shuffle=True)\n",
    "\n",
    "valid_iter = valid_datagen.flow_from_dataframe(valid_frame,\n",
    "                                               x_col='files',\n",
    "                                               y_col='labels',\n",
    "                                               target_size=(100, 120),\n",
    "                                               class_mode='categorical',\n",
    "                                               batch_size=32,\n",
    "                                               shuffle=False)\n",
    "\n",
    "test_iter = test_datagen.flow_from_dataframe(test_frame,\n",
    "                                             x_col='files',\n",
    "                                             y_col='labels',\n",
    "                                             target_size=(100, 120),\n",
    "                                             class_mode='categorical',\n",
    "                                             batch_size=32,\n",
    "                                             shuffle=False)"
   ]
  },
  {
   "cell_type": "markdown",
   "metadata": {
    "id": "7Bdy_Y34fl0D"
   },
   "source": [
    "# <font color=\"#004D7F\" size=5>Red Convolucional</font>"
   ]
  },
  {
   "cell_type": "markdown",
   "metadata": {
    "id": "xgB438mmkHGp"
   },
   "source": [
    "En esta sección vamos a definir una red al estilo de [AlexNet](https://proceedings.neurips.cc/paper/2012/file/c399862d3b9d6b76c8436e924a68c45b-Paper.pdf). Muchas de las redes convolucionales para el tratamiento de imágenes siguen estos patrones:\n",
    "* 1 o varios bloques convolucionales compuestos, que incluye:\n",
    "  * 1 o varias capas convolucionales, todas con activación ReLU\n",
    "  * 1 capa Max Pooling\n",
    "* 1 o varias capas densas o `Fully connected` con activación ReLU\n",
    "* 1 capa de salida con softmax\n",
    "\n",
    "Siguiendo este esquema, vamos a diseñar una red con dos capas convolucionales compuestas, una densa y la salida de nuestro problema."
   ]
  },
  {
   "cell_type": "code",
   "execution_count": 6,
   "metadata": {
    "executionInfo": {
     "elapsed": 7,
     "status": "ok",
     "timestamp": 1717008179562,
     "user": {
      "displayName": "Aldo Munaretto",
      "userId": "00686307437549586015"
     },
     "user_tz": -120
    },
    "id": "rfYl9GyUSNTi"
   },
   "outputs": [],
   "source": [
    "from keras.models import Sequential\n",
    "from keras.layers import Dense, Dropout, Flatten\n",
    "from keras.layers import Conv2D, MaxPooling2D\n",
    "from keras.optimizers import SGD\n",
    "\n",
    "# definimos el modelo lineal\n",
    "model = Sequential()\n",
    "\n",
    "# recordemos que en la primera capa hay que indicar el tamaño de la entrada\n",
    "model.add(Conv2D(32, (5, 5), activation='relu', input_shape=(100, 120, 3)))\n",
    "model.add(MaxPooling2D())\n",
    "\n",
    "model.add(Conv2D(64, (5, 5), activation='relu'))\n",
    "model.add(MaxPooling2D())\n",
    "\n",
    "# Antes de poder pasar de la capa convolucional a la densa, es necesario \"aplanar\" la salida, por eso se usa Flatten\n",
    "model.add(Flatten())\n",
    "model.add(Dense(1024, activation='relu'))\n",
    "model.add(Dropout(0.5))\n",
    "\n",
    "# finalmente creamos la capa de salida, con el tamaño de las etiquetas de nuestro problema\n",
    "model.add(Dense(102, activation='softmax'))"
   ]
  },
  {
   "cell_type": "markdown",
   "metadata": {
    "id": "Pu1sqpLjfl0H"
   },
   "source": [
    "## <font color=\"#004D7F\" size=4>summary</font>\n",
    "Esta función nos muestra una tabla con las capas que forman nuestra red, asi como su tamaño y el número de parámetros a entrenar por capa."
   ]
  },
  {
   "cell_type": "code",
   "execution_count": 7,
   "metadata": {
    "colab": {
     "base_uri": "https://localhost:8080/"
    },
    "executionInfo": {
     "elapsed": 898,
     "status": "ok",
     "timestamp": 1717008180453,
     "user": {
      "displayName": "Aldo Munaretto",
      "userId": "00686307437549586015"
     },
     "user_tz": -120
    },
    "id": "_6ChCRXOfl0I",
    "outputId": "d6385d37-1889-4186-8cfb-bf5751a844ee"
   },
   "outputs": [
    {
     "name": "stdout",
     "output_type": "stream",
     "text": [
      "Model: \"sequential\"\n",
      "_________________________________________________________________\n",
      " Layer (type)                Output Shape              Param #   \n",
      "=================================================================\n",
      " conv2d (Conv2D)             (None, 96, 116, 32)       2432      \n",
      "                                                                 \n",
      " max_pooling2d (MaxPooling2  (None, 48, 58, 32)        0         \n",
      " D)                                                              \n",
      "                                                                 \n",
      " conv2d_1 (Conv2D)           (None, 44, 54, 64)        51264     \n",
      "                                                                 \n",
      " max_pooling2d_1 (MaxPoolin  (None, 22, 27, 64)        0         \n",
      " g2D)                                                            \n",
      "                                                                 \n",
      " flatten (Flatten)           (None, 38016)             0         \n",
      "                                                                 \n",
      " dense (Dense)               (None, 1024)              38929408  \n",
      "                                                                 \n",
      " dropout (Dropout)           (None, 1024)              0         \n",
      "                                                                 \n",
      " dense_1 (Dense)             (None, 102)               104550    \n",
      "                                                                 \n",
      "=================================================================\n",
      "Total params: 39087654 (149.11 MB)\n",
      "Trainable params: 39087654 (149.11 MB)\n",
      "Non-trainable params: 0 (0.00 Byte)\n",
      "_________________________________________________________________\n"
     ]
    }
   ],
   "source": [
    "model.summary()"
   ]
  },
  {
   "cell_type": "markdown",
   "metadata": {
    "id": "X5ClAadXfl0O"
   },
   "source": [
    "## <font color=\"#004D7F\" size=4>get_config</font>\n",
    "Esta función nos devuelve la configuración de una red, en una estructura de diccionario y que se puede utilizar para inicializar otros modelos. Es una forma muy sencilla de exportar/importar la estructura de las redes."
   ]
  },
  {
   "cell_type": "code",
   "execution_count": 8,
   "metadata": {
    "colab": {
     "base_uri": "https://localhost:8080/"
    },
    "executionInfo": {
     "elapsed": 6,
     "status": "ok",
     "timestamp": 1717008180453,
     "user": {
      "displayName": "Aldo Munaretto",
      "userId": "00686307437549586015"
     },
     "user_tz": -120
    },
    "id": "VPxDGyNYfl0P",
    "outputId": "b5dfc0d3-55cc-4bfd-e2bb-1306a52623e2",
    "scrolled": true
   },
   "outputs": [
    {
     "data": {
      "text/plain": [
       "{'name': 'sequential',\n",
       " 'layers': [{'module': 'keras.layers',\n",
       "   'class_name': 'InputLayer',\n",
       "   'config': {'batch_input_shape': (None, 100, 120, 3),\n",
       "    'dtype': 'float32',\n",
       "    'sparse': False,\n",
       "    'ragged': False,\n",
       "    'name': 'conv2d_input'},\n",
       "   'registered_name': None},\n",
       "  {'module': 'keras.layers',\n",
       "   'class_name': 'Conv2D',\n",
       "   'config': {'name': 'conv2d',\n",
       "    'trainable': True,\n",
       "    'dtype': 'float32',\n",
       "    'batch_input_shape': (None, 100, 120, 3),\n",
       "    'filters': 32,\n",
       "    'kernel_size': (5, 5),\n",
       "    'strides': (1, 1),\n",
       "    'padding': 'valid',\n",
       "    'data_format': 'channels_last',\n",
       "    'dilation_rate': (1, 1),\n",
       "    'groups': 1,\n",
       "    'activation': 'relu',\n",
       "    'use_bias': True,\n",
       "    'kernel_initializer': {'module': 'keras.initializers',\n",
       "     'class_name': 'GlorotUniform',\n",
       "     'config': {'seed': None},\n",
       "     'registered_name': None},\n",
       "    'bias_initializer': {'module': 'keras.initializers',\n",
       "     'class_name': 'Zeros',\n",
       "     'config': {},\n",
       "     'registered_name': None},\n",
       "    'kernel_regularizer': None,\n",
       "    'bias_regularizer': None,\n",
       "    'activity_regularizer': None,\n",
       "    'kernel_constraint': None,\n",
       "    'bias_constraint': None},\n",
       "   'registered_name': None,\n",
       "   'build_config': {'input_shape': (None, 100, 120, 3)}},\n",
       "  {'module': 'keras.layers',\n",
       "   'class_name': 'MaxPooling2D',\n",
       "   'config': {'name': 'max_pooling2d',\n",
       "    'trainable': True,\n",
       "    'dtype': 'float32',\n",
       "    'pool_size': (2, 2),\n",
       "    'padding': 'valid',\n",
       "    'strides': (2, 2),\n",
       "    'data_format': 'channels_last'},\n",
       "   'registered_name': None,\n",
       "   'build_config': {'input_shape': (None, 96, 116, 32)}},\n",
       "  {'module': 'keras.layers',\n",
       "   'class_name': 'Conv2D',\n",
       "   'config': {'name': 'conv2d_1',\n",
       "    'trainable': True,\n",
       "    'dtype': 'float32',\n",
       "    'filters': 64,\n",
       "    'kernel_size': (5, 5),\n",
       "    'strides': (1, 1),\n",
       "    'padding': 'valid',\n",
       "    'data_format': 'channels_last',\n",
       "    'dilation_rate': (1, 1),\n",
       "    'groups': 1,\n",
       "    'activation': 'relu',\n",
       "    'use_bias': True,\n",
       "    'kernel_initializer': {'module': 'keras.initializers',\n",
       "     'class_name': 'GlorotUniform',\n",
       "     'config': {'seed': None},\n",
       "     'registered_name': None},\n",
       "    'bias_initializer': {'module': 'keras.initializers',\n",
       "     'class_name': 'Zeros',\n",
       "     'config': {},\n",
       "     'registered_name': None},\n",
       "    'kernel_regularizer': None,\n",
       "    'bias_regularizer': None,\n",
       "    'activity_regularizer': None,\n",
       "    'kernel_constraint': None,\n",
       "    'bias_constraint': None},\n",
       "   'registered_name': None,\n",
       "   'build_config': {'input_shape': (None, 48, 58, 32)}},\n",
       "  {'module': 'keras.layers',\n",
       "   'class_name': 'MaxPooling2D',\n",
       "   'config': {'name': 'max_pooling2d_1',\n",
       "    'trainable': True,\n",
       "    'dtype': 'float32',\n",
       "    'pool_size': (2, 2),\n",
       "    'padding': 'valid',\n",
       "    'strides': (2, 2),\n",
       "    'data_format': 'channels_last'},\n",
       "   'registered_name': None,\n",
       "   'build_config': {'input_shape': (None, 44, 54, 64)}},\n",
       "  {'module': 'keras.layers',\n",
       "   'class_name': 'Flatten',\n",
       "   'config': {'name': 'flatten',\n",
       "    'trainable': True,\n",
       "    'dtype': 'float32',\n",
       "    'data_format': 'channels_last'},\n",
       "   'registered_name': None,\n",
       "   'build_config': {'input_shape': (None, 22, 27, 64)}},\n",
       "  {'module': 'keras.layers',\n",
       "   'class_name': 'Dense',\n",
       "   'config': {'name': 'dense',\n",
       "    'trainable': True,\n",
       "    'dtype': 'float32',\n",
       "    'units': 1024,\n",
       "    'activation': 'relu',\n",
       "    'use_bias': True,\n",
       "    'kernel_initializer': {'module': 'keras.initializers',\n",
       "     'class_name': 'GlorotUniform',\n",
       "     'config': {'seed': None},\n",
       "     'registered_name': None},\n",
       "    'bias_initializer': {'module': 'keras.initializers',\n",
       "     'class_name': 'Zeros',\n",
       "     'config': {},\n",
       "     'registered_name': None},\n",
       "    'kernel_regularizer': None,\n",
       "    'bias_regularizer': None,\n",
       "    'activity_regularizer': None,\n",
       "    'kernel_constraint': None,\n",
       "    'bias_constraint': None},\n",
       "   'registered_name': None,\n",
       "   'build_config': {'input_shape': (None, 38016)}},\n",
       "  {'module': 'keras.layers',\n",
       "   'class_name': 'Dropout',\n",
       "   'config': {'name': 'dropout',\n",
       "    'trainable': True,\n",
       "    'dtype': 'float32',\n",
       "    'rate': 0.5,\n",
       "    'noise_shape': None,\n",
       "    'seed': None},\n",
       "   'registered_name': None,\n",
       "   'build_config': {'input_shape': (None, 1024)}},\n",
       "  {'module': 'keras.layers',\n",
       "   'class_name': 'Dense',\n",
       "   'config': {'name': 'dense_1',\n",
       "    'trainable': True,\n",
       "    'dtype': 'float32',\n",
       "    'units': 102,\n",
       "    'activation': 'softmax',\n",
       "    'use_bias': True,\n",
       "    'kernel_initializer': {'module': 'keras.initializers',\n",
       "     'class_name': 'GlorotUniform',\n",
       "     'config': {'seed': None},\n",
       "     'registered_name': None},\n",
       "    'bias_initializer': {'module': 'keras.initializers',\n",
       "     'class_name': 'Zeros',\n",
       "     'config': {},\n",
       "     'registered_name': None},\n",
       "    'kernel_regularizer': None,\n",
       "    'bias_regularizer': None,\n",
       "    'activity_regularizer': None,\n",
       "    'kernel_constraint': None,\n",
       "    'bias_constraint': None},\n",
       "   'registered_name': None,\n",
       "   'build_config': {'input_shape': (None, 1024)}}]}"
      ]
     },
     "execution_count": 8,
     "metadata": {},
     "output_type": "execute_result"
    }
   ],
   "source": [
    "model.get_config()"
   ]
  },
  {
   "cell_type": "markdown",
   "metadata": {
    "id": "QT9BHZ_ofl0S"
   },
   "source": [
    "# <font color=\"#004D7F\" size=5>Entrenamiento y validación</font>"
   ]
  },
  {
   "cell_type": "code",
   "execution_count": 9,
   "metadata": {
    "colab": {
     "base_uri": "https://localhost:8080/"
    },
    "executionInfo": {
     "elapsed": 3667265,
     "status": "ok",
     "timestamp": 1717011847714,
     "user": {
      "displayName": "Aldo Munaretto",
      "userId": "00686307437549586015"
     },
     "user_tz": -120
    },
    "id": "TcPNrFLxfl0T",
    "outputId": "bae1d636-ffb6-44c7-dd43-862deaeb268a",
    "scrolled": true
   },
   "outputs": [
    {
     "name": "stdout",
     "output_type": "stream",
     "text": [
      "Epoch 1/10\n",
      "153/153 [==============================] - 384s 2s/step - loss: 4.2103 - acc: 0.0652 - val_loss: 3.7037 - val_acc: 0.1262\n",
      "Epoch 2/10\n",
      "153/153 [==============================] - 393s 3s/step - loss: 3.6197 - acc: 0.1407 - val_loss: 3.3483 - val_acc: 0.1857\n",
      "Epoch 3/10\n",
      "153/153 [==============================] - 390s 3s/step - loss: 3.1858 - acc: 0.2202 - val_loss: 3.0139 - val_acc: 0.2684\n",
      "Epoch 4/10\n",
      "153/153 [==============================] - 344s 2s/step - loss: 2.7052 - acc: 0.3192 - val_loss: 2.8057 - val_acc: 0.2941\n",
      "Epoch 5/10\n",
      "153/153 [==============================] - 360s 2s/step - loss: 2.0440 - acc: 0.4604 - val_loss: 2.5726 - val_acc: 0.3548\n",
      "Epoch 6/10\n",
      "153/153 [==============================] - 344s 2s/step - loss: 1.2620 - acc: 0.6431 - val_loss: 2.6976 - val_acc: 0.3554\n",
      "Epoch 7/10\n",
      "153/153 [==============================] - 358s 2s/step - loss: 0.7030 - acc: 0.8002 - val_loss: 2.8276 - val_acc: 0.3572\n",
      "Epoch 8/10\n",
      "153/153 [==============================] - 342s 2s/step - loss: 0.4040 - acc: 0.8828 - val_loss: 3.1196 - val_acc: 0.3542\n",
      "Epoch 9/10\n",
      "153/153 [==============================] - 346s 2s/step - loss: 0.2861 - acc: 0.9199 - val_loss: 3.3992 - val_acc: 0.3664\n",
      "Epoch 10/10\n",
      "153/153 [==============================] - 339s 2s/step - loss: 0.1881 - acc: 0.9451 - val_loss: 3.3658 - val_acc: 0.3615\n"
     ]
    }
   ],
   "source": [
    "sgd = SGD(learning_rate=0.01, weight_decay=1e-6, momentum=0.9, nesterov=True)\n",
    "model.compile(loss='categorical_crossentropy', optimizer=sgd, metrics=['acc'])\n",
    "\n",
    "\n",
    "history = model.fit(train_iter, steps_per_epoch = train_frame.shape[0]//train_iter.batch_size,\n",
    "                              epochs=10, validation_data=valid_iter,\n",
    "                              validation_steps= valid_frame.shape[0]//valid_iter.batch_size)"
   ]
  },
  {
   "cell_type": "code",
   "execution_count": 10,
   "metadata": {
    "colab": {
     "base_uri": "https://localhost:8080/"
    },
    "executionInfo": {
     "elapsed": 61563,
     "status": "ok",
     "timestamp": 1717011909255,
     "user": {
      "displayName": "Aldo Munaretto",
      "userId": "00686307437549586015"
     },
     "user_tz": -120
    },
    "id": "y5OMPUXafl0W",
    "outputId": "3398eba7-d057-4b3e-8770-b9be5889e559"
   },
   "outputs": [
    {
     "name": "stdout",
     "output_type": "stream",
     "text": [
      "51/51 [==============================] - 20s 397ms/step - loss: 3.3658 - acc: 0.3615\n",
      "loss en validación: 3.3658480644226074 \n",
      "accuracy en validación: 0.36151960492134094\n",
      "51/51 [==============================] - 22s 431ms/step - loss: 3.2752 - acc: 0.3701\n",
      "loss en test: 3.275228500366211 \n",
      "accuracy en test: 0.3700980246067047\n"
     ]
    }
   ],
   "source": [
    "score = model.evaluate(valid_iter, steps= valid_frame.shape[0]//valid_iter.batch_size)\n",
    "print(\"loss en validación: {} \\naccuracy en validación: {}\".format(score[0],score[1]))\n",
    "score = model.evaluate(test_iter, steps= test_frame.shape[0]//test_iter.batch_size)\n",
    "print(\"loss en test: {} \\naccuracy en test: {}\".format(score[0],score[1]))"
   ]
  },
  {
   "cell_type": "code",
   "execution_count": 11,
   "metadata": {
    "colab": {
     "base_uri": "https://localhost:8080/",
     "height": 452
    },
    "executionInfo": {
     "elapsed": 446,
     "status": "ok",
     "timestamp": 1717011909682,
     "user": {
      "displayName": "Aldo Munaretto",
      "userId": "00686307437549586015"
     },
     "user_tz": -120
    },
    "id": "-RjuinYJNSyi",
    "outputId": "b9b7cffc-472c-4a6e-e8d7-761c9824644f"
   },
   "outputs": [
    {
     "data": {
      "image/png": "[encoded data removed]",
      "text/plain": [
       "<Figure size 640x480 with 1 Axes>"
      ]
     },
     "metadata": {},
     "output_type": "display_data"
    }
   ],
   "source": [
    "import matplotlib.pyplot as plt\n",
    "plt.plot(history.history['loss'])\n",
    "plt.plot(history.history['val_loss'])\n",
    "plt.legend(['train','valid'])\n",
    "plt.title('Cross Entropy')\n",
    "plt.show()"
   ]
  },
  {
   "cell_type": "code",
   "execution_count": 12,
   "metadata": {
    "colab": {
     "base_uri": "https://localhost:8080/",
     "height": 452
    },
    "executionInfo": {
     "elapsed": 327,
     "status": "ok",
     "timestamp": 1717011910003,
     "user": {
      "displayName": "Aldo Munaretto",
      "userId": "00686307437549586015"
     },
     "user_tz": -120
    },
    "id": "cV0uXDNlNZvw",
    "outputId": "0b38e810-b1bb-4df9-a72f-080a49bb5015"
   },
   "outputs": [
    {
     "data": {
      "image/png": "[encoded data removed]",
      "text/plain": [
       "<Figure size 640x480 with 1 Axes>"
      ]
     },
     "metadata": {},
     "output_type": "display_data"
    }
   ],
   "source": [
    "plt.plot(history.history['acc'])\n",
    "plt.plot(history.history['val_acc'])\n",
    "plt.legend(['train','valid'])\n",
    "plt.title('Accuracy')\n",
    "plt.show()"
   ]
  },
  {
   "cell_type": "markdown",
   "metadata": {
    "id": "ZFVCGenyfl0b"
   },
   "source": [
    "No es un mal resultado para este problema ya que hay pocas imágenes. Sin embargo nos hemos encontrado con un grave problema de sobreajuste. Tenemos un problema y un modelo complejos, pero no tenemos datos suficientes para entrenar nuestra red. Trataremos de solucionar esto con el data augmentation.\n",
    "\n",
    "Antes de continuar, si nos fijamos, tenemos parámetros correspondientes al tamaño de las capas convolucionales y densas, así como de max pooling, número de capas total, configuración del dropout y del optimizador.\n",
    "\n",
    "Conforme vamos aumentando la complejidad, hay más hiperparámetros que configurar. Cuanto mejores resultados busquemos, más tiempo tendremos que dedicar a configurar la red y entender los resultados que se obtienen de ella para nuestro problema."
   ]
  },
  {
   "cell_type": "markdown",
   "metadata": {
    "id": "SGglGt1sfl0f"
   },
   "source": [
    "<a id=\"section3.4\"></a>\n",
    "# <font color=\"#004D7F\" size=5>3.4. Data Augmentation</font>"
   ]
  },
  {
   "cell_type": "markdown",
   "metadata": {
    "id": "T998lcCjkHGr"
   },
   "source": [
    "En este apartado vamos a volver a trabajar los conceptos de data augmentation. Aunque Keras incluye muchas funciones para el diseño de redes, en el caso del preprocesamiento de imágenes es más limitado. Como punto a favor, es que estas funciones son muy fáciles de usar y como se ha comentado antes, Keras tiene muchas herramientas para aumentar su funcionalidad, como son las funciones [Backend](https://keras.io/backend/) o el poder integrar funciones directamente de TensorFlow.\n",
    "\n",
    "Vamos a continuar con el dataset de flores y para ello vamos a definir un nuevo `ImageDataGenerator` pero solo para el train. Esta clase la hemos visto más arriba, pero vamos a definirla un poco más en detalle, ya que se divide principalmente en dos partes:\n",
    "* Primero, en el constructor definimos las operaciones o modificaciones que vamos a realizar a los datos.\n",
    "* Segundo, con las funciones `flow` generamos un iterador que se va a encargar de leer los datos. Por eso los parámetros de entrada de las funciones `flow` indican donde se encuentran las imágenes, el formato de estas y el tamaño de salida. También indicamos aquí el tamaño del batch del iterador.\n",
    "\n",
    "Con esto el iterador obtenido primero cargará el batch de datos según lo indicado en los parámetros de las funicones `flow` y luego aplicará las funciones definidas en el constructor de [`ImageDataGenerator`](https://keras.io/preprocessing/image/). Estas funciones consisten en data augmentation estocástico, es decir, cada operación que se ha indicado se aplica de forma aleatoria a las diferentes datos, en este caso imágenes, de los batches."
   ]
  },
  {
   "cell_type": "code",
   "execution_count": 13,
   "metadata": {
    "colab": {
     "base_uri": "https://localhost:8080/"
    },
    "executionInfo": {
     "elapsed": 8,
     "status": "ok",
     "timestamp": 1717011910004,
     "user": {
      "displayName": "Aldo Munaretto",
      "userId": "00686307437549586015"
     },
     "user_tz": -120
    },
    "id": "_f3MlNz2TEk3",
    "outputId": "19b43588-bc87-489e-9edc-55cb1901dae9"
   },
   "outputs": [
    {
     "name": "stdout",
     "output_type": "stream",
     "text": [
      "Found 4913 validated image filenames belonging to 102 classes.\n"
     ]
    }
   ],
   "source": [
    "train_datagen_augmented = ImageDataGenerator(rescale=1./255, horizontal_flip = True, vertical_flip = True, rotation_range = 10)\n",
    "\n",
    "train_iter_augmented = train_datagen_augmented.flow_from_dataframe(train_frame,\n",
    "                                                                   x_col='files',\n",
    "                                                                   y_col='labels',\n",
    "                                                                   target_size=(100, 120),\n",
    "                                                                   class_mode='categorical',\n",
    "                                                                   batch_size=32,\n",
    "                                                                   shuffle=True)"
   ]
  },
  {
   "cell_type": "code",
   "execution_count": 14,
   "metadata": {
    "executionInfo": {
     "elapsed": 664,
     "status": "ok",
     "timestamp": 1717011910662,
     "user": {
      "displayName": "Aldo Munaretto",
      "userId": "00686307437549586015"
     },
     "user_tz": -120
    },
    "id": "IudG9XCNZo7n"
   },
   "outputs": [],
   "source": [
    "from keras.models import Sequential\n",
    "from keras.layers import Dense, Dropout, Flatten\n",
    "from keras.layers import Conv2D, MaxPooling2D\n",
    "from keras.optimizers import SGD\n",
    "\n",
    "# definimos el modelo lineal\n",
    "model = Sequential()\n",
    "\n",
    "# el primer bloque convolucional completo, formado de dos capas convolucionales con activación relu,\n",
    "# un max pooling y un dropout.\n",
    "\n",
    "# recordemos que en la primera capa hay que indicar el tamaño de la entrada\n",
    "model.add(Conv2D(32, (5, 5), activation='relu', input_shape=(100, 120, 3)))\n",
    "model.add(MaxPooling2D(pool_size=(2, 2)))\n",
    "\n",
    "model.add(Conv2D(64, (5, 5), activation='relu'))\n",
    "model.add(MaxPooling2D(pool_size=(2, 2)))\n",
    "\n",
    "# Antes de poder pasar de la capa convolucional a la densa, es necesario \"aplanar\" la salida, por eso se usa Flatten\n",
    "model.add(Flatten())\n",
    "model.add(Dense(1024, activation='relu'))\n",
    "model.add(Dropout(0.5))\n",
    "\n",
    "# finalmente creamos la capa de salida, con el tamaño de las etiquetas de nuestro problema\n",
    "model.add(Dense(102, activation='softmax'))"
   ]
  },
  {
   "cell_type": "code",
   "execution_count": 15,
   "metadata": {
    "colab": {
     "base_uri": "https://localhost:8080/"
    },
    "executionInfo": {
     "elapsed": 3821430,
     "status": "ok",
     "timestamp": 1717015732084,
     "user": {
      "displayName": "Aldo Munaretto",
      "userId": "00686307437549586015"
     },
     "user_tz": -120
    },
    "id": "rFJml0NbZuJK",
    "outputId": "48d727b0-4dc4-4a55-89e6-ce328597e95c"
   },
   "outputs": [
    {
     "name": "stdout",
     "output_type": "stream",
     "text": [
      "Epoch 1/10\n",
      "153/153 [==============================] - 348s 2s/step - loss: 4.2505 - acc: 0.0613 - val_loss: 3.8384 - val_acc: 0.1017\n",
      "Epoch 2/10\n",
      "153/153 [==============================] - 386s 3s/step - loss: 3.8053 - acc: 0.1086 - val_loss: 3.6607 - val_acc: 0.1189\n",
      "Epoch 3/10\n",
      "153/153 [==============================] - 368s 2s/step - loss: 3.5703 - acc: 0.1446 - val_loss: 3.2031 - val_acc: 0.2071\n",
      "Epoch 4/10\n",
      "153/153 [==============================] - 353s 2s/step - loss: 3.3108 - acc: 0.1934 - val_loss: 3.1175 - val_acc: 0.2230\n",
      "Epoch 5/10\n",
      "153/153 [==============================] - 375s 2s/step - loss: 3.1127 - acc: 0.2280 - val_loss: 2.8683 - val_acc: 0.2812\n",
      "Epoch 6/10\n",
      "153/153 [==============================] - 357s 2s/step - loss: 2.8868 - acc: 0.2702 - val_loss: 2.8360 - val_acc: 0.2874\n",
      "Epoch 7/10\n",
      "153/153 [==============================] - 378s 2s/step - loss: 2.6909 - acc: 0.3120 - val_loss: 2.8376 - val_acc: 0.2947\n",
      "Epoch 8/10\n",
      "153/153 [==============================] - 377s 2s/step - loss: 2.5306 - acc: 0.3473 - val_loss: 2.5340 - val_acc: 0.3456\n",
      "Epoch 9/10\n",
      "153/153 [==============================] - 360s 2s/step - loss: 2.3479 - acc: 0.3897 - val_loss: 2.4413 - val_acc: 0.3732\n",
      "Epoch 10/10\n",
      "153/153 [==============================] - 369s 2s/step - loss: 2.2178 - acc: 0.4192 - val_loss: 2.4001 - val_acc: 0.3768\n"
     ]
    }
   ],
   "source": [
    "sgd = SGD(learning_rate=0.01, weight_decay=1e-6, momentum=0.9, nesterov=True)\n",
    "model.compile(loss='categorical_crossentropy', optimizer=sgd, metrics=['acc'])\n",
    "\n",
    "history = model.fit(train_iter_augmented,\n",
    "                              steps_per_epoch = train_frame.shape[0]//train_iter_augmented.batch_size,\n",
    "                              epochs=10,\n",
    "                              validation_data=valid_iter,\n",
    "                              validation_steps= valid_frame.shape[0]//valid_iter.batch_size)"
   ]
  },
  {
   "cell_type": "code",
   "execution_count": 16,
   "metadata": {
    "colab": {
     "base_uri": "https://localhost:8080/"
    },
    "executionInfo": {
     "elapsed": 61603,
     "status": "ok",
     "timestamp": 1717015793666,
     "user": {
      "displayName": "Aldo Munaretto",
      "userId": "00686307437549586015"
     },
     "user_tz": -120
    },
    "id": "O69Jh8w1he8-",
    "outputId": "f113a0d8-bbfd-4255-fea6-0bf2da6b2706"
   },
   "outputs": [
    {
     "name": "stdout",
     "output_type": "stream",
     "text": [
      "51/51 [==============================] - 21s 401ms/step - loss: 2.4001 - acc: 0.3768\n",
      "loss en validación: 2.40010666847229 \n",
      "accuracy en validación: 0.37683823704719543\n",
      "51/51 [==============================] - 20s 392ms/step - loss: 2.4083 - acc: 0.3817\n",
      "loss en test: 2.4083101749420166 \n",
      "accuracy en test: 0.38174018263816833\n"
     ]
    }
   ],
   "source": [
    "score = model.evaluate(valid_iter, steps= valid_frame.shape[0]//valid_iter.batch_size)\n",
    "print(\"loss en validación: {} \\naccuracy en validación: {}\".format(score[0],score[1]))\n",
    "score = model.evaluate(test_iter, steps= test_frame.shape[0]//test_iter.batch_size)\n",
    "print(\"loss en test: {} \\naccuracy en test: {}\".format(score[0],score[1]))"
   ]
  },
  {
   "cell_type": "code",
   "execution_count": 17,
   "metadata": {
    "colab": {
     "base_uri": "https://localhost:8080/",
     "height": 452
    },
    "executionInfo": {
     "elapsed": 477,
     "status": "ok",
     "timestamp": 1717015794118,
     "user": {
      "displayName": "Aldo Munaretto",
      "userId": "00686307437549586015"
     },
     "user_tz": -120
    },
    "id": "TNYhQs8OZzoH",
    "outputId": "69adbd2b-e687-4ada-f411-01d2cb91635b"
   },
   "outputs": [
    {
     "data": {
      "image/png": "[encoded data removed]",
      "text/plain": [
       "<Figure size 640x480 with 1 Axes>"
      ]
     },
     "metadata": {},
     "output_type": "display_data"
    }
   ],
   "source": [
    "plt.plot(history.history['loss'])\n",
    "plt.plot(history.history['val_loss'])\n",
    "plt.legend(['train','valid'])\n",
    "plt.title('Cross Entropy')\n",
    "plt.show()"
   ]
  },
  {
   "cell_type": "code",
   "execution_count": 18,
   "metadata": {
    "colab": {
     "base_uri": "https://localhost:8080/",
     "height": 452
    },
    "executionInfo": {
     "elapsed": 399,
     "status": "ok",
     "timestamp": 1717015794512,
     "user": {
      "displayName": "Aldo Munaretto",
      "userId": "00686307437549586015"
     },
     "user_tz": -120
    },
    "id": "jPRr3khUb_eJ",
    "outputId": "76ac53a2-1e38-4870-8fc8-8f3ba2d3bef7"
   },
   "outputs": [
    {
     "data": {
      "image/png": "[encoded data removed]",
      "text/plain": [
       "<Figure size 640x480 with 1 Axes>"
      ]
     },
     "metadata": {},
     "output_type": "display_data"
    }
   ],
   "source": [
    "plt.plot(history.history['acc'])\n",
    "plt.plot(history.history['val_acc'])\n",
    "plt.legend(['train','valid'])\n",
    "plt.title('Accuracy')\n",
    "plt.show()"
   ]
  },
  {
   "cell_type": "markdown",
   "metadata": {
    "id": "fLmpuYglTDhk"
   },
   "source": [
    "Hemos visto claramente la utilidad del data augmentation y lo fácil que es aplicar dichas funciones con Keras. Con esto ya hemos repasado los puntos más importantes de Keras para poder empezar a trabajar con nuestras bases de datos, diseñar y entrenar nuestras redes y evaluar su comportamiento."
   ]
  },
  {
   "cell_type": "markdown",
   "metadata": {
    "id": "XJ9J6ygJkHGr"
   },
   "source": [
    "---\n",
    "\n",
    "<h3><font color=\"#004D7F\" size=5> <i class=\"fa fa-pencil-square-o\" aria-hidden=\"true\" style=\"color:#113D68\"></i> Ejercicio</font></h3>"
   ]
  },
  {
   "cell_type": "markdown",
   "metadata": {
    "id": "pAaJNqltkHGs"
   },
   "source": [
    "Mejorar los resultados obtenidos por la red. Actualmente solo hay 3 capas (2 convolucionales y 1 densa). Se recomienda también probar diferentes optimizadores y utilizar mas parámetros a la hora de realizar data augmentation."
   ]
  },
  {
   "cell_type": "code",
   "execution_count": 19,
   "metadata": {
    "executionInfo": {
     "elapsed": 23,
     "status": "ok",
     "timestamp": 1717015794513,
     "user": {
      "displayName": "Aldo Munaretto",
      "userId": "00686307437549586015"
     },
     "user_tz": -120
    },
    "id": "TtQZOmLccC1J"
   },
   "outputs": [],
   "source": [
    "# TODO"
   ]
  },
  {
   "cell_type": "markdown",
   "metadata": {
    "id": "aaY7jRH3kHGs"
   },
   "source": [
    "<div style=\"text-align: right\"> <font size=5> <a href=\"#indice\"><i class=\"fa fa-arrow-circle-up\" aria-hidden=\"true\" style=\"color:#004D7F\"></i></a></font></div>\n",
    "\n",
    "---\n",
    "\n",
    "<div style=\"text-align: right\"> <font size=6><i class=\"fa fa-coffee\" aria-hidden=\"true\" style=\"color:#004D7F\"></i> </font></div>"
   ]
  }
 ],
 "metadata": {
  "accelerator": "GPU",
  "colab": {
   "provenance": []
  },
  "kernelspec": {
   "display_name": "Python 3 (ipykernel)",
   "language": "python",
   "name": "python3"
  },
  "language_info": {
   "codemirror_mode": {
    "name": "ipython",
    "version": 3
   },
   "file_extension": ".py",
   "mimetype": "text/x-python",
   "name": "python",
   "nbconvert_exporter": "python",
   "pygments_lexer": "ipython3",
   "version": "3.11.5"
  }
 },
 "nbformat": 4,
 "nbformat_minor": 0
}
