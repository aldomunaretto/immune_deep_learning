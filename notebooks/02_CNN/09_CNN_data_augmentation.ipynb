{
 "cells": [
  {
   "cell_type": "markdown",
   "metadata": {},
   "source": [
    "[![Open in Colab](https://colab.research.google.com/assets/colab-badge.svg)](https://colab.research.google.com/github/aldomunaretto/immune_deep_learning/blob/main/notebooks/02_CNN/09_CNN_data_augmentation.ipynb)"
   ]
  },
  {
   "cell_type": "markdown",
   "metadata": {
    "id": "GJmd_AqL6BGu"
   },
   "source": [
    "# Convolutional Neural Networks\n",
    "\n",
    "## Data Augmentation\n"
   ]
  },
  {
   "cell_type": "markdown",
   "metadata": {
    "id": "3IvzcYDI6BGw"
   },
   "source": [
    "---\n",
    "\n",
    "<a id=\"index\"></a>\n",
    "## Index\n",
    "\n",
    "* [0. Context](#section0)\n",
    "* [1. Data Augmentation](#section1)\n",
    "* [2. Native MNIST Data](#section2)\n",
    "* [3. Feature Standardization](#section3)\n",
    "* [4. ZCA Whitening](#section4)\n",
    "* [5. Random Rotations](#section5)\n",
    "* [6. Random Shifts](#section6)\n",
    "* [7. Random Flips](#section7)\n",
    "* [8. Save Augmented Images](#section8)\n",
    "* [9. Final Tips](#section9)"
   ]
  },
  {
   "cell_type": "markdown",
   "metadata": {
    "id": "vBRwbvdQ6BGx"
   },
   "source": [
    "---\n",
    "<a id=\"section0\"></a>\n",
    "## Context"
   ]
  },
  {
   "cell_type": "markdown",
   "metadata": {
    "id": "PylC_cki6BGy"
   },
   "source": [
    "In this lesson, you will learn how to use image data preparation and augmentation:\n",
    "* About the Keras API for image augmentation.\n",
    "* How to perform feature standardization.\n",
    "* How to apply ZCA whitening to your images.\n",
    "* How to augment data with random rotations, shifts, and flips of images.\n",
    "* How to save augmented image data to disk."
   ]
  },
  {
   "cell_type": "code",
   "execution_count": null,
   "metadata": {
    "executionInfo": {
     "elapsed": 9164,
     "status": "ok",
     "timestamp": 1716576656503,
     "user": {
      "displayName": "Aldo Munaretto",
      "userId": "00686307437549586015"
     },
     "user_tz": -120
    },
    "id": "sC2s_7Nn6BGy"
   },
   "outputs": [],
   "source": [
    "import tensorflow as tf\n",
    "# Remove warning\n",
    "tf.compat.v1.logging.set_verbosity(tf.compat.v1.logging.ERROR)"
   ]
  },
  {
   "cell_type": "markdown",
   "metadata": {
    "id": "K0cB9VmH6BGz"
   },
   "source": [
    "---\n",
    "<a id=\"section1\"></a>\n",
    "## Data Augmentation"
   ]
  },
  {
   "cell_type": "markdown",
   "metadata": {
    "id": "M9LL5I756BGz"
   },
   "source": [
    "Keras provides the `ImageDataGenerator` class for image data preparation and augmentation. This includes capabilities such as:\n",
    "* Feature standardization.\n",
    "* ZCA whitening.\n",
    "* Random rotation, shifts, and flips.\n",
    "* Dimension reordering.\n",
    "* Saving augmented images to disk.\n"
   ]
  },
  {
   "cell_type": "markdown",
   "metadata": {
    "colab": {
     "base_uri": "https://localhost:8080/",
     "height": 785
    },
    "executionInfo": {
     "elapsed": 638,
     "status": "ok",
     "timestamp": 1716509534400,
     "user": {
      "displayName": "Aldo Munaretto",
      "userId": "00686307437549586015"
     },
     "user_tz": -120
    },
    "id": "I6-PqMSJ7mED",
    "outputId": "cee4a171-8850-4193-94c5-7e3e206123d8"
   },
   "source": [
    "![Data Augmentation](https://raw.githubusercontent.com/aldomunaretto/immune_deep_learning/main/image/notebooks/data-augmentation.jpeg)"
   ]
  },
  {
   "cell_type": "markdown",
   "metadata": {
    "id": "wOQptXIE8UDS"
   },
   "source": [
    "The augmented image generator object will be:\n",
    "```python\n",
    "    datagen = ImageDataGenerator()\n",
    "```"
   ]
  },
  {
   "cell_type": "markdown",
   "metadata": {
    "id": "AonRMkGe6BGz"
   },
   "source": [
    "Once the `ImageDataGenerator` object is created, you need to fit it to your data in order to perform the transformations later. To do this, you will use the `fit()` function, passing it the dataset.\n",
    "```python\n",
    "    datagen.fit(train)\n",
    "```"
   ]
  },
  {
   "cell_type": "markdown",
   "metadata": {
    "id": "v6l_aPjv6BGz"
   },
   "source": [
    "We can configure the batch size and prepare the data generator by calling the `flow()` function.\n",
    "```python\n",
    "    X_batch, y_batch = datagen.flow(train, train, batch_size=32)\n",
    "```"
   ]
  },
  {
   "cell_type": "markdown",
   "metadata": {
    "id": "vMbPhbWg6BGz"
   },
   "source": [
    "Finally, we can use the data generator by calling the `fit_generator()` function, passing the data generator, the desired duration of an epoch, and the total number of epochs for training.\n",
    "\n",
    "```python\n",
    "    fit_generator(datagen, samples_per_epoch=len(train), epochs=100)\n",
    "```"
   ]
  },
  {
   "cell_type": "markdown",
   "metadata": {
    "id": "n4aNglHB6BG0"
   },
   "source": [
    "You can learn more about the Keras image data generator API in the [official documentation.](http://keras.io/preprocessing/image/)\n"
   ]
  },
  {
   "cell_type": "markdown",
   "metadata": {
    "id": "aFjrnA8A9gBC"
   },
   "source": [
    "Here is an example that uses the `ImageDataGenerator` class from Keras to load and preprocess images.\n",
    "\n",
    "1. Import the necessary libraries"
   ]
  },
  {
   "cell_type": "code",
   "execution_count": null,
   "metadata": {
    "executionInfo": {
     "elapsed": 359,
     "status": "ok",
     "timestamp": 1716576839437,
     "user": {
      "displayName": "Aldo Munaretto",
      "userId": "00686307437549586015"
     },
     "user_tz": -120
    },
    "id": "wuXNlAEn9YX5"
   },
   "outputs": [],
   "source": [
    "from tensorflow.keras.preprocessing.image import ImageDataGenerator\n",
    "import matplotlib.pyplot as plt\n"
   ]
  },
  {
   "cell_type": "markdown",
   "metadata": {
    "id": "hQt5EfgE9iZI"
   },
   "source": [
    "2. Prepare the Dataset: We will use the TensorFlow flowers dataset for this example. You can replace it with your own dataset if you prefer."
   ]
  },
  {
   "cell_type": "code",
   "execution_count": null,
   "metadata": {
    "colab": {
     "base_uri": "https://localhost:8080/",
     "height": 104,
     "referenced_widgets": [
      "b75af6c520184b959cce0b868ed6be11",
      "1d4320ed73bc46c69c359bc8ac600f44",
      "654d80dc8aad461b802dd8409f545857",
      "d4b3b06af14a4b81a4e011203138d5e5",
      "997e9d846f274f528b48a3b5f0e33f21",
      "6d1c8370422e4e068af9c068f8566066",
      "0029f6c2d9ae48fc9c40c853b26c94bd",
      "8d52bd90875f4349bd4f32bfee47fa28",
      "d1f951b94ee14a208f02729a2f36ca98",
      "f45b2c82b9b2449783f71210479b6b28",
      "b912b569fc5b43278fc6487853065cef"
     ]
    },
    "executionInfo": {
     "elapsed": 24429,
     "status": "ok",
     "timestamp": 1716576888264,
     "user": {
      "displayName": "Aldo Munaretto",
      "userId": "00686307437549586015"
     },
     "user_tz": -120
    },
    "id": "0sjvStck9wPR",
    "outputId": "2c65953a-6d6f-46a3-af2a-7ee5a6762ea0"
   },
   "outputs": [],
   "source": [
    "import tensorflow_datasets as tfds\n",
    "\n",
    "# Download and prepare the dataset\n",
    "(dataset, ds_info) = tfds.load('tf_flowers', split='train', with_info=True, as_supervised=True)\n"
   ]
  },
  {
   "cell_type": "markdown",
   "metadata": {
    "id": "lrNNWoCw92wm"
   },
   "source": [
    "3. Configure the Image Data Generator: Set up the `ImageDataGenerator` instance to augment the data."
   ]
  },
  {
   "cell_type": "code",
   "execution_count": null,
   "metadata": {
    "executionInfo": {
     "elapsed": 359,
     "status": "ok",
     "timestamp": 1716576928791,
     "user": {
      "displayName": "Aldo Munaretto",
      "userId": "00686307437549586015"
     },
     "user_tz": -120
    },
    "id": "u8K7B-GK-FTR"
   },
   "outputs": [],
   "source": [
    "datagen = ImageDataGenerator(\n",
    "    rotation_range=40,\n",
    "    width_shift_range=0.2,\n",
    "    height_shift_range=0.2,\n",
    "    shear_range=0.2,\n",
    "    zoom_range=0.2,\n",
    "    horizontal_flip=True,\n",
    "    fill_mode='nearest'\n",
    ")"
   ]
  },
  {
   "cell_type": "markdown",
   "metadata": {
    "id": "N2D902gE-G9h"
   },
   "source": [
    "4. Create a function to display augmented images"
   ]
  },
  {
   "cell_type": "code",
   "execution_count": null,
   "metadata": {
    "executionInfo": {
     "elapsed": 334,
     "status": "ok",
     "timestamp": 1716576934712,
     "user": {
      "displayName": "Aldo Munaretto",
      "userId": "00686307437549586015"
     },
     "user_tz": -120
    },
    "id": "GIBMoWhl-LwZ"
   },
   "outputs": [],
   "source": [
    "def plot_images(images_arr):\n",
    "    fig, axes = plt.subplots(1, 5, figsize=(20,20))\n",
    "    axes = axes.flatten()\n",
    "    for img, ax in zip(images_arr, axes):\n",
    "        ax.imshow(img)\n",
    "        ax.axis('off')\n",
    "    plt.tight_layout()\n",
    "    plt.show()"
   ]
  },
  {
   "cell_type": "markdown",
   "metadata": {
    "id": "_B2ePx1x-LiY"
   },
   "source": [
    "5. Apply data augmentation to a sample of images"
   ]
  },
  {
   "cell_type": "code",
   "execution_count": null,
   "metadata": {
    "colab": {
     "base_uri": "https://localhost:8080/",
     "height": 190
    },
    "executionInfo": {
     "elapsed": 6582,
     "status": "ok",
     "timestamp": 1716576946460,
     "user": {
      "displayName": "Aldo Munaretto",
      "userId": "00686307437549586015"
     },
     "user_tz": -120
    },
    "id": "HCBa0aHG-SdB",
    "outputId": "e0faca74-b252-40ac-8e39-3f1f3f0e9268"
   },
   "outputs": [],
   "source": [
    "# Retrieve a sample of images from the dataset\n",
    "for image, label in dataset.take(1):\n",
    "    image = tf.image.resize(image, (150, 150))\n",
    "    image = tf.expand_dims(image, 0)  # Add an extra dimension for the batch.\n",
    "\n",
    "# Generate a batch of augmented images.\n",
    "augmented_images = [next(datagen.flow(image, batch_size=1))[0].astype('uint8') for _ in range(5)]\n",
    "\n",
    "# Display the augmented images.\n",
    "plot_images(augmented_images)\n"
   ]
  },
  {
   "cell_type": "markdown",
   "metadata": {
    "id": "hEHZJqq76BG0"
   },
   "source": [
    "---\n",
    "<a id=\"section2\"></a>\n",
    "## Native MNIST Data"
   ]
  },
  {
   "cell_type": "markdown",
   "metadata": {
    "id": "GWEDGBCp6BG0"
   },
   "source": [
    "Veamos un ejemplo por lo que vamos a echar un vistazo a las primeras 9 imágenes."
   ]
  },
  {
   "cell_type": "code",
   "execution_count": null,
   "metadata": {
    "colab": {
     "base_uri": "https://localhost:8080/",
     "height": 468
    },
    "executionInfo": {
     "elapsed": 3980,
     "status": "ok",
     "timestamp": 1716577003118,
     "user": {
      "displayName": "Aldo Munaretto",
      "userId": "00686307437549586015"
     },
     "user_tz": -120
    },
    "id": "3mMMlUsN6BG0",
    "outputId": "d28d8b0a-3a7e-4916-891a-b3946f75bbd1"
   },
   "outputs": [],
   "source": [
    "# Plot of images as baseline for comparison\n",
    "from keras.datasets import mnist\n",
    "import matplotlib.pyplot as plt\n",
    "# load data\n",
    "(X_train, y_train), (X_test, y_test) = mnist.load_data()\n",
    "# create a grid of 3x3 images\n",
    "for i in range(0, 9):\n",
    "    plt.subplot(330 + 1 + i)\n",
    "    plt.imshow(X_train[i], cmap=plt.get_cmap('gray'))\n",
    "# show the plot\n",
    "plt.show()"
   ]
  },
  {
   "cell_type": "markdown",
   "metadata": {
    "id": "e8lLrSxJ6BG0"
   },
   "source": [
    "---\n",
    "<div style=\"text-align: right\"> <font size=5> <a href=\"#indice\"><i class=\"fa fa-arrow-circle-up\" aria-hidden=\"true\" style=\"color:#004D7F\"></i></a></font></div>\n",
    "\n",
    "---"
   ]
  },
  {
   "cell_type": "markdown",
   "metadata": {
    "id": "eBtLrzkM6BG1"
   },
   "source": [
    "<a id=\"section3\"></a>\n",
    "# <font color=\"#004D7F\" size=6>3. Estandarización de características</font>"
   ]
  },
  {
   "cell_type": "markdown",
   "metadata": {
    "id": "4CD8_Pdd6BG1"
   },
   "source": [
    "También es posible estandarizar los valores de los píxeles en todo el conjunto de datos.\n",
    "\n",
    "Los valores de los píxeles están estandarizados en todas las muestras (todas las imágenes del conjunto de datos). En este caso, cada imagen se considera una característica.\n",
    "\n",
    "Podemos realizar la estandarización estableciendo los argumentos de `featurewise_center` y `featurewise_std_normalization` en la clase `ImageDataGenerator`."
   ]
  },
  {
   "cell_type": "code",
   "execution_count": null,
   "metadata": {
    "colab": {
     "base_uri": "https://localhost:8080/",
     "height": 433
    },
    "executionInfo": {
     "elapsed": 1921,
     "status": "ok",
     "timestamp": 1716577245057,
     "user": {
      "displayName": "Aldo Munaretto",
      "userId": "00686307437549586015"
     },
     "user_tz": -120
    },
    "id": "fCDe6QQs6BG1",
    "outputId": "e3ea4c8d-b5fc-4f3c-8ef0-2f30d5cb8db8"
   },
   "outputs": [],
   "source": [
    "# Standardize images across the dataset, mean=0, stdev=1\n",
    "from keras.datasets import mnist\n",
    "from keras.preprocessing.image import ImageDataGenerator\n",
    "import matplotlib.pyplot as plt\n",
    "\n",
    "# load data\n",
    "(X_train, y_train), (X_test, y_test) = mnist.load_data()\n",
    "\n",
    "# reshape to be [samples][width][height][channels]\n",
    "X_train = X_train.reshape((X_train.shape[0], 28, 28, 1))\n",
    "X_test = X_test.reshape((X_test.shape[0], 28, 28, 1))\n",
    "\n",
    "# convert from int to float\n",
    "X_train = X_train.astype('float32')\n",
    "X_test = X_test.astype('float32')\n",
    "\n",
    "# Normalize values in range from 0 to 1\n",
    "X_train /= 255\n",
    "X_test /= 255\n",
    "\n",
    "# define data preparation\n",
    "datagen = ImageDataGenerator(featurewise_center=True, featurewise_std_normalization=True)\n",
    "\n",
    "# fit parameters from data\n",
    "datagen.fit(X_train)\n",
    "\n",
    "# configure batch size and retrieve one batch of images\n",
    "for X_batch, y_batch in datagen.flow(X_train, y_train, batch_size=9):\n",
    "  for i in range(0,9):\n",
    "    plt.subplot(330+1+i)\n",
    "    plt.imshow(X_batch[i].reshape(28,28), cmap=plt.get_cmap('gray'))\n",
    "  plt.show()\n",
    "  break\n"
   ]
  },
  {
   "cell_type": "markdown",
   "metadata": {
    "id": "ZKzIdAf86BG1"
   },
   "source": [
    "---\n",
    "<div style=\"text-align: right\"> <font size=5> <a href=\"#indice\"><i class=\"fa fa-arrow-circle-up\" aria-hidden=\"true\" style=\"color:#004D7F\"></i></a></font></div>\n",
    "\n",
    "---"
   ]
  },
  {
   "cell_type": "markdown",
   "metadata": {
    "id": "dywazBFG6BG1"
   },
   "source": [
    "<a id=\"section4\"></a>\n",
    "# <font color=\"#004D7F\" size=6>4. Blanqueamiento ZCA </font>"
   ]
  },
  {
   "cell_type": "markdown",
   "metadata": {
    "id": "WhjtV9E96BG1"
   },
   "source": [
    "Una transformación de blanqueamiento de una imagen es una operación de álgebra lineal que reduce la redundancia en la matriz de imágenes de píxeles.\n",
    "\n",
    "ZCA muestra mejores resultados y resultados en imágenes transformadas que mantienen todas las dimensiones originales y, a diferencia de PCA, las imágenes transformadas resultantes todavía se ven como sus originales.\n",
    "\n",
    "Para realizar ZCA configuramos el argumento `zca_whitening` en `True`."
   ]
  },
  {
   "cell_type": "markdown",
   "metadata": {
    "id": "FZ5d2FT16BG1"
   },
   "source": [
    "<div class=\"alert alert-block alert-info\">\n",
    "    \n",
    "<i class=\"fa fa-info-circle\" aria-hidden=\"true\"></i>\n",
    "Puede obtener más información sobre [ZCA](http://www.cs.toronto.edu/~kriz/learning-features-2009-TR.pdf)\n"
   ]
  },
  {
   "cell_type": "code",
   "execution_count": null,
   "metadata": {
    "colab": {
     "base_uri": "https://localhost:8080/",
     "height": 488
    },
    "executionInfo": {
     "elapsed": 53699,
     "status": "ok",
     "timestamp": 1716577429824,
     "user": {
      "displayName": "Aldo Munaretto",
      "userId": "00686307437549586015"
     },
     "user_tz": -120
    },
    "id": "t6lpCDAv6BG1",
    "outputId": "502d3903-5beb-44d5-9780-55fc7f338422"
   },
   "outputs": [],
   "source": [
    "# load data\n",
    "(X_train, y_train), (X_test, y_test) = mnist.load_data()\n",
    "\n",
    "# reshape to be [samples][width][height][channels]\n",
    "X_train = X_train.reshape((X_train.shape[0], 28, 28, 1))\n",
    "X_test = X_test.reshape((X_test.shape[0], 28, 28, 1))\n",
    "\n",
    "# convert from int to float\n",
    "X_train = X_train.astype('float32')\n",
    "X_test = X_test.astype('float32')\n",
    "\n",
    "# Normalize values in range from 0 to 1\n",
    "X_train /= 255\n",
    "X_test /= 255\n",
    "\n",
    "# define data preparation\n",
    "datagen = ImageDataGenerator(zca_whitening=True)\n",
    "\n",
    "# fit parameters from data\n",
    "datagen.fit(X_train)\n",
    "\n",
    "# configure batch size and retrieve one batch of images\n",
    "for X_batch, y_batch in datagen.flow(X_train, y_train, batch_size=9):\n",
    "  for i in range(0,9):\n",
    "    plt.subplot(330+1+i)\n",
    "    plt.imshow(X_batch[i].reshape(28,28), cmap=plt.get_cmap('gray'))\n",
    "  plt.show()\n",
    "  break"
   ]
  },
  {
   "cell_type": "markdown",
   "metadata": {
    "id": "TDRkd7A56BG1"
   },
   "source": [
    "---\n",
    "<div style=\"text-align: right\"> <font size=5> <a href=\"#indice\"><i class=\"fa fa-arrow-circle-up\" aria-hidden=\"true\" style=\"color:#004D7F\"></i></a></font></div>\n",
    "\n",
    "---"
   ]
  },
  {
   "cell_type": "markdown",
   "metadata": {
    "id": "7A3m6F0_6BG1"
   },
   "source": [
    "<a id=\"section5\"></a>\n",
    "# <font color=\"#004D7F\" size=6>5. Rotaciones aleatorias </font>"
   ]
  },
  {
   "cell_type": "markdown",
   "metadata": {
    "id": "0w1BAMpD6BG1"
   },
   "source": [
    "A veces, las imágenes de los datos de muestra pueden tener rotaciones diferentes y variables en la escena.\n",
    "\n",
    "Podemos crear rotaciones aleatorias de los dígitos MNIST hasta 90 grados estableciendo el argumento `rotation_range`."
   ]
  },
  {
   "cell_type": "code",
   "execution_count": null,
   "metadata": {
    "colab": {
     "base_uri": "https://localhost:8080/",
     "height": 433
    },
    "executionInfo": {
     "elapsed": 1523,
     "status": "ok",
     "timestamp": 1716577535019,
     "user": {
      "displayName": "Aldo Munaretto",
      "userId": "00686307437549586015"
     },
     "user_tz": -120
    },
    "id": "sBr3J1x26BG1",
    "outputId": "7c4b8035-7842-4aed-c8b7-889f179e7e67"
   },
   "outputs": [],
   "source": [
    "# load data\n",
    "(X_train, y_train), (X_test, y_test) = mnist.load_data()\n",
    "\n",
    "# reshape to be [samples][width][height][channels]\n",
    "X_train = X_train.reshape((X_train.shape[0], 28, 28, 1))\n",
    "X_test = X_test.reshape((X_test.shape[0], 28, 28, 1))\n",
    "\n",
    "# convert from int to float\n",
    "X_train = X_train.astype('float32')\n",
    "X_test = X_test.astype('float32')\n",
    "\n",
    "# Normalize values in range from 0 to 1\n",
    "X_train /= 255\n",
    "X_test /= 255\n",
    "\n",
    "# define data preparation\n",
    "datagen = ImageDataGenerator(rotation_range=90)\n",
    "\n",
    "# fit parameters from data\n",
    "datagen.fit(X_train)\n",
    "\n",
    "# configure batch size and retrieve one batch of images\n",
    "for X_batch, y_batch in datagen.flow(X_train, y_train, batch_size=9):\n",
    "  for i in range(0,9):\n",
    "    plt.subplot(330+1+i)\n",
    "    plt.imshow(X_batch[i].reshape(28,28), cmap=plt.get_cmap('gray'))\n",
    "  plt.show()\n",
    "  break"
   ]
  },
  {
   "cell_type": "markdown",
   "metadata": {
    "id": "Us8XNBXg6BG1"
   },
   "source": [
    "---\n",
    "<div style=\"text-align: right\"> <font size=5> <a href=\"#indice\"><i class=\"fa fa-arrow-circle-up\" aria-hidden=\"true\" style=\"color:#004D7F\"></i></a></font></div>\n",
    "\n",
    "---"
   ]
  },
  {
   "cell_type": "markdown",
   "metadata": {
    "id": "CAz1owdd6BG2"
   },
   "source": [
    "<a id=\"section6\"></a>\n",
    "# <font color=\"#004D7F\" size=6>6. Desplazamientos aleatorios </font>"
   ]
  },
  {
   "cell_type": "markdown",
   "metadata": {
    "id": "BeMJobVZGuHv"
   },
   "source": []
  },
  {
   "cell_type": "markdown",
   "metadata": {
    "id": "IL3GWlrM6BG2"
   },
   "source": [
    "Keras admite cambios aleatorios horizontales y verticales mediante los argumentos `width_shift_range` y `height_shift_range`."
   ]
  },
  {
   "cell_type": "code",
   "execution_count": null,
   "metadata": {
    "colab": {
     "base_uri": "https://localhost:8080/",
     "height": 433
    },
    "executionInfo": {
     "elapsed": 1816,
     "status": "ok",
     "timestamp": 1716577618824,
     "user": {
      "displayName": "Aldo Munaretto",
      "userId": "00686307437549586015"
     },
     "user_tz": -120
    },
    "id": "OJ3buD8u6BG2",
    "outputId": "c0d944cd-1bff-4f13-e6ef-19c19a23089f",
    "scrolled": true
   },
   "outputs": [],
   "source": [
    "# load data\n",
    "(X_train, y_train), (X_test, y_test) = mnist.load_data()\n",
    "\n",
    "# reshape to be [samples][width][height][channels]\n",
    "X_train = X_train.reshape((X_train.shape[0], 28, 28, 1))\n",
    "X_test = X_test.reshape((X_test.shape[0], 28, 28, 1))\n",
    "\n",
    "# convert from int to float\n",
    "X_train = X_train.astype('float32')\n",
    "X_test = X_test.astype('float32')\n",
    "\n",
    "# Normalize values in range from 0 to 1\n",
    "X_train /= 255\n",
    "X_test /= 255\n",
    "\n",
    "# define data preparation\n",
    "datagen = ImageDataGenerator(width_shift_range=0.2, height_shift_range=0.2)\n",
    "\n",
    "# fit parameters from data\n",
    "datagen.fit(X_train)\n",
    "\n",
    "# configure batch size and retrieve one batch of images\n",
    "for X_batch, y_batch in datagen.flow(X_train, y_train, batch_size=9):\n",
    "  for i in range(0,9):\n",
    "    plt.subplot(330+1+i)\n",
    "    plt.imshow(X_batch[i].reshape(28,28), cmap=plt.get_cmap('gray'))\n",
    "  plt.show()\n",
    "  break"
   ]
  },
  {
   "cell_type": "markdown",
   "metadata": {
    "id": "eBCjev946BG2"
   },
   "source": [
    "---\n",
    "<div style=\"text-align: right\"> <font size=5> <a href=\"#indice\"><i class=\"fa fa-arrow-circle-up\" aria-hidden=\"true\" style=\"color:#004D7F\"></i></a></font></div>\n",
    "\n",
    "---"
   ]
  },
  {
   "cell_type": "markdown",
   "metadata": {
    "id": "epB5ifxs6BG2"
   },
   "source": [
    "<a id=\"section7\"></a>\n",
    "# <font color=\"#004D7F\" size=6>7. Giros aleatorios </font>"
   ]
  },
  {
   "cell_type": "markdown",
   "metadata": {
    "id": "CQoe-GBM6BG2"
   },
   "source": [
    "Keras admite la inversión aleatoria a lo largo de los ejes vertical y horizontal utilizando los argumentos `vertical_flip` y `horizontal_flip`."
   ]
  },
  {
   "cell_type": "code",
   "execution_count": null,
   "metadata": {
    "colab": {
     "base_uri": "https://localhost:8080/",
     "height": 433
    },
    "executionInfo": {
     "elapsed": 1962,
     "status": "ok",
     "timestamp": 1716577708857,
     "user": {
      "displayName": "Aldo Munaretto",
      "userId": "00686307437549586015"
     },
     "user_tz": -120
    },
    "id": "GB5x2gvE6BG2",
    "outputId": "e6ac52a4-4421-4aed-b77f-2d782c3b20b1"
   },
   "outputs": [],
   "source": [
    "# load data\n",
    "(X_train, y_train), (X_test, y_test) = mnist.load_data()\n",
    "\n",
    "# reshape to be [samples][width][height][channels]\n",
    "X_train = X_train.reshape((X_train.shape[0], 28, 28, 1))\n",
    "X_test = X_test.reshape((X_test.shape[0], 28, 28, 1))\n",
    "\n",
    "# convert from int to float\n",
    "X_train = X_train.astype('float32')\n",
    "X_test = X_test.astype('float32')\n",
    "\n",
    "# Normalize values in range from 0 to 1\n",
    "X_train /= 255\n",
    "X_test /= 255\n",
    "\n",
    "# define data preparation\n",
    "datagen = ImageDataGenerator(vertical_flip=True, horizontal_flip=True)\n",
    "\n",
    "# fit parameters from data\n",
    "datagen.fit(X_train)\n",
    "\n",
    "# configure batch size and retrieve one batch of images\n",
    "for X_batch, y_batch in datagen.flow(X_train, y_train, batch_size=9):\n",
    "  for i in range(0,9):\n",
    "    plt.subplot(330+1+i)\n",
    "    plt.imshow(X_batch[i].reshape(28,28), cmap=plt.get_cmap('gray'))\n",
    "  plt.show()\n",
    "  break"
   ]
  },
  {
   "cell_type": "markdown",
   "metadata": {
    "id": "aiiM67mO6BG2"
   },
   "source": [
    "---\n",
    "<div style=\"text-align: right\"> <font size=5> <a href=\"#indice\"><i class=\"fa fa-arrow-circle-up\" aria-hidden=\"true\" style=\"color:#004D7F\"></i></a></font></div>\n",
    "\n",
    "---"
   ]
  },
  {
   "cell_type": "markdown",
   "metadata": {
    "id": "Mo8wUBmR6BG2"
   },
   "source": [
    "<a id=\"section8\"></a>\n",
    "# <font color=\"#004D7F\" size=6>8. Guardar imágenes aumentadas </font>"
   ]
  },
  {
   "cell_type": "markdown",
   "metadata": {
    "id": "2Iogmows6BG5"
   },
   "source": [
    "El directorio, el prefijo del nombre de archivo y el tipo de archivo de imagen se pueden especificar en la función `flow()` antes del entrenamiento.\n",
    "\n",
    "El siguiente ejemplo demuestra esto y escribe 9 imágenes en un subdirectorio `Img` con el prefijo `aug` y el tipo de archivo PNG."
   ]
  },
  {
   "cell_type": "code",
   "execution_count": null,
   "metadata": {
    "colab": {
     "base_uri": "https://localhost:8080/",
     "height": 433
    },
    "executionInfo": {
     "elapsed": 1917,
     "status": "ok",
     "timestamp": 1716577793638,
     "user": {
      "displayName": "Aldo Munaretto",
      "userId": "00686307437549586015"
     },
     "user_tz": -120
    },
    "id": "lPDWHnx26BG6",
    "outputId": "6c27bca4-2ed5-496b-dde7-73084f108c1f"
   },
   "outputs": [],
   "source": [
    "# Save augmented images to file\n",
    "import os\n",
    "\n",
    "# load data\n",
    "(X_train, y_train), (X_test, y_test) = mnist.load_data()\n",
    "\n",
    "# reshape to be [samples][width][height][channels]\n",
    "X_train = X_train.reshape((X_train.shape[0], 28, 28, 1))\n",
    "X_test = X_test.reshape((X_test.shape[0], 28, 28, 1))\n",
    "\n",
    "# convert from int to float\n",
    "X_train = X_train.astype('float32')\n",
    "X_test = X_test.astype('float32')\n",
    "\n",
    "# Normalize values in range from 0 to 1\n",
    "X_train /= 255\n",
    "X_test /= 255\n",
    "\n",
    "# define data preparation\n",
    "datagen = ImageDataGenerator(\n",
    "    rotation_range=40,\n",
    "    width_shift_range=0.2,\n",
    "    height_shift_range=0.2,\n",
    "    shear_range=0.2,\n",
    "    zoom_range=0.2,\n",
    "    horizontal_flip=True,\n",
    "    fill_mode='nearest'\n",
    ")\n",
    "\n",
    "# fit parameters from data\n",
    "datagen.fit(X_train)\n",
    "\n",
    "# configure batch size and retrieve one batch of images\n",
    "os.makedirs('MNIST')\n",
    "\n",
    "for X_batch, y_batch in datagen.flow(X_train, y_train, batch_size=9, save_to_dir='MNIST', save_prefix='augmented', save_format='png'):\n",
    "  for i in range(0,9):\n",
    "    plt.subplot(330+1+i)\n",
    "    plt.imshow(X_batch[i].reshape(28,28), cmap=plt.get_cmap('gray'))\n",
    "  plt.show()\n",
    "  break"
   ]
  },
  {
   "cell_type": "markdown",
   "metadata": {
    "id": "Nr0YFAwy6BG6"
   },
   "source": [
    "---\n",
    "<div style=\"text-align: right\"> <font size=5> <a href=\"#indice\"><i class=\"fa fa-arrow-circle-up\" aria-hidden=\"true\" style=\"color:#004D7F\"></i></a></font></div>\n",
    "\n",
    "---"
   ]
  },
  {
   "cell_type": "markdown",
   "metadata": {
    "id": "vFS2yrtS6BG6"
   },
   "source": [
    "<a id=\"section9\"></a>\n",
    "# <font color=\"#004D7F\" size=6>9. Consejos finales </font>"
   ]
  },
  {
   "cell_type": "markdown",
   "metadata": {
    "id": "UinE46ht6BG6"
   },
   "source": [
    "A continuación, se incluyen algunos consejos para aprovechar al máximo esta técnica:\n",
    "* **Revisar el conjunto de datos**. Tómese un tiempo para revisar su conjunto de datos con gran detalle.\n",
    "* **Revisar ampliaciones**. Revise las imágenes de muestra después de que se haya realizado el aumento.\n",
    "* **Evaluar un conjunto de transformaciones**. Pruebe más de un esquema de preparación."
   ]
  },
  {
   "cell_type": "markdown",
   "metadata": {
    "id": "xGhiP12R6BG6"
   },
   "source": [
    "<div style=\"text-align: right\"> <font size=5> <a href=\"#indice\"><i class=\"fa fa-arrow-circle-up\" aria-hidden=\"true\" style=\"color:#004D7F\"></i></a></font></div>\n",
    "\n",
    "---\n",
    "\n",
    "<div style=\"text-align: right\"> <font size=6><i class=\"fa fa-coffee\" aria-hidden=\"true\" style=\"color:#004D7F\"></i> </font></div>"
   ]
  }
 ],
 "metadata": {
  "colab": {
   "provenance": []
  },
  "kernelspec": {
   "display_name": "Python 3",
   "language": "python",
   "name": "python3"
  },
  "language_info": {
   "codemirror_mode": {
    "name": "ipython",
    "version": 3
   },
   "file_extension": ".py",
   "mimetype": "text/x-python",
   "name": "python",
   "nbconvert_exporter": "python",
   "pygments_lexer": "ipython3",
   "version": "3.9.6"
  },
  "widgets": {
   "application/vnd.jupyter.widget-state+json": {
    "0029f6c2d9ae48fc9c40c853b26c94bd": {
     "model_module": "@jupyter-widgets/controls",
     "model_module_version": "1.5.0",
     "model_name": "DescriptionStyleModel",
     "state": {
      "_model_module": "@jupyter-widgets/controls",
      "_model_module_version": "1.5.0",
      "_model_name": "DescriptionStyleModel",
      "_view_count": null,
      "_view_module": "@jupyter-widgets/base",
      "_view_module_version": "1.2.0",
      "_view_name": "StyleView",
      "description_width": ""
     }
    },
    "1d4320ed73bc46c69c359bc8ac600f44": {
     "model_module": "@jupyter-widgets/controls",
     "model_module_version": "1.5.0",
     "model_name": "HTMLModel",
     "state": {
      "_dom_classes": [],
      "_model_module": "@jupyter-widgets/controls",
      "_model_module_version": "1.5.0",
      "_model_name": "HTMLModel",
      "_view_count": null,
      "_view_module": "@jupyter-widgets/controls",
      "_view_module_version": "1.5.0",
      "_view_name": "HTMLView",
      "description": "",
      "description_tooltip": null,
      "layout": "IPY_MODEL_6d1c8370422e4e068af9c068f8566066",
      "placeholder": "​",
      "style": "IPY_MODEL_0029f6c2d9ae48fc9c40c853b26c94bd",
      "value": "Dl Completed...: 100%"
     }
    },
    "654d80dc8aad461b802dd8409f545857": {
     "model_module": "@jupyter-widgets/controls",
     "model_module_version": "1.5.0",
     "model_name": "FloatProgressModel",
     "state": {
      "_dom_classes": [],
      "_model_module": "@jupyter-widgets/controls",
      "_model_module_version": "1.5.0",
      "_model_name": "FloatProgressModel",
      "_view_count": null,
      "_view_module": "@jupyter-widgets/controls",
      "_view_module_version": "1.5.0",
      "_view_name": "ProgressView",
      "bar_style": "success",
      "description": "",
      "description_tooltip": null,
      "layout": "IPY_MODEL_8d52bd90875f4349bd4f32bfee47fa28",
      "max": 5,
      "min": 0,
      "orientation": "horizontal",
      "style": "IPY_MODEL_d1f951b94ee14a208f02729a2f36ca98",
      "value": 5
     }
    },
    "6d1c8370422e4e068af9c068f8566066": {
     "model_module": "@jupyter-widgets/base",
     "model_module_version": "1.2.0",
     "model_name": "LayoutModel",
     "state": {
      "_model_module": "@jupyter-widgets/base",
      "_model_module_version": "1.2.0",
      "_model_name": "LayoutModel",
      "_view_count": null,
      "_view_module": "@jupyter-widgets/base",
      "_view_module_version": "1.2.0",
      "_view_name": "LayoutView",
      "align_content": null,
      "align_items": null,
      "align_self": null,
      "border": null,
      "bottom": null,
      "display": null,
      "flex": null,
      "flex_flow": null,
      "grid_area": null,
      "grid_auto_columns": null,
      "grid_auto_flow": null,
      "grid_auto_rows": null,
      "grid_column": null,
      "grid_gap": null,
      "grid_row": null,
      "grid_template_areas": null,
      "grid_template_columns": null,
      "grid_template_rows": null,
      "height": null,
      "justify_content": null,
      "justify_items": null,
      "left": null,
      "margin": null,
      "max_height": null,
      "max_width": null,
      "min_height": null,
      "min_width": null,
      "object_fit": null,
      "object_position": null,
      "order": null,
      "overflow": null,
      "overflow_x": null,
      "overflow_y": null,
      "padding": null,
      "right": null,
      "top": null,
      "visibility": null,
      "width": null
     }
    },
    "8d52bd90875f4349bd4f32bfee47fa28": {
     "model_module": "@jupyter-widgets/base",
     "model_module_version": "1.2.0",
     "model_name": "LayoutModel",
     "state": {
      "_model_module": "@jupyter-widgets/base",
      "_model_module_version": "1.2.0",
      "_model_name": "LayoutModel",
      "_view_count": null,
      "_view_module": "@jupyter-widgets/base",
      "_view_module_version": "1.2.0",
      "_view_name": "LayoutView",
      "align_content": null,
      "align_items": null,
      "align_self": null,
      "border": null,
      "bottom": null,
      "display": null,
      "flex": null,
      "flex_flow": null,
      "grid_area": null,
      "grid_auto_columns": null,
      "grid_auto_flow": null,
      "grid_auto_rows": null,
      "grid_column": null,
      "grid_gap": null,
      "grid_row": null,
      "grid_template_areas": null,
      "grid_template_columns": null,
      "grid_template_rows": null,
      "height": null,
      "justify_content": null,
      "justify_items": null,
      "left": null,
      "margin": null,
      "max_height": null,
      "max_width": null,
      "min_height": null,
      "min_width": null,
      "object_fit": null,
      "object_position": null,
      "order": null,
      "overflow": null,
      "overflow_x": null,
      "overflow_y": null,
      "padding": null,
      "right": null,
      "top": null,
      "visibility": null,
      "width": null
     }
    },
    "997e9d846f274f528b48a3b5f0e33f21": {
     "model_module": "@jupyter-widgets/base",
     "model_module_version": "1.2.0",
     "model_name": "LayoutModel",
     "state": {
      "_model_module": "@jupyter-widgets/base",
      "_model_module_version": "1.2.0",
      "_model_name": "LayoutModel",
      "_view_count": null,
      "_view_module": "@jupyter-widgets/base",
      "_view_module_version": "1.2.0",
      "_view_name": "LayoutView",
      "align_content": null,
      "align_items": null,
      "align_self": null,
      "border": null,
      "bottom": null,
      "display": null,
      "flex": null,
      "flex_flow": null,
      "grid_area": null,
      "grid_auto_columns": null,
      "grid_auto_flow": null,
      "grid_auto_rows": null,
      "grid_column": null,
      "grid_gap": null,
      "grid_row": null,
      "grid_template_areas": null,
      "grid_template_columns": null,
      "grid_template_rows": null,
      "height": null,
      "justify_content": null,
      "justify_items": null,
      "left": null,
      "margin": null,
      "max_height": null,
      "max_width": null,
      "min_height": null,
      "min_width": null,
      "object_fit": null,
      "object_position": null,
      "order": null,
      "overflow": null,
      "overflow_x": null,
      "overflow_y": null,
      "padding": null,
      "right": null,
      "top": null,
      "visibility": null,
      "width": null
     }
    },
    "b75af6c520184b959cce0b868ed6be11": {
     "model_module": "@jupyter-widgets/controls",
     "model_module_version": "1.5.0",
     "model_name": "HBoxModel",
     "state": {
      "_dom_classes": [],
      "_model_module": "@jupyter-widgets/controls",
      "_model_module_version": "1.5.0",
      "_model_name": "HBoxModel",
      "_view_count": null,
      "_view_module": "@jupyter-widgets/controls",
      "_view_module_version": "1.5.0",
      "_view_name": "HBoxView",
      "box_style": "",
      "children": [
       "IPY_MODEL_1d4320ed73bc46c69c359bc8ac600f44",
       "IPY_MODEL_654d80dc8aad461b802dd8409f545857",
       "IPY_MODEL_d4b3b06af14a4b81a4e011203138d5e5"
      ],
      "layout": "IPY_MODEL_997e9d846f274f528b48a3b5f0e33f21"
     }
    },
    "b912b569fc5b43278fc6487853065cef": {
     "model_module": "@jupyter-widgets/controls",
     "model_module_version": "1.5.0",
     "model_name": "DescriptionStyleModel",
     "state": {
      "_model_module": "@jupyter-widgets/controls",
      "_model_module_version": "1.5.0",
      "_model_name": "DescriptionStyleModel",
      "_view_count": null,
      "_view_module": "@jupyter-widgets/base",
      "_view_module_version": "1.2.0",
      "_view_name": "StyleView",
      "description_width": ""
     }
    },
    "d1f951b94ee14a208f02729a2f36ca98": {
     "model_module": "@jupyter-widgets/controls",
     "model_module_version": "1.5.0",
     "model_name": "ProgressStyleModel",
     "state": {
      "_model_module": "@jupyter-widgets/controls",
      "_model_module_version": "1.5.0",
      "_model_name": "ProgressStyleModel",
      "_view_count": null,
      "_view_module": "@jupyter-widgets/base",
      "_view_module_version": "1.2.0",
      "_view_name": "StyleView",
      "bar_color": null,
      "description_width": ""
     }
    },
    "d4b3b06af14a4b81a4e011203138d5e5": {
     "model_module": "@jupyter-widgets/controls",
     "model_module_version": "1.5.0",
     "model_name": "HTMLModel",
     "state": {
      "_dom_classes": [],
      "_model_module": "@jupyter-widgets/controls",
      "_model_module_version": "1.5.0",
      "_model_name": "HTMLModel",
      "_view_count": null,
      "_view_module": "@jupyter-widgets/controls",
      "_view_module_version": "1.5.0",
      "_view_name": "HTMLView",
      "description": "",
      "description_tooltip": null,
      "layout": "IPY_MODEL_f45b2c82b9b2449783f71210479b6b28",
      "placeholder": "​",
      "style": "IPY_MODEL_b912b569fc5b43278fc6487853065cef",
      "value": " 5/5 [00:16&lt;00:00,  3.99s/ file]"
     }
    },
    "f45b2c82b9b2449783f71210479b6b28": {
     "model_module": "@jupyter-widgets/base",
     "model_module_version": "1.2.0",
     "model_name": "LayoutModel",
     "state": {
      "_model_module": "@jupyter-widgets/base",
      "_model_module_version": "1.2.0",
      "_model_name": "LayoutModel",
      "_view_count": null,
      "_view_module": "@jupyter-widgets/base",
      "_view_module_version": "1.2.0",
      "_view_name": "LayoutView",
      "align_content": null,
      "align_items": null,
      "align_self": null,
      "border": null,
      "bottom": null,
      "display": null,
      "flex": null,
      "flex_flow": null,
      "grid_area": null,
      "grid_auto_columns": null,
      "grid_auto_flow": null,
      "grid_auto_rows": null,
      "grid_column": null,
      "grid_gap": null,
      "grid_row": null,
      "grid_template_areas": null,
      "grid_template_columns": null,
      "grid_template_rows": null,
      "height": null,
      "justify_content": null,
      "justify_items": null,
      "left": null,
      "margin": null,
      "max_height": null,
      "max_width": null,
      "min_height": null,
      "min_width": null,
      "object_fit": null,
      "object_position": null,
      "order": null,
      "overflow": null,
      "overflow_x": null,
      "overflow_y": null,
      "padding": null,
      "right": null,
      "top": null,
      "visibility": null,
      "width": null
     }
    }
   }
  }
 },
 "nbformat": 4,
 "nbformat_minor": 0
}
