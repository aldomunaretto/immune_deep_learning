{
 "cells": [
  {
   "cell_type": "markdown",
   "metadata": {},
   "source": [
    "[![Open in Colab](https://colab.research.google.com/assets/colab-badge.svg)](https://colab.research.google.com/github/aldomunaretto/immune_deep_learning/blob/main/notebooks/02_CNN/14_CNN_cats_vs_dogs.ipynb)"
   ]
  },
  {
   "cell_type": "markdown",
   "metadata": {
    "id": "r2NPAI4jZZgi"
   },
   "source": [
    "<h1><font color=\"#113D68\" size=6>Redes Neuronales Convolucionales</font></h1>\n",
    "\n",
    "<h1><font color=\"#113D68\" size=5>Práctica: Clasificación de Imágenes de Gatos y Perros</font></h1>"
   ]
  },
  {
   "cell_type": "markdown",
   "metadata": {
    "id": "Ixyte299ZZgk"
   },
   "source": [
    "En este ejercicio, utilizaremos el dataset [cats_vs_dogs](https://www.tensorflow.org/datasets/catalog/cats_vs_dogs) proporcionado por TensorFlow Datasets para entrenar varios modelos de clasificación de imágenes."
   ]
  },
  {
   "cell_type": "markdown",
   "metadata": {
    "id": "vSKuonplocBl"
   },
   "source": [
    "## Tareas\n",
    "\n",
    "### Tarea 1: Modelo con dos capas convolucionales sin pooling y sin regularización\n",
    "\n",
    "1. Carga el dataset `cats_vs_dogs` usando TensorFlow Datasets.\n",
    "2. Preprocesa las imágenes redimensionándolas a 128x128 píxeles y normalizando los valores de los píxeles.\n",
    "3. Crea un modelo de red neuronal con dos capas convolucionales sin pooling y sin ninguna regularización.\n",
    "4. Entrena el modelo y evalúa su precisión en el conjunto de prueba.\n",
    "\n",
    "### Tarea 2: Introduce pooling en el modelo anterior\n",
    "\n",
    "1. Modifica el modelo de la Pregunta 1 para incluir capas de pooling después de cada capa convolucional.\n",
    "2. Entrena el modelo modificado y evalúa su precisión en el conjunto de prueba.\n",
    "3. Compara la precisión obtenida con la del modelo de la Pregunta 1.\n",
    "\n",
    "### Tarea 3: Introduce regularización y aumenta el número de capas\n",
    "\n",
    "1. Añade técnicas de regularización al modelo, como la capa `Dropout` y el aumento de datos (`data augmentation`).\n",
    "2. Aumenta el número de capas convolucionales en el modelo.\n",
    "3. Entrena el modelo mejorado y evalúa su precisión en el conjunto de prueba.\n",
    "4. Intenta obtener una precisión en el conjunto de prueba superior al 80%.\n",
    "\n",
    "### Tarea 4: Prueba el aprendizaje por transferencia (transfer learning)\n",
    "\n",
    "1. Utiliza un modelo preentrenado (como VGG16) y adapta sus capas finales para el problema de clasificación de gatos y perros.\n",
    "2. Entrena el modelo utilizando el aprendizaje por transferencia.\n",
    "3. Evalúa la precisión del modelo en el conjunto de prueba.\n",
    "\n",
    "## Instrucciones\n",
    "\n",
    "1. Cargar y preprocesar correctamente el dataset `cats_vs_dogs`.\n",
    "2. Implementa los modelos utilizando Keras.\n",
    "3. Entrena y evalúa cada modelo, registrando las precisiones obtenidas en cada etapa."
   ]
  },
  {
   "cell_type": "markdown",
   "metadata": {
    "id": "LbCigZtNZZgl"
   },
   "source": [
    "## Descargar los datos de cats_vs_dogs\n",
    "Primero, instalemos TensorFlow si no lo tenemos en nuestro entorno (No hace falta si estan trabajando en Google Colab) e importamos la liberia. Luego descargamos `cats_vs_dogs`, que es uno de los conjuntos de datos de TensorFlow."
   ]
  },
  {
   "cell_type": "code",
   "execution_count": null,
   "metadata": {
    "id": "d44TznbgZZgm"
   },
   "outputs": [],
   "source": [
    "import tensorflow as tf\n",
    "# Eliminar warning\n",
    "tf.compat.v1.logging.set_verbosity(tf.compat.v1.logging.ERROR)\n",
    "\n",
    "import tensorflow_datasets as tfds\n",
    "import matplotlib.pyplot as plt\n",
    "\n",
    "# Cargar el dataset Cats vs Dogs\n",
    "dataset, info = tfds.load('cats_vs_dogs', with_info=True, as_supervised=True)"
   ]
  }
 ],
 "metadata": {
  "accelerator": "GPU",
  "colab": {
   "provenance": []
  },
  "kernelspec": {
   "display_name": "Python 3",
   "name": "python3"
  }
 },
 "nbformat": 4,
 "nbformat_minor": 0
}
