{
 "cells": [
  {
   "cell_type": "markdown",
   "metadata": {},
   "source": [
    "[![Open in Colab](https://colab.research.google.com/assets/colab-badge.svg)](https://colab.research.google.com/github/aldomunaretto/immune_deep_learning/blob/main/notebooks/02_CNN/11_CNN_Fashion_MNIST.ipynb)"
   ]
  },
  {
   "cell_type": "markdown",
   "metadata": {
    "id": "r2NPAI4jZZgi"
   },
   "source": [
    "<h1><font color=\"#113D68\" size=6>Redes Neuronales Convolucionales</font></h1>\n",
    "\n",
    "<h1><font color=\"#113D68\" size=5>Práctica: Clasificar Fashion-MNIST con una CNN simple en Keras</font></h1>\n",
    "\n",
    "<h1><font color=\"#113D68\" size=4>Objetivo: Accuracy>0.89</font></h1>"
   ]
  },
  {
   "cell_type": "markdown",
   "metadata": {
    "id": "Ixyte299ZZgk"
   },
   "source": [
    "El dataset [fashion_mnist](https://github.com/zalandoresearch/fashion-mnist) consta de 60,000 datos de entrenamiento y 10,000 datos de prueba con 10 categorías. Cada imagen en escala de grises tiene un tamaño de 28x28.\n",
    "\n",
    "Si quieres saber más sobre el conjunto de datos Fashion-MNIST en este [artículo](https://arxiv.org/abs/1708.07747) (**Fashion-MNIST: a Novel Image Dataset for Benchmarking Machine Learning Algorithms**)\n",
    "\n",
    "<br> **Label**\t**Description**\n",
    "<br> 0 T-shirt/top (Camiseta/top)\n",
    "<br> 1 Trouser (Pantalón)\n",
    "<br> 2 Pullover (Suéter)\n",
    "<br> 3 Dress (Vestido)\n",
    "<br> 4 Coat (Abrigo)\n",
    "<br> 5 Sandal (Sandalia)\n",
    "<br> 6 Shirt (Camisa)\n",
    "<br> 7 Sneaker (Zapatilla deportiva)\n",
    "<br> 8 Bag (Bolsa)\n",
    "<br> 9 Ankle boot (Botín)"
   ]
  },
  {
   "cell_type": "markdown",
   "metadata": {
    "id": "LbCigZtNZZgl"
   },
   "source": [
    "## Descargar los datos de Fashion MNIST\n",
    "Primero, instalemos TensorFlow si no lo tenemos en nuestro entorno (No hace falta si estan trabajando en Google Colab) e importamos la liberia. Luego descargamos fashion-mnist, que es uno de los conjuntos de datos de Keras."
   ]
  },
  {
   "cell_type": "code",
   "execution_count": null,
   "metadata": {
    "id": "d44TznbgZZgm"
   },
   "outputs": [],
   "source": [
    "import tensorflow as tf\n",
    "# Eliminar warning\n",
    "tf.compat.v1.logging.set_verbosity(tf.compat.v1.logging.ERROR)\n",
    "\n",
    "import numpy as np\n",
    "import matplotlib.pyplot as plt\n",
    "\n",
    "# Cargar los datos de entrenamiento y prueba premezclados de fashion-mnist\n",
    "(x_train, y_train), (x_test, y_test) = ??"
   ]
  },
  {
   "cell_type": "markdown",
   "metadata": {
    "id": "tWORMSC8FDR4"
   },
   "source": [
    "## Visualizar los datos"
   ]
  },
  {
   "cell_type": "code",
   "execution_count": null,
   "metadata": {
    "id": "aFe4wHGRFKle"
   },
   "outputs": [],
   "source": [
    "# Imprime la forma(shape) del conjunto de entrenamiento:\n",
    "# Observa que hayan 60,000 datos de entrenamiento con un tamaño de imagen de 28x28 y 60,000 etiquetas de entrenamiento.\n",
    "print(\"x_train shape:\", x_train.shape, \"y_train shape:\", y_train.shape)\n",
    "\n",
    "# Imprime el número de conjuntos de datos de entrenamiento y prueba.\n",
    "??\n",
    "??\n",
    "\n",
    "# Definir las etiquetas de texto (puede ser en Castellano o en Ingles)\n",
    "fashion_mnist_labels = ??\n"
   ]
  },
  {
   "cell_type": "markdown",
   "metadata": {
    "id": "Zx-Ee6LHZZgt"
   },
   "source": [
    "## Normalización de datos\n",
    "Normalizar las dimensiones de los datos para que estén en la misma escala."
   ]
  },
  {
   "cell_type": "code",
   "execution_count": 4,
   "metadata": {
    "executionInfo": {
     "elapsed": 496,
     "status": "ok",
     "timestamp": 1716537021776,
     "user": {
      "displayName": "Aldo Munaretto",
      "userId": "00686307437549586015"
     },
     "user_tz": -120
    },
    "id": "XNh5NIckZZgu"
   },
   "outputs": [],
   "source": [
    "??"
   ]
  },
  {
   "cell_type": "code",
   "execution_count": null,
   "metadata": {
    "id": "LMSg53fiZZgx"
   },
   "outputs": [],
   "source": [
    "print(\"Número de datos de entrenamiento - \" + str(len(x_train)))\n",
    "print(\"Número de datos de prueba - \" + str(len(x_test)))"
   ]
  },
  {
   "cell_type": "markdown",
   "metadata": {
    "id": "CFlNHktHBtru"
   },
   "source": [
    "## Dividir los datos en conjuntos de entrenamiento/validación/prueba\n",
    "*   Datos de entrenamiento: se utilizan para entrenar el modelo\n",
    "*   Datos de validación: se utilizan para ajustar los hiperparámetros y evaluar los modelos\n",
    "*   Datos de prueba: se utilizan para probar el modelo después de que haya pasado por una evaluación inicial con el conjunto de validación.\n",
    "\n"
   ]
  },
  {
   "cell_type": "code",
   "execution_count": null,
   "metadata": {
    "id": "1ShU787gZZg0"
   },
   "outputs": [],
   "source": [
    "# Dividir los datos del conjunto de entrenamiento en conjuntos de entrenamiento/validación (poner 5000 en el conjunto de validación y mantener los 55,000 restantes para el entrenamiento)\n",
    "??\n",
    "\n",
    "# Redimensionar los datos de entrada de (28, 28) a (28, 28, 1)\n",
    "x_train = ??\n",
    "x_valid = ??\n",
    "x_test = ??\n",
    "\n",
    "# Realiza la codificación one-hot en las etiquetas\n",
    "y_train = ??\n",
    "y_valid = ??\n",
    "y_test = ??\n",
    "\n",
    "\n",
    "# Imprimir el número de conjuntos de datos de entrenamiento, validación y prueba.\n",
    "print(x_train.shape[0], 'train set')\n",
    "print(x_valid.shape[0], 'validation set')\n",
    "print(x_test.shape[0], 'test set')"
   ]
  },
  {
   "cell_type": "markdown",
   "metadata": {
    "id": "HhalcO03ZZg3"
   },
   "source": [
    "## Crear la arquitectura del modelo\n",
    "\n",
    "Existen dos APIs para definir un modelo en Keras:\n",
    "1. [API de modelo secuencial](https://keras.io/models/sequential/)\n",
    "2. [API funcional](https://keras.io/models/model/)\n",
    "\n",
    "Para esta práctica se sugiere utilizar la API de modelo secuencial.\n",
    "Si te interesa un tutorial utilizando la API funcional, consulta el blog de Sara Robinson [Prediciendo el precio del vino con la API funcional de Keras y TensorFlow.](https://medium.com/tensorflow/predicting-the-price-of-wine-with-the-keras-functional-api-and-tensorflow-a95d1c2c1b03).\n",
    "\n",
    "Al definir el modelo, utilizaremos algunas de estas APIs de Keras:\n",
    "*   Conv2D() [enlace](https://www.tensorflow.org/api_docs/python/tf/keras/layers/Conv2D/) - crea una capa convolucional\n",
    "*   Pooling() [enlace](https://keras.io/layers/pooling/) - crea una capa de agrupación (pooling)\n",
    "*   Dropout() [enlace](https://www.tensorflow.org/api_docs/python/tf/keras/layers/Dropout) - aplica dropout"
   ]
  },
  {
   "cell_type": "code",
   "execution_count": null,
   "metadata": {
    "id": "QgTZ47SsZZg4"
   },
   "outputs": [],
   "source": [
    "model = tf.keras.Sequential()\n",
    "\n",
    "# Definir las capas de la red neuronal\n",
    "??\n",
    "\n",
    "# Resumen del modelo\n",
    "model.summary()"
   ]
  },
  {
   "cell_type": "markdown",
   "metadata": {
    "id": "FhxJ5dinZZg8"
   },
   "source": [
    "## Compilar el modelo\n",
    "Configura el proceso de aprendizaje con el método **compile()** antes de entrenar el modelo. Recibe tres argumentos:\n",
    "\n",
    "* Un optimizador\n",
    "* Una función de pérdida\n",
    "* Una lista de métricas\n"
   ]
  },
  {
   "cell_type": "code",
   "execution_count": 9,
   "metadata": {
    "executionInfo": {
     "elapsed": 1178,
     "status": "ok",
     "timestamp": 1716540198567,
     "user": {
      "displayName": "Aldo Munaretto",
      "userId": "00686307437549586015"
     },
     "user_tz": -120
    },
    "id": "CQUlOa8cZZg9"
   },
   "outputs": [],
   "source": [
    "??"
   ]
  },
  {
   "cell_type": "markdown",
   "metadata": {
    "id": "DtOvh3YVZZg_"
   },
   "source": [
    "## Entrenar el modelo\n",
    "\n",
    "Ahora entrenemos el modelo con la método **fit()**.\n",
    "\n",
    "Utiliza el método [ModelCheckpoint](https://keras.io/callbacks/#modelcheckpoint) para guardar el modelo después de cada época. Configura \"save_best_only = True\" para guardar solo cuando la precisión de validación mejore.\n",
    "\n",
    "batch_size=64  \n",
    "epochs=10\n"
   ]
  },
  {
   "cell_type": "code",
   "execution_count": null,
   "metadata": {
    "id": "ZTmapAttZZhA"
   },
   "outputs": [],
   "source": [
    "??"
   ]
  },
  {
   "cell_type": "markdown",
   "metadata": {
    "id": "e-MGLwZQy05d"
   },
   "source": [
    "## Cargar el modelo con la mejor precisión de validación"
   ]
  },
  {
   "cell_type": "code",
   "execution_count": 11,
   "metadata": {
    "executionInfo": {
     "elapsed": 1293,
     "status": "ok",
     "timestamp": 1716540622343,
     "user": {
      "displayName": "Aldo Munaretto",
      "userId": "00686307437549586015"
     },
     "user_tz": -120
    },
    "id": "UD1tecxUZZhE"
   },
   "outputs": [],
   "source": [
    "# Cargar los pesos con la mejor precisión de validación\n",
    "model.load_weights('model.weights.best.hdf5')"
   ]
  },
  {
   "cell_type": "markdown",
   "metadata": {
    "id": "9RTRkan4yq5H"
   },
   "source": [
    "## Prueba el Accuracy"
   ]
  },
  {
   "cell_type": "code",
   "execution_count": 13,
   "metadata": {
    "colab": {
     "base_uri": "https://localhost:8080/"
    },
    "executionInfo": {
     "elapsed": 1623,
     "status": "ok",
     "timestamp": 1716540729104,
     "user": {
      "displayName": "Aldo Munaretto",
      "userId": "00686307437549586015"
     },
     "user_tz": -120
    },
    "id": "VZtqBqFFy62R",
    "outputId": "8173ecd2-43cf-4d96-e1ab-1a90f488fd84"
   },
   "outputs": [
    {
     "name": "stdout",
     "output_type": "stream",
     "text": [
      "\n",
      " Accuracy: 0.9100000262260437\n"
     ]
    }
   ],
   "source": [
    "# Evaluar el modelo en el conjunto de prueba\n",
    "score = model.evaluate(x_test, y_test, verbose=0)\n",
    "\n",
    "# Imprimir el accuracy en el conjunto de pruebas\n",
    "print('\\n', 'Accuracy:', score[1])"
   ]
  },
  {
   "cell_type": "markdown",
   "metadata": {
    "id": "oJv7XEk10bOv"
   },
   "source": [
    "## Visualizar la predicción\n",
    "Ahora visualicemos la predicción utilizando el modelo que acabas de entrenar.\n",
    "Primero obtenemos las predicciones con el modelo a partir de los datos de prueba.\n",
    "Luego imprimimos 15 imágenes del conjunto de datos de prueba y configuramos los títulos con la predicción (y la etiqueta real).\n",
    "Si la predicción coincide con la etiqueta verdadera, el título será verde; de lo contrario, se mostrará en rojo."
   ]
  },
  {
   "cell_type": "code",
   "execution_count": null,
   "metadata": {
    "id": "QwNmlfIC0YxM"
   },
   "outputs": [],
   "source": [
    "# Graficar una muestra aleatoria de 15 imágenes de prueba, sus etiquetas predichas y las etiquetas reales.\n"
   ]
  }
 ],
 "metadata": {
  "accelerator": "GPU",
  "colab": {
   "provenance": []
  },
  "kernelspec": {
   "display_name": "Python 3",
   "name": "python3"
  }
 },
 "nbformat": 4,
 "nbformat_minor": 0
}
