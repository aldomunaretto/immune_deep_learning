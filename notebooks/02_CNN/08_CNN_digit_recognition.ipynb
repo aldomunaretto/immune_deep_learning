{
 "cells": [
  {
   "cell_type": "markdown",
   "metadata": {},
   "source": [
    "[![Open in Colab](https://colab.research.google.com/assets/colab-badge.svg)](https://colab.research.google.com/github/aldomunaretto/immune_deep_learning/blob/main/notebooks/02_CNN/08_CNN_digit_recognition.ipynb)"
   ]
  },
  {
   "cell_type": "markdown",
   "metadata": {},
   "source": [
    "# Convolutional Neural Networks\n",
    "\n",
    "## Digit Recognition"
   ]
  },
  {
   "cell_type": "markdown",
   "metadata": {
    "id": "i_FLli8oV74Y"
   },
   "source": [
    "---\n",
    "\n",
    "<a id=\"index\"></a>\n",
    "## Index\n",
    "\n",
    "* [Context](#section0)\n",
    "* [MNIST dataset](#section1)\n",
    "* [Load MNIST](#section2)\n",
    "* [Baseline Model with MLP](#section3)\n",
    "* [Simple CNN for the MNIST Dataset](#section4)\n",
    "* [Deeper CNN for the MNIST Dataset](#section5)"
   ]
  },
  {
   "cell_type": "markdown",
   "metadata": {
    "id": "c6tfPFkBV74Z"
   },
   "source": [
    "---\n",
    "<a id=\"section0\"></a>\n",
    "## Context"
   ]
  },
  {
   "cell_type": "markdown",
   "metadata": {
    "id": "PxsJwjDDV74Z"
   },
   "source": [
    "In this project, you will learn how to develop a Deep Learning model for the task of handwritten digit recognition using the MNIST dataset. After completing this lesson, you will know:\n",
    "* How to load MNIST and develop a neural network model.\n",
    "* How to implement and evaluate a baseline CNN for MNIST.\n",
    "* How to implement an advanced Deep Learning model for MNIST."
   ]
  },
  {
   "cell_type": "code",
   "execution_count": null,
   "metadata": {
    "executionInfo": {
     "elapsed": 6088,
     "status": "ok",
     "timestamp": 1716568769219,
     "user": {
      "displayName": "Aldo Munaretto",
      "userId": "00686307437549586015"
     },
     "user_tz": -120
    },
    "id": "gy7T1BToV74a"
   },
   "outputs": [],
   "source": [
    "import tensorflow as tf\n",
    "from keras.datasets import mnist\n",
    "from keras.models import Sequential\n",
    "from keras.layers import Dense, Dropout, Flatten, MaxPooling2D, Conv2D\n",
    "from keras import utils, Input\n",
    "import matplotlib.pyplot as plt\n",
    "%matplotlib inline\n",
    "\n",
    "# Remove warning\n",
    "tf.compat.v1.logging.set_verbosity(tf.compat.v1.logging.ERROR)"
   ]
  },
  {
   "cell_type": "markdown",
   "metadata": {
    "id": "83bq35C8V74b"
   },
   "source": [
    "---\n",
    "<a id=\"section1\"></a>\n",
    "## MNIST dataset"
   ]
  },
  {
   "cell_type": "markdown",
   "metadata": {
    "id": "ujJJf3QUV74b"
   },
   "source": [
    "MNIST consists of images of digits from a variety of scanned documents, normalized in size and centered.\n",
    "\n",
    "Each image is given in black and white with $28 × 28$ pixels (784 pixels in total). 60,000 images are used to train a model and 10,000 images to validate it.\n",
    "\n",
    "It is a digit recognition task. As such, there are 10 digits (0 to 9) or 10 classes to predict.\n",
    "\n",
    "On Rodrigo Benenson's website, there is a list of the most advanced results and links to relevant articles on MNIST and other datasets."
   ]
  },
  {
   "cell_type": "markdown",
   "metadata": {
    "id": "sTn91ahlV74c"
   },
   "source": [
    "More information about the [MNIST](http://yann.lecun.com/exdb/mnist/) dataset"
   ]
  },
  {
   "cell_type": "markdown",
   "metadata": {
    "id": "qda80eLaV74c"
   },
   "source": [
    "Information on MNIST results from [Rodrigo Benenson](http://rodrigob.github.io/are_we_there_yet/build/classification_datasets_results.html)"
   ]
  },
  {
   "cell_type": "markdown",
   "metadata": {
    "id": "ZaZo2f75V74c"
   },
   "source": [
    "---\n",
    "<a id=\"section2\"></a>\n",
    "# Load MNIST"
   ]
  },
  {
   "cell_type": "markdown",
   "metadata": {
    "id": "TwQpOsK8V74c"
   },
   "source": [
    "The dataset is automatically downloaded the first time this function is called and stored in your home directory at `~/.keras/datasets/mnist.pkl.gz` as a 15-megabyte file.\n",
    "\n",
    "First, we will write a small script to download and visualize the first 4 images using the `mnist.load_data()` function."
   ]
  },
  {
   "cell_type": "code",
   "execution_count": null,
   "metadata": {
    "colab": {
     "base_uri": "https://localhost:8080/",
     "height": 467
    },
    "executionInfo": {
     "elapsed": 1683,
     "status": "ok",
     "timestamp": 1716568987055,
     "user": {
      "displayName": "Aldo Munaretto",
      "userId": "00686307437549586015"
     },
     "user_tz": -120
    },
    "id": "KZoPXvR_V74d",
    "outputId": "a75147bf-0c9b-4f23-98ea-07e767064852"
   },
   "outputs": [],
   "source": [
    "# split the data into training (60,000) and testing (10,000) data\n",
    "(X_train, y_train), (X_test, y_test) = mnist.load_data()\n",
    "\n",
    "# plot 4 images as gray scale\n",
    "plt.subplot(221)\n",
    "plt.imshow(X_train[0], cmap=plt.get_cmap('gray'))\n",
    "plt.subplot(222)\n",
    "plt.imshow(X_train[1], cmap=plt.get_cmap('gray'))\n",
    "plt.subplot(223)\n",
    "plt.imshow(X_train[2], cmap=plt.get_cmap('gray'))\n",
    "plt.subplot(224)\n",
    "plt.imshow(X_train[3], cmap=plt.get_cmap('gray'))\n",
    "\n",
    "# show the plot\n",
    "plt.show()"
   ]
  },
  {
   "cell_type": "markdown",
   "metadata": {
    "id": "Sn_QRrXnV74d"
   },
   "source": [
    "---\n",
    "<a id=\"section3\"></a>\n",
    "## Baseline Model with MLP"
   ]
  },
  {
   "cell_type": "markdown",
   "metadata": {
    "id": "YYntdBA1V74e"
   },
   "source": [
    "We will use a classic MLP as a baseline for comparison with convolutional neural network models.\n",
    "\n",
    "We import the classes, functions, and the MNIST dataset."
   ]
  },
  {
   "cell_type": "markdown",
   "metadata": {
    "id": "H4WGZkH2V74e"
   },
   "source": [
    "For a classic MLP, we need to reduce the images to a vector of pixels. In this case, the $28 × 28$ images will be input vectors of 784 pixels.\n",
    "\n",
    "We perform this transformation using the `reshape()` function.\n",
    "\n",
    "The pixel values are integers, so we convert them to floating-point to normalize them."
   ]
  },
  {
   "cell_type": "code",
   "execution_count": null,
   "metadata": {
    "executionInfo": {
     "elapsed": 264,
     "status": "ok",
     "timestamp": 1716569311316,
     "user": {
      "displayName": "Aldo Munaretto",
      "userId": "00686307437549586015"
     },
     "user_tz": -120
    },
    "id": "aWlMafc4V74e"
   },
   "outputs": [],
   "source": [
    "# flatten 28*28 images to a 784 vector for each image\n",
    "num_pixels = X_train.shape[1] * X_train.shape[2]\n",
    "\n",
    "X_train = X_train.reshape(X_train.shape[0], num_pixels).astype('float32')\n",
    "X_test = X_test.reshape(X_test.shape[0], num_pixels).astype('float32')"
   ]
  },
  {
   "cell_type": "code",
   "execution_count": null,
   "metadata": {
    "colab": {
     "base_uri": "https://localhost:8080/"
    },
    "executionInfo": {
     "elapsed": 233,
     "status": "ok",
     "timestamp": 1716569324311,
     "user": {
      "displayName": "Aldo Munaretto",
      "userId": "00686307437549586015"
     },
     "user_tz": -120
    },
    "id": "XxoBrdVigQ8f",
    "outputId": "c6cd8cf9-e3c8-4d37-e973-8ad92f4297cb"
   },
   "outputs": [],
   "source": [
    "X_train"
   ]
  },
  {
   "cell_type": "markdown",
   "metadata": {
    "id": "S7PR4rbXV74e"
   },
   "source": [
    "The pixel values are in a grayscale range between 0 and 255. We can normalize the pixel values in the range 0 to 1 by dividing each value by the maximum value, i.e., 255."
   ]
  },
  {
   "cell_type": "code",
   "execution_count": null,
   "metadata": {
    "executionInfo": {
     "elapsed": 222,
     "status": "ok",
     "timestamp": 1716569344720,
     "user": {
      "displayName": "Aldo Munaretto",
      "userId": "00686307437549586015"
     },
     "user_tz": -120
    },
    "id": "CbPNnLUXV74e"
   },
   "outputs": [],
   "source": [
    "# normalize inputs from 0-255 to 0-1\n",
    "X_train = X_train/255\n",
    "X_test = X_test/255"
   ]
  },
  {
   "cell_type": "code",
   "execution_count": null,
   "metadata": {
    "colab": {
     "base_uri": "https://localhost:8080/"
    },
    "executionInfo": {
     "elapsed": 246,
     "status": "ok",
     "timestamp": 1716569352203,
     "user": {
      "displayName": "Aldo Munaretto",
      "userId": "00686307437549586015"
     },
     "user_tz": -120
    },
    "id": "PgeCUiFpgZv2",
    "outputId": "b57af880-9f3e-4d6d-b746-4f00ad9831f9"
   },
   "outputs": [],
   "source": [
    "X_train"
   ]
  },
  {
   "cell_type": "markdown",
   "metadata": {
    "id": "wY7FT9KSV74e"
   },
   "source": [
    "Finally, the output variable is an integer from 0 to 9. Therefore, we will use One-Hot Encoding to transform the vector of class integers into a binary matrix.\n",
    "\n",
    "We will use the Keras function `np_utils.to_categorical()` for this."
   ]
  },
  {
   "cell_type": "code",
   "execution_count": null,
   "metadata": {
    "executionInfo": {
     "elapsed": 267,
     "status": "ok",
     "timestamp": 1716569503337,
     "user": {
      "displayName": "Aldo Munaretto",
      "userId": "00686307437549586015"
     },
     "user_tz": -120
    },
    "id": "oODAVcV3V74e"
   },
   "outputs": [],
   "source": [
    "# one hot encode outputs\n",
    "num_classes = 10\n",
    "y_train = utils.to_categorical(y_train, num_classes=num_classes)\n",
    "y_test = utils.to_categorical(y_test, num_classes=num_classes)"
   ]
  },
  {
   "cell_type": "markdown",
   "metadata": {
    "id": "GsvEbpLeV74e"
   },
   "source": [
    "Let's define our model:\n",
    "1. The number of inputs will be the maximum pixel size (784).\n",
    "2. It will have a hidden layer with the same number of neurons as inputs (784).\n",
    "3. A ReLU activation function will be used in the hidden layer.\n",
    "4. A Softmax activation function will be used in the output layer.\n",
    "5. The loss function will be `categorical_crossentropy`.\n",
    "6. We will use ADAM to learn the weights.\n",
    "\n",
    "\n"
   ]
  },
  {
   "cell_type": "markdown",
   "metadata": {},
   "source": [
    "<img src=\"https://github.com/aldomunaretto/immune_deep_learning/blob/main/image/notebook/baselineMLP.png\" alt=\"baselineMLP\" border=\"0\" width=\"400\" height=\"500\">"
   ]
  },
  {
   "cell_type": "code",
   "execution_count": null,
   "metadata": {
    "executionInfo": {
     "elapsed": 251,
     "status": "ok",
     "timestamp": 1716569681141,
     "user": {
      "displayName": "Aldo Munaretto",
      "userId": "00686307437549586015"
     },
     "user_tz": -120
    },
    "id": "DhmZU8LVV74e"
   },
   "outputs": [],
   "source": [
    "# define baseline model\n",
    "def baseline_model():\n",
    "    # create model\n",
    "    model = Sequential(\n",
    "         [\n",
    "              Input(shape=(num_pixels,)),\n",
    "              Dense(num_pixels, activation='relu'),\n",
    "              Dense(num_classes, activation='softmax')\n",
    "         ]\n",
    "    )\n",
    "    # Compile model\n",
    "    model.compile(loss='categorical_crossentropy', optimizer='adam', metrics= ['accuracy'])\n",
    "    return model"
   ]
  },
  {
   "cell_type": "markdown",
   "metadata": {
    "id": "dotBjgC8V74e"
   },
   "source": [
    "We train and evaluate the model.\n",
    "1. The model is fitted over 10 epochs with updates every 200 images.\n",
    "2. The test data is used as the validation dataset.\n",
    "3. A `verbose` value of 2 is used.\n",
    "4. We evaluate on the test set and print the metrics."
   ]
  },
  {
   "cell_type": "code",
   "execution_count": null,
   "metadata": {
    "colab": {
     "base_uri": "https://localhost:8080/"
    },
    "executionInfo": {
     "elapsed": 85289,
     "status": "ok",
     "timestamp": 1716569771117,
     "user": {
      "displayName": "Aldo Munaretto",
      "userId": "00686307437549586015"
     },
     "user_tz": -120
    },
    "id": "Vl1mzUO7V74e",
    "outputId": "0de44ba3-bca0-4c85-afe5-358af61e324a"
   },
   "outputs": [],
   "source": [
    "# build the model\n",
    "model = baseline_model()\n",
    "\n",
    "# Fit the model\n",
    "model.fit(X_train, y_train, validation_data=(X_test, y_test), epochs=10, batch_size=200, verbose=2)\n",
    "\n",
    "# Final evaluation of the model\n",
    "scores = model.evaluate(X_test, y_test, verbose = 0)\n",
    "print(\"Error of the Baseline Model: %.2f%%\" % (100-scores[1]*100))"
   ]
  },
  {
   "cell_type": "markdown",
   "metadata": {
    "id": "DEVOrsxhV74f"
   },
   "source": [
    "---\n",
    "<a id=\"section4\"></a>\n",
    "## Simple CNN for the MNIST Dataset"
   ]
  },
  {
   "cell_type": "markdown",
   "metadata": {
    "id": "ONAWtT68V74f"
   },
   "source": [
    "Now that we have seen how to load the MNIST dataset and train a simple multilayer perceptron model on it, it is time to develop a more sophisticated convolutional neural network or CNN model.\n",
    "\n",
    "We will create a simple CNN for MNIST that demonstrates how to use all aspects of a modern CNN implementation, including convolutional layers, pooling layers, and dropout layers"
   ]
  },
  {
   "cell_type": "markdown",
   "metadata": {
    "id": "r49KUaX-V74f"
   },
   "source": [
    "In Keras, the layers used for two-dimensional convolutions expect pixel values with dimensions `[samples]-[width]-[height]-[channels]`\n",
    "\n",
    "As for the channel in MNIST, since it is given in grayscale, the pixel dimension is set to 1."
   ]
  },
  {
   "cell_type": "code",
   "execution_count": null,
   "metadata": {
    "executionInfo": {
     "elapsed": 913,
     "status": "ok",
     "timestamp": 1716570383915,
     "user": {
      "displayName": "Aldo Munaretto",
      "userId": "00686307437549586015"
     },
     "user_tz": -120
    },
    "id": "PxRU1AvxV74f"
   },
   "outputs": [],
   "source": [
    "# load data\n",
    "(X_train, y_train), (X_test, y_test) = mnist.load_data()\n",
    "\n",
    "# reshape to be [samples][width][height][channels]\n",
    "X_train = X_train.reshape(X_train.shape[0],28,28,1).astype('float32')\n",
    "X_test = X_test.reshape(X_test.shape[0],28,28,1).astype('float32')"
   ]
  },
  {
   "cell_type": "markdown",
   "metadata": {
    "id": "jbcZfBzfV74f"
   },
   "source": [
    "We normalize the pixel values in the range 0 to 1 and perform OHE on the target."
   ]
  },
  {
   "cell_type": "code",
   "execution_count": null,
   "metadata": {
    "executionInfo": {
     "elapsed": 235,
     "status": "ok",
     "timestamp": 1716570412280,
     "user": {
      "displayName": "Aldo Munaretto",
      "userId": "00686307437549586015"
     },
     "user_tz": -120
    },
    "id": "dnF0EqbEV74f"
   },
   "outputs": [],
   "source": [
    "# normalize inputs from 0-255 to 0-1\n",
    "X_train = X_train/255\n",
    "X_test = X_test/255\n",
    "\n",
    "# one hot encode outputs\n",
    "numero_clases = 10\n",
    "y_train = utils.to_categorical(y_train, num_classes=numero_clases)\n",
    "y_test = utils.to_categorical(y_test, num_classes=numero_clases)"
   ]
  },
  {
   "cell_type": "markdown",
   "metadata": {
    "id": "7AFIhOmkV74f"
   },
   "source": [
    "Next, we define our neural network model:\n",
    "1. The first hidden layer is a convolutional layer called `Conv2D`.\n",
    "    * It has 32 feature maps, with a size of $5 × 5$ and a ReLU activation function.\n",
    "2. Pooling layer `MaxPooling2D`.\n",
    "    * Patch size of $2 × 2$.\n",
    "3. Regularization layer `Dropout`.\n",
    "4. Flatten layer to convert the 2D matrix into a vector (1D).\n",
    "5. Dense layer with 128 neurons and ReLU activation function.\n",
    "6. Output layer with 10 neurons for the 10 classes and a **Softmax** activation function.\n",
    "7. Compilation with ADAM, logarithmic loss as the cost function, and Accuracy as the metric.\n",
    "\n",
    "<img src=\"https://github.com/aldomunaretto/immune_deep_learning/blob/main/image/notebook/cnnTopology.png\" alt=\"CNNtopology\" border=\"0\" width=\"400\" height=\"500\">\n",
    "\n",
    "![cnnTopology.png](data:image/png;base64,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)"
   ]
  },
  {
   "cell_type": "code",
   "execution_count": null,
   "metadata": {
    "executionInfo": {
     "elapsed": 233,
     "status": "ok",
     "timestamp": 1716571200911,
     "user": {
      "displayName": "Aldo Munaretto",
      "userId": "00686307437549586015"
     },
     "user_tz": -120
    },
    "id": "EFgiHbXHV74f"
   },
   "outputs": [],
   "source": [
    "# define a simple CNN model\n",
    "def simple_model():\n",
    "    # create model\n",
    "   model = Sequential(\n",
    "         [\n",
    "              Input(shape=(28,28,1)),\n",
    "              Conv2D(32, (5,5), activation='relu'),\n",
    "              MaxPooling2D(),\n",
    "              Dropout(0.2),\n",
    "              Flatten(),\n",
    "              Dense(128, activation='relu'),\n",
    "              Dense(num_classes, activation='softmax')\n",
    "         ]\n",
    "   )\n",
    "    # Compile model\n",
    "   model.compile(loss='categorical_crossentropy', optimizer='adam', metrics= ['accuracy'])\n",
    "   return model"
   ]
  },
  {
   "cell_type": "markdown",
   "metadata": {
    "id": "9JddY2cZV74g"
   },
   "source": [
    "We train with 10 epochs at a batch size of 200."
   ]
  },
  {
   "cell_type": "code",
   "execution_count": null,
   "metadata": {
    "colab": {
     "base_uri": "https://localhost:8080/"
    },
    "executionInfo": {
     "elapsed": 326359,
     "status": "ok",
     "timestamp": 1716571537706,
     "user": {
      "displayName": "Aldo Munaretto",
      "userId": "00686307437549586015"
     },
     "user_tz": -120
    },
    "id": "P9AgGIdTV74j",
    "outputId": "470b4a5f-fda2-4f8e-a77f-c84e81dcce31"
   },
   "outputs": [],
   "source": [
    "# build the model\n",
    "model = simple_model()\n",
    "\n",
    "# Fit the model\n",
    "model.fit(X_train, y_train, validation_data=(X_test, y_test), epochs=10, batch_size=200, verbose=2)\n",
    "\n",
    "# Final evaluation of the model\n",
    "scores = model.evaluate(X_test, y_test, verbose = 0)\n",
    "print(\"Error of the CNN Simple Model: %.2f%%\" % (100-scores[1]*100))"
   ]
  },
  {
   "cell_type": "markdown",
   "metadata": {
    "id": "JQCkPowGV74j"
   },
   "source": [
    "---\n",
    "<a id=\"section5\"></a>\n",
    "## Deeper CNN for the MNIST dataset"
   ]
  },
  {
   "cell_type": "markdown",
   "metadata": {
    "id": "lJG6lD4RV74j"
   },
   "source": [
    "This time we define an architecture with more convolutional layers, Max-pooling, and fully connected layers.\n",
    "1. Convolutional layer with 30 feature maps of size $5 × 5$.\n",
    "2. Pooling layer with a patch size of $2 × 2$.\n",
    "3. Convolutional layer with 15 feature maps of size $3 × 3$.\n",
    "4. Pooling layer with a patch size of $2 × 2$.\n",
    "5. Dropout layer with 20%.\n",
    "6. Flatten layer.\n",
    "7. Fully connected layer with 128 neurons and ReLu activation.\n",
    "8. Fully connected layer with 50 neurons and ReLu activation.\n",
    "9. Output layer with Softmax activation.\n",
    "10. Compilation with ADAM, logarithmic loss as the cost function, and Accuracy as the metric."
   ]
  },
  {
   "cell_type": "code",
   "execution_count": null,
   "metadata": {
    "id": "NKEAFm-bV74k"
   },
   "outputs": [],
   "source": [
    "def larger_model():\n",
    "    # create model\n",
    "    ???\n",
    "    # Compile model\n",
    "    ???\n",
    "    return model\n",
    "\n",
    "# build the model\n",
    "???\n",
    "\n",
    "# Fit the model\n",
    "???\n",
    "\n",
    "# Final evaluation of the model\n",
    "???"
   ]
  }
 ],
 "metadata": {
  "accelerator": "GPU",
  "colab": {
   "gpuType": "T4",
   "provenance": []
  },
  "kernelspec": {
   "display_name": "Python 3",
   "name": "python3"
  },
  "language_info": {
   "codemirror_mode": {
    "name": "ipython",
    "version": 3
   },
   "file_extension": ".py",
   "mimetype": "text/x-python",
   "name": "python",
   "nbconvert_exporter": "python",
   "pygments_lexer": "ipython3",
   "version": "3.9.6"
  }
 },
 "nbformat": 4,
 "nbformat_minor": 0
}
