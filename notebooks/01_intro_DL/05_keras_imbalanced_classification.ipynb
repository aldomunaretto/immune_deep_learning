{
 "cells": [
  {
   "cell_type": "markdown",
   "metadata": {
    "id": "NDIy003pvcWf"
   },
   "source": [
    "[![Open in Colab](https://colab.research.google.com/assets/colab-badge.svg)](https://colab.research.google.com/github/aldomunaretto/immune_deep_learning/blob/main/notebooks/01_intro_DL/05_keras_imbalanced_classification.ipynb)"
   ]
  },
  {
   "cell_type": "markdown",
   "metadata": {
    "id": "5PcNY5jmmYx5"
   },
   "source": [
    "# Imbalanced classification: credit card fraud detection\n",
    "\n",
    "Reference: https://keras.io/examples/structured_data/imbalanced_classification/"
   ]
  },
  {
   "cell_type": "markdown",
   "metadata": {
    "id": "8Mp3amP1mYx7"
   },
   "source": [
    "## Introduction\n",
    "\n",
    "This example looks at the\n",
    "[Kaggle Credit Card Fraud Detection](https://www.kaggle.com/mlg-ulb/creditcardfraud/)\n",
    "dataset to demonstrate how\n",
    "to train a classification model on data with highly imbalanced classes."
   ]
  },
  {
   "cell_type": "markdown",
   "metadata": {
    "id": "fobCaf4JmYx9"
   },
   "source": [
    "## First, vectorize the CSV data"
   ]
  },
  {
   "cell_type": "code",
   "execution_count": null,
   "metadata": {},
   "outputs": [],
   "source": [
    "import csv\n",
    "import numpy as np\n",
    "from kaggle.api.kaggle_api_extended import KaggleApi\n",
    "\n",
    "# Autenticar y descargar el archivo CSV desde Kaggle\n",
    "api = KaggleApi()\n",
    "api.authenticate()\n",
    "api.dataset_download_file('mlg-ulb/creditcardfraud', 'creditcard.csv', path='/content/drive/MyDrive/data/')\n",
    "\n",
    "# Descomprimir el archivo descargado\n",
    "import zipfile\n",
    "with zipfile.ZipFile('/content/drive/MyDrive/data/creditcard.csv.zip', 'r') as zip_ref:\n",
    "    zip_ref.extractall('/content/drive/MyDrive/data/')\n",
    "\n",
    "# Leer los datos del archivo CSV\n",
    "fname = \"/content/drive/MyDrive/data/creditcard.csv\"\n",
    "\n",
    "all_features = []\n",
    "all_targets = []\n",
    "with open(fname) as f:\n",
    "    for i, line in enumerate(f):\n",
    "        if i == 0:\n",
    "            print(\"HEADER:\", line.strip())\n",
    "            continue  # Skip header\n",
    "        fields = line.strip().split(\",\")\n",
    "        all_features.append([float(v.replace('\"', \"\")) for v in fields[:-1]])\n",
    "        all_targets.append([int(fields[-1].replace('\"', \"\"))])\n",
    "        if i == 1:\n",
    "            print(\"EXAMPLE FEATURES:\", all_features[-1])\n",
    "\n",
    "features = np.array(all_features, dtype=\"float32\")\n",
    "targets = np.array(all_targets, dtype=\"uint8\")\n",
    "print(\"features.shape:\", features.shape)\n",
    "print(\"targets.shape:\", targets.shape)"
   ]
  },
  {
   "cell_type": "markdown",
   "metadata": {
    "id": "54Jn5yBCmYx_"
   },
   "source": [
    "## Prepare a validation set"
   ]
  },
  {
   "cell_type": "code",
   "execution_count": null,
   "metadata": {
    "colab": {
     "base_uri": "https://localhost:8080/"
    },
    "id": "z3vaUw0ymYx_",
    "outputId": "0223cfa4-ef52-491b-b6cf-54849aa7407d"
   },
   "outputs": [],
   "source": [
    "num_val_samples = int(len(features) * 0.2)\n",
    "train_features = features[:-num_val_samples]\n",
    "train_targets = targets[:-num_val_samples]\n",
    "test_features = features[-num_val_samples:]\n",
    "test_targets = targets[-num_val_samples:]\n",
    "\n",
    "print(\"Number of training samples:\", len(train_targets))\n",
    "print(\"Number of validation samples:\", len(test_features))"
   ]
  },
  {
   "cell_type": "markdown",
   "metadata": {
    "id": "1Cd1crUpmYyC"
   },
   "source": [
    "## [Recommended] Normalize the data"
   ]
  },
  {
   "cell_type": "code",
   "execution_count": null,
   "metadata": {
    "id": "cuv0jyuDmYyD"
   },
   "outputs": [],
   "source": [
    "train_features = ...\n",
    "test_features = ..."
   ]
  },
  {
   "cell_type": "markdown",
   "metadata": {
    "id": "2nED2hxvmYyD"
   },
   "source": [
    "## Build a binary classification model"
   ]
  },
  {
   "cell_type": "code",
   "execution_count": null,
   "metadata": {
    "id": "k-l5Sp7umYyE"
   },
   "outputs": [],
   "source": [
    "import keras\n",
    "\n",
    "model = ...\n",
    "model.summary()"
   ]
  },
  {
   "cell_type": "markdown",
   "metadata": {
    "id": "QaCr4ISpmYyF"
   },
   "source": [
    "## Exercise: detects 90% of frauds in test dataset (TP >= 68)\n",
    "\n",
    "**Tips**: check the following documentation (class weight parameter): https://keras.io/api/models/model_training_apis/#fit-method"
   ]
  },
  {
   "cell_type": "code",
   "execution_count": null,
   "metadata": {
    "id": "KFNCP9bSmYyG"
   },
   "outputs": [],
   "source": [
    "metrics = [\n",
    "  keras.metrics.TruePositives(name=\"tp\"),\n",
    "  ...\n",
    "]\n",
    "\n",
    "model.compile(\n",
    "    ...\n",
    ")\n",
    "\n",
    "model.fit(\n",
    "    train_features,\n",
    "    train_targets,\n",
    "    batch_size=...,\n",
    "    epochs=...,\n",
    "    callbacks=...,\n",
    "    verbose=2,\n",
    "    validation_split=...,\n",
    "    class_weight=...,\n",
    ")"
   ]
  },
  {
   "cell_type": "code",
   "execution_count": null,
   "metadata": {
    "id": "b9FKSB3GqpBb"
   },
   "outputs": [],
   "source": [
    "results = model.evaluate(test_features, test_targets, verbose=0)\n",
    "print('Test Loss: {}'.format(results[0]))\n",
    "print('Test TP: {}'.format(results[1]))"
   ]
  }
 ],
 "metadata": {
  "accelerator": "GPU",
  "colab": {
   "provenance": [],
   "toc_visible": true
  },
  "kernelspec": {
   "display_name": "Python 3",
   "language": "python",
   "name": "python3"
  },
  "language_info": {
   "codemirror_mode": {
    "name": "ipython",
    "version": 3
   },
   "file_extension": ".py",
   "mimetype": "text/x-python",
   "name": "python",
   "nbconvert_exporter": "python",
   "pygments_lexer": "ipython3",
   "version": "3.7.0"
  }
 },
 "nbformat": 4,
 "nbformat_minor": 0
}
