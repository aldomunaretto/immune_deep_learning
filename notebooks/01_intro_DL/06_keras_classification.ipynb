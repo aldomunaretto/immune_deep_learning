{
 "cells": [
  {
   "cell_type": "markdown",
   "metadata": {},
   "source": [
    "[![Open in Colab](https://colab.research.google.com/assets/colab-badge.svg)](https://colab.research.google.com/github/aldomunaretto/immune_deep_learning/blob/main/notebooks/01_intro_DL/06_keras_classification.ipynb)"
   ]
  },
  {
   "cell_type": "markdown",
   "metadata": {
    "id": "qA--9cAW2UyP"
   },
   "source": [
    "# Artificial Neural Networks - Classification"
   ]
  },
  {
   "cell_type": "markdown",
   "metadata": {
    "id": "lxUxkKp23ELX"
   },
   "source": [
    "## Part 1 - Data Preprocessing"
   ]
  },
  {
   "cell_type": "markdown",
   "metadata": {
    "id": "xtYdPVXz2j92"
   },
   "source": [
    "### Import Libraries\n"
   ]
  },
  {
   "cell_type": "code",
   "execution_count": 13,
   "metadata": {
    "id": "iMqBjL4U2Yhk"
   },
   "outputs": [],
   "source": [
    "import numpy as np\n",
    "import pandas as pd\n",
    "import matplotlib.pyplot as plt\n",
    "%matplotlib inline\n",
    "\n",
    "from keras import Input\n",
    "from keras.models import Sequential\n",
    "from keras.layers import Dense, Dropout\n",
    "\n",
    "from sklearn.preprocessing import LabelEncoder, OneHotEncoder, StandardScaler\n",
    "from sklearn.compose import ColumnTransformer\n",
    "from sklearn.model_selection import train_test_split\n",
    "from sklearn.metrics import confusion_matrix"
   ]
  },
  {
   "cell_type": "markdown",
   "metadata": {
    "id": "fyQNJ1Fe2sLx"
   },
   "source": [
    "\n",
    "### Download Dataset from Kaggle\n"
   ]
  },
  {
   "cell_type": "code",
   "execution_count": 8,
   "metadata": {
    "colab": {
     "base_uri": "https://localhost:8080/"
    },
    "id": "32BmLSLnTQrV",
    "outputId": "f796a65e-80fe-4194-e9ae-09c1c1e2af03"
   },
   "outputs": [],
   "source": [
    "# Install Kaggle library\n",
    "!pip install kaggle\n",
    "\n",
    "# Download and unzip the dataset\n",
    "!kaggle datasets download -d shrutimechlearn/churn-modelling -p /content/drive/MyDrive/data\n",
    "!unzip /content/drive/MyDrive/data/churn-modelling.zip -d /content/drive/MyDrive/data\n",
    "\n",
    "print(\"Dataset downloaded and unzipped\")"
   ]
  },
  {
   "cell_type": "code",
   "execution_count": 9,
   "metadata": {
    "id": "s1s2-4fH34mn"
   },
   "outputs": [],
   "source": [
    "dataset = pd.read_csv('/content/drive/MyDrive/data/Churn_Modelling.csv')\n",
    "\n",
    "X = dataset.iloc[:, 3:13].values\n",
    "y = dataset.iloc[:, 13].values"
   ]
  },
  {
   "cell_type": "markdown",
   "metadata": {
    "id": "YMjk10V02yjw"
   },
   "source": [
    "### Encode categorical data\n"
   ]
  },
  {
   "cell_type": "code",
   "execution_count": 16,
   "metadata": {
    "id": "d6H2WkWv7tMU"
   },
   "outputs": [],
   "source": [
    "labelencoder_X_1 = LabelEncoder()\n",
    "X[:, 1] = labelencoder_X_1.fit_transform(X[:, 1])\n",
    "labelencoder_X_2 = LabelEncoder()\n",
    "X[:, 2] = labelencoder_X_2.fit_transform(X[:, 2])"
   ]
  },
  {
   "cell_type": "code",
   "execution_count": 17,
   "metadata": {
    "id": "0PyWcX-X21ZY"
   },
   "outputs": [],
   "source": [
    "transformer = ColumnTransformer(\n",
    "    transformers=[\n",
    "        (\"Churn_Modelling\",        # transformation name\n",
    "         OneHotEncoder(categories='auto'), # the class to transform the data\n",
    "         [1]            # the column(s) to be applied on.\n",
    "         )\n",
    "    ], remainder='passthrough'\n",
    ")\n",
    "\n",
    "X = transformer.fit_transform(X)\n",
    "X = X[:, 1:]"
   ]
  },
  {
   "cell_type": "markdown",
   "metadata": {
    "id": "3xHLqRxA23Fl"
   },
   "source": [
    "### Split into train and test"
   ]
  },
  {
   "cell_type": "code",
   "execution_count": 18,
   "metadata": {
    "id": "GjoCCGxl26dA"
   },
   "outputs": [],
   "source": [
    "X_train, X_test, y_train, y_test = train_test_split(X, y, test_size = 0.2, random_state = 0)"
   ]
  },
  {
   "cell_type": "markdown",
   "metadata": {
    "id": "1wxFx6iB25zr"
   },
   "source": [
    "### Feature Scaling"
   ]
  },
  {
   "cell_type": "code",
   "execution_count": 19,
   "metadata": {
    "id": "8-oxDQHq2-MA"
   },
   "outputs": [],
   "source": [
    "sc_X = StandardScaler()\n",
    "X_train = sc_X.fit_transform(X_train)\n",
    "X_test = sc_X.transform(X_test)"
   ]
  },
  {
   "cell_type": "markdown",
   "metadata": {
    "id": "w4l-48uB3PMl"
   },
   "source": [
    "## Part 2 - Building the NN\n",
    "\n",
    "\n"
   ]
  },
  {
   "cell_type": "code",
   "execution_count": 20,
   "metadata": {
    "colab": {
     "base_uri": "https://localhost:8080/",
     "height": 295
    },
    "id": "RKFdMhmm3W5W",
    "outputId": "28857e3e-dd05-42ae-9ef0-bfb6bae05ce8"
   },
   "outputs": [],
   "source": [
    "# Initialize the NN\n",
    "classifier = Sequential()\n",
    "\n",
    "# Add the input layer\n",
    "classifier.add(Input(shape=(11,)))\n",
    "\n",
    "# Add the first hidden layer with dropout\n",
    "classifier.add(Dense(units = 6, kernel_initializer = \"uniform\", activation = \"relu\"))\n",
    "classifier.add(Dropout(0.1))\n",
    "\n",
    "# Add the second hidden layer with dropout\n",
    "classifier.add(Dense(units = 6, kernel_initializer = \"uniform\", activation = \"relu\"))\n",
    "classifier.add(Dropout(0.1))\n",
    "\n",
    "# Add the output layer\n",
    "classifier.add(Dense(units = 1, kernel_initializer = \"uniform\",  activation = \"sigmoid\"))\n",
    "\n",
    "# Compile the NN\n",
    "classifier.compile(optimizer = \"adam\", loss = \"binary_crossentropy\", metrics = [\"accuracy\"])\n",
    "\n",
    "# Model summary\n",
    "classifier.summary()"
   ]
  },
  {
   "cell_type": "code",
   "execution_count": 21,
   "metadata": {
    "colab": {
     "base_uri": "https://localhost:8080/"
    },
    "id": "-2mhfJpzYuNn",
    "outputId": "d2d19ada-cd57-4884-a832-32a7e82c7fa8"
   },
   "outputs": [],
   "source": [
    "# Fit the NN to the training set\n",
    "classifier.fit(X_train, y_train,  batch_size = 10, epochs = 100)"
   ]
  },
  {
   "cell_type": "markdown",
   "metadata": {
    "id": "fcOc30yH3Y1Y"
   },
   "source": [
    "## Part 3 - Evaluating the model and making final predictions"
   ]
  },
  {
   "cell_type": "markdown",
   "metadata": {
    "id": "2DQVgZme3bK5"
   },
   "source": [
    "### Predicting on test set"
   ]
  },
  {
   "cell_type": "code",
   "execution_count": 22,
   "metadata": {
    "colab": {
     "base_uri": "https://localhost:8080/"
    },
    "id": "YNcMBpVN3dc4",
    "outputId": "43557787-f938-4846-b3bb-4cc3fe458cde"
   },
   "outputs": [],
   "source": [
    "y_pred  = classifier.predict(X_test)\n",
    "y_pred = (y_pred>0.5)"
   ]
  },
  {
   "cell_type": "markdown",
   "metadata": {
    "id": "6iIyHSCl3e2N"
   },
   "source": [
    "### Confusion Matrix"
   ]
  },
  {
   "cell_type": "code",
   "execution_count": 23,
   "metadata": {
    "colab": {
     "base_uri": "https://localhost:8080/"
    },
    "id": "sk2c1O423jK1",
    "outputId": "f0b7e427-cc72-4070-ce62-fc02200496f8"
   },
   "outputs": [],
   "source": [
    "cm = confusion_matrix(y_test, y_pred)\n",
    "print(cm)"
   ]
  },
  {
   "cell_type": "code",
   "execution_count": 24,
   "metadata": {
    "colab": {
     "base_uri": "https://localhost:8080/"
    },
    "id": "8PoTb_yS91aa",
    "outputId": "a6f818e7-dfa5-4120-b268-7ac6318b3e80"
   },
   "outputs": [],
   "source": [
    "(cm[0][0]+cm[1][1])/cm.sum()"
   ]
  },
  {
   "cell_type": "markdown",
   "metadata": {
    "id": "Oiy2emXGJ1IL"
   },
   "source": [
    "## Part 4 - Evaluating, Improving and Tuning the NN"
   ]
  },
  {
   "cell_type": "markdown",
   "metadata": {
    "id": "jx4IOfqoJ5os"
   },
   "source": [
    "### Evaluating the NN"
   ]
  },
  {
   "cell_type": "code",
   "execution_count": 25,
   "metadata": {
    "colab": {
     "base_uri": "https://localhost:8080/"
    },
    "id": "nEmanr_kJ7nR",
    "outputId": "01cf833d-ce15-4281-e930-5a899aca2944"
   },
   "outputs": [],
   "source": [
    "!pip install scikeras\n",
    "\n",
    "from scikeras.wrappers import KerasClassifier\n",
    "from sklearn.model_selection import cross_val_score"
   ]
  },
  {
   "cell_type": "code",
   "execution_count": 26,
   "metadata": {
    "id": "fnXLzDSmOAEz"
   },
   "outputs": [],
   "source": [
    "def build_classifier():\n",
    "  # Initialize the NN\n",
    "  classifier = Sequential()\n",
    "\n",
    "  # Add the input layer\n",
    "  classifier.add(Input(shape=(11,)))\n",
    "\n",
    "  # Add the first hidden layer\n",
    "  classifier.add(Dense(units = 6, kernel_initializer = \"uniform\", activation = \"relu\"))\n",
    "\n",
    "  # Add the second hidden layer\n",
    "  classifier.add(Dense(units = 6, kernel_initializer = \"uniform\",  activation = \"relu\"))\n",
    "\n",
    "  # Add the output layer\n",
    "  classifier.add(Dense(units = 1, kernel_initializer = \"uniform\",  activation = \"sigmoid\"))\n",
    "\n",
    "  # Compile the NN\n",
    "  classifier.compile(optimizer = \"adam\", loss = \"binary_crossentropy\", metrics = [\"accuracy\"])\n",
    "\n",
    "  # Return the classifier\n",
    "  return classifier"
   ]
  },
  {
   "cell_type": "code",
   "execution_count": 28,
   "metadata": {
    "colab": {
     "base_uri": "https://localhost:8080/"
    },
    "id": "d_-95TJXO4bm",
    "outputId": "4ab037b5-05f4-448f-9d2d-009f7cb4f806"
   },
   "outputs": [],
   "source": [
    "classifier = KerasClassifier(model = build_classifier, batch_size = 10, epochs = 100)\n",
    "accuracies = cross_val_score(estimator=classifier, X = X_train, y = y_train, cv = 10, n_jobs=-1, verbose = 1)"
   ]
  },
  {
   "cell_type": "code",
   "execution_count": 29,
   "metadata": {
    "colab": {
     "base_uri": "https://localhost:8080/"
    },
    "id": "rBbEN_KFRIgm",
    "outputId": "639ffd8b-d2a4-4674-f718-b14d29fe29df"
   },
   "outputs": [],
   "source": [
    "accuracies"
   ]
  },
  {
   "cell_type": "code",
   "execution_count": 30,
   "metadata": {
    "colab": {
     "base_uri": "https://localhost:8080/"
    },
    "id": "Mlp3wSR_RVMc",
    "outputId": "69fba509-3dad-49c8-d9fd-5d1a4567fd2c"
   },
   "outputs": [],
   "source": [
    "mean = accuracies.mean()\n",
    "variance = accuracies.std()\n",
    "print(mean)\n",
    "print(variance)"
   ]
  },
  {
   "cell_type": "markdown",
   "metadata": {
    "id": "ZD2SQis0J7yH"
   },
   "source": [
    "### Improving the NN"
   ]
  },
  {
   "cell_type": "markdown",
   "metadata": {},
   "source": [
    "#### Dropout Regularization to reduce overfitting"
   ]
  },
  {
   "cell_type": "code",
   "execution_count": null,
   "metadata": {},
   "outputs": [],
   "source": []
  },
  {
   "cell_type": "markdown",
   "metadata": {
    "id": "v5jhH4xYJ-a2"
   },
   "source": [
    "### Tuning the NN"
   ]
  },
  {
   "cell_type": "code",
   "execution_count": 36,
   "metadata": {
    "id": "olfuoYC_KBs3"
   },
   "outputs": [],
   "source": [
    "from sklearn.model_selection import GridSearchCV # sklearn.grid_search"
   ]
  },
  {
   "cell_type": "code",
   "execution_count": 43,
   "metadata": {
    "id": "56OQnuNqdP8K"
   },
   "outputs": [],
   "source": [
    "def build_classifier(optimizer=\"adam\"):\n",
    "  # Initialize the NN\n",
    "  classifier = Sequential()\n",
    "\n",
    "  # Add the input layer\n",
    "  classifier.add(Input(shape=(11,)))\n",
    "\n",
    "  # Add the first hidden layer\n",
    "  classifier.add(Dense(units = 6, kernel_initializer = \"uniform\", activation = \"relu\"))\n",
    "\n",
    "  # Add the second hidden layer\n",
    "  classifier.add(Dense(units = 6, kernel_initializer = \"uniform\",  activation = \"relu\"))\n",
    "\n",
    "  # Add the output layer\n",
    "  classifier.add(Dense(units = 1, kernel_initializer = \"uniform\",  activation = \"sigmoid\"))\n",
    "\n",
    "  # Compile the NN\n",
    "  classifier.compile(optimizer = optimizer, loss = \"binary_crossentropy\", metrics = [\"accuracy\"])\n",
    "\n",
    "  # Return the classifier\n",
    "  return classifier"
   ]
  },
  {
   "cell_type": "code",
   "execution_count": 44,
   "metadata": {
    "id": "LQmzH82SbrnV"
   },
   "outputs": [],
   "source": [
    "classifier = KerasClassifier(model = build_classifier)"
   ]
  },
  {
   "cell_type": "code",
   "execution_count": 46,
   "metadata": {
    "colab": {
     "base_uri": "https://localhost:8080/"
    },
    "id": "Q_X4iE_Nx1PV",
    "outputId": "5458718f-6ad7-424f-be69-40a69e762b07"
   },
   "outputs": [],
   "source": [
    "print(classifier.get_params().keys())"
   ]
  },
  {
   "cell_type": "code",
   "execution_count": 47,
   "metadata": {
    "id": "O3dQRLtzb6A0"
   },
   "outputs": [],
   "source": [
    "parameters = {\n",
    "    'batch_size' : [25,32],\n",
    "    'epochs' : [10, 50],\n",
    "    'optimizer' : ['adam', 'rmsprop']\n",
    "}"
   ]
  },
  {
   "cell_type": "code",
   "execution_count": 48,
   "metadata": {
    "colab": {
     "base_uri": "https://localhost:8080/"
    },
    "id": "UGgiAsE_eDtL",
    "outputId": "c7800f6d-64ad-4779-ead4-ea236bfa07fa"
   },
   "outputs": [],
   "source": [
    "grid_search = GridSearchCV(estimator = classifier,\n",
    "                           param_grid = parameters,\n",
    "                           scoring = 'accuracy',\n",
    "                           cv = 10)\n",
    "\n",
    "grid_search = grid_search.fit(X_train, y_train)\n",
    "best_parameters = grid_search.best_params_\n",
    "best_accuracy = grid_search.best_score_"
   ]
  },
  {
   "cell_type": "code",
   "execution_count": null,
   "metadata": {
    "colab": {
     "base_uri": "https://localhost:8080/",
     "height": 52
    },
    "id": "lX3FYSkngLhd",
    "outputId": "5df7a9f7-3720-4021-e5ec-ead8ff38008a"
   },
   "outputs": [],
   "source": [
    "print(best_parameters)\n",
    "print(best_accuracy)"
   ]
  }
 ],
 "metadata": {
  "colab": {
   "provenance": []
  },
  "kernelspec": {
   "display_name": "Python 3",
   "name": "python3"
  }
 },
 "nbformat": 4,
 "nbformat_minor": 0
}
