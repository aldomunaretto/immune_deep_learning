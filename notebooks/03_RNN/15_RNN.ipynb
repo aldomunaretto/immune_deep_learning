{
  "cells": [
    {
      "cell_type": "markdown",
      "metadata": {
        "id": "9ggRea9TBpA_"
      },
      "source": [
        "[![Open in Colab](https://colab.research.google.com/assets/colab-badge.svg)](https://colab.research.google.com/github/aldomunaretto/immune_deep_learning/blob/main/notebooks/03_RNN/15_RNN.ipynb)"
      ]
    },
    {
      "cell_type": "markdown",
      "metadata": {
        "id": "DI6h56nFBpBB"
      },
      "source": [
        "# Classification Example\n",
        " Two-class classification, or binary classification, may be the most widely applied kind of machine-learning problem. In this example, you’ll learn to classify movie reviews as positive or negative, based on the text content of the reviews.\n"
      ]
    },
    {
      "cell_type": "code",
      "execution_count": 47,
      "metadata": {
        "id": "FASza3eeBpBC"
      },
      "outputs": [],
      "source": [
        "import tensorflow as tf\n",
        "\n",
        "from keras import Input\n",
        "from keras.models import Sequential\n",
        "from keras.layers import Dense, Dropout, SimpleRNN, GRU, LSTM, Embedding, Bidirectional, Conv1D, MaxPooling1D, Flatten\n",
        "from keras.optimizers import Adam\n",
        "from keras.callbacks import EarlyStopping\n",
        "from keras.utils import set_random_seed\n",
        "from keras.datasets import imdb\n",
        "\n",
        "import numpy as np\n",
        "import pandas as pd\n",
        "from collections import Counter\n",
        "import matplotlib.pyplot as plt\n",
        "\n",
        "set_random_seed(0)"
      ]
    },
    {
      "cell_type": "code",
      "execution_count": 4,
      "metadata": {
        "id": "uFvJV4YHHUqE"
      },
      "outputs": [],
      "source": [
        "def show_loss_accuracy_evolution(history):\n",
        "    hist = pd.DataFrame(history.history)\n",
        "    hist['epoch'] = history.epoch\n",
        "\n",
        "    fig, (ax1, ax2) = plt.subplots(1, 2, figsize=(16, 6))\n",
        "\n",
        "    ax1.set_xlabel('Epoch')\n",
        "    ax1.set_ylabel('Sparse Categorical Crossentropy')\n",
        "    ax1.plot(hist['epoch'], hist['loss'], label='Train Error')\n",
        "    ax1.plot(hist['epoch'], hist['val_loss'], label='Val Error')\n",
        "    ax1.grid()\n",
        "    ax1.legend()\n",
        "\n",
        "    ax2.set_xlabel('Epoch')\n",
        "    ax2.set_ylabel('Accuracy')\n",
        "    ax2.plot(hist['epoch'], hist['accuracy'], label='Train Accuracy')\n",
        "    ax2.plot(hist['epoch'], hist['val_accuracy'], label='Val Accuracy')\n",
        "    ax2.grid()\n",
        "    ax2.legend()\n",
        "\n",
        "    plt.show()"
      ]
    },
    {
      "cell_type": "markdown",
      "metadata": {
        "id": "oyuZRSjKBpBD"
      },
      "source": [
        "## The Dataset: The IMDB dataset\n",
        "We’ll work with the IMDB dataset: a set of 50,000 highly polarized reviews from the Internet Movie Database. They’re split into 25,000 reviews for training and 25,000 reviews for testing, each set consisting of 50% negative and 50% positive reviews. The  parameter `num_words` controls how many words different we want to use."
      ]
    },
    {
      "cell_type": "code",
      "execution_count": 5,
      "metadata": {
        "colab": {
          "base_uri": "https://localhost:8080/"
        },
        "id": "bV8crZvWBpBE",
        "outputId": "65af5643-b359-49e7-e4e7-6223466f1b59"
      },
      "outputs": [
        {
          "name": "stdout",
          "output_type": "stream",
          "text": [
            "Downloading data from https://storage.googleapis.com/tensorflow/tf-keras-datasets/imdb.npz\n",
            "\u001b[1m17464789/17464789\u001b[0m \u001b[32m━━━━━━━━━━━━━━━━━━━━\u001b[0m\u001b[37m\u001b[0m \u001b[1m0s\u001b[0m 0us/step\n",
            "[1, 14, 22, 16, 43, 530, 973, 1622, 1385, 65, 458, 4468, 66, 3941, 4, 173, 36, 256, 5, 25, 100, 43, 838, 112, 50, 670, 2, 9, 35, 480, 284, 5, 150, 4, 172, 112, 167, 2, 336, 385, 39, 4, 172, 4536, 1111, 17, 546, 38, 13, 447, 4, 192, 50, 16, 6, 147, 2025, 19, 14, 22, 4, 1920, 4613, 469, 4, 22, 71, 87, 12, 16, 43, 530, 38, 76, 15, 13, 1247, 4, 22, 17, 515, 17, 12, 16, 626, 18, 2, 5, 62, 386, 12, 8, 316, 8, 106, 5, 4, 2223, 5244, 16, 480, 66, 3785, 33, 4, 130, 12, 16, 38, 619, 5, 25, 124, 51, 36, 135, 48, 25, 1415, 33, 6, 22, 12, 215, 28, 77, 52, 5, 14, 407, 16, 82, 2, 8, 4, 107, 117, 5952, 15, 256, 4, 2, 7, 3766, 5, 723, 36, 71, 43, 530, 476, 26, 400, 317, 46, 7, 4, 2, 1029, 13, 104, 88, 4, 381, 15, 297, 98, 32, 2071, 56, 26, 141, 6, 194, 7486, 18, 4, 226, 22, 21, 134, 476, 26, 480, 5, 144, 30, 5535, 18, 51, 36, 28, 224, 92, 25, 104, 4, 226, 65, 16, 38, 1334, 88, 12, 16, 283, 5, 16, 4472, 113, 103, 32, 15, 16, 5345, 19, 178, 32]\n"
          ]
        }
      ],
      "source": [
        "num_words = 10000\n",
        "(train_data, train_labels), (test_data, test_labels) = imdb.load_data(num_words=num_words)\n",
        "print(train_data[0])"
      ]
    },
    {
      "cell_type": "code",
      "execution_count": 6,
      "metadata": {
        "colab": {
          "base_uri": "https://localhost:8080/"
        },
        "id": "jaE1a4jHBpBE",
        "outputId": "e77bc7df-dff5-404f-b921-194437051343"
      },
      "outputs": [
        {
          "name": "stdout",
          "output_type": "stream",
          "text": [
            "Downloading data from https://storage.googleapis.com/tensorflow/tf-keras-datasets/imdb_word_index.json\n",
            "\u001b[1m1641221/1641221\u001b[0m \u001b[32m━━━━━━━━━━━━━━━━━━━━\u001b[0m\u001b[37m\u001b[0m \u001b[1m0s\u001b[0m 0us/step\n"
          ]
        }
      ],
      "source": [
        "# Transform word_id to word and reverse\n",
        "word2int = imdb.get_word_index()\n",
        "word2int = {w: i+3 for w, i in word2int.items()}\n",
        "word2int[\"<PAD>\"] = 0\n",
        "word2int[\"<START>\"] = 1\n",
        "word2int[\"<UNK>\"] = 2\n",
        "word2int[\"<UNUSED>\"] = 3\n",
        "int2word = {i: w for w, i in word2int.items()}\n",
        "num_words = num_words+3"
      ]
    },
    {
      "cell_type": "markdown",
      "metadata": {
        "id": "43lIT9r2BpBE"
      },
      "source": [
        "For transforming an id-sequence to a phrase use get_words"
      ]
    },
    {
      "cell_type": "code",
      "execution_count": 7,
      "metadata": {
        "colab": {
          "base_uri": "https://localhost:8080/",
          "height": 157
        },
        "id": "vEPFrrrhBpBE",
        "outputId": "951881ca-82c7-45e3-e993-8cd93bba6263"
      },
      "outputs": [
        {
          "data": {
            "application/vnd.google.colaboratory.intrinsic+json": {
              "type": "string"
            },
            "text/plain": [
              "\"<START> this film was just brilliant casting location scenery story direction everyone's really suited the part they played and you could just imagine being there robert <UNK> is an amazing actor and now the same being director <UNK> father came from the same scottish island as myself so i loved the fact there was a real connection with this film the witty remarks throughout the film were great it was just brilliant so much that i bought the film as soon as it was released for <UNK> and would recommend it to everyone to watch and the fly fishing was amazing really cried at the end it was so sad and you know what they say if you cry at a film it must have been good and this definitely was also <UNK> to the two little boy's that played the <UNK> of norman and paul they were just brilliant children are often left out of the <UNK> list i think because the stars that play them all grown up are such a big profile for the whole film but these children are amazing and should be praised for what they have done don't you think the whole story was so lovely because it was true and was someone's life after all that was shared with us all\""
            ]
          },
          "execution_count": 7,
          "metadata": {},
          "output_type": "execute_result"
        }
      ],
      "source": [
        "def get_words(sentence, int2word):\n",
        "    return ' '.join([int2word.get(i, '<UNK>') for i in sentence])\n",
        "\n",
        "\n",
        "get_words(train_data[0], int2word)"
      ]
    },
    {
      "cell_type": "markdown",
      "metadata": {
        "id": "ubxyezv0BpBF"
      },
      "source": [
        "# MLP model\n",
        "\n",
        "## Data Preprocessing\n",
        "\n",
        "You need to convert your raw text to an appropriate input to a sequential model"
      ]
    },
    {
      "cell_type": "code",
      "execution_count": 10,
      "metadata": {
        "colab": {
          "base_uri": "https://localhost:8080/"
        },
        "id": "Bvql44xPBpBF",
        "outputId": "0266579d-eaf7-4410-c572-8a1063015f1e"
      },
      "outputs": [
        {
          "name": "stdout",
          "output_type": "stream",
          "text": [
            "<START> this film was just brilliant casting location scenery story direction everyone's really suited the part they played and you could just imagine being there robert <UNK> is an amazing actor and now the same being director <UNK> father came from the same scottish island as myself so i loved the fact there was a real connection with this film the witty remarks throughout the film were great it was just brilliant so much that i bought the film as soon as it was released for <UNK> and would recommend it to everyone to watch and the fly fishing was amazing really cried at the end it was so sad and you know what they say if you cry at a film it must have been good and this definitely was also <UNK> to the two little boy's that played the <UNK> of norman and paul they were just brilliant children are often left out of the <UNK> list i think because the stars that play them all grown up are such a big profile for the whole film but these children are amazing and should be praised for what they have done don't you think the whole story was so lovely because it was true and was someone's life after all that was shared with us all\n",
            "[1, 14, 22, 16, 43, 530, 973, 1622, 1385, 65, 458, 4468, 66, 3941, 4, 173, 36, 256, 5, 25, 100, 43, 838, 112, 50, 670, 2, 9, 35, 480, 284, 5, 150, 4, 172, 112, 167, 2, 336, 385, 39, 4, 172, 4536, 1111, 17, 546, 38, 13, 447, 4, 192, 50, 16, 6, 147, 2025, 19, 14, 22, 4, 1920, 4613, 469, 4, 22, 71, 87, 12, 16, 43, 530, 38, 76, 15, 13, 1247, 4, 22, 17, 515, 17, 12, 16, 626, 18, 2, 5, 62, 386, 12, 8, 316, 8, 106, 5, 4, 2223, 5244, 16, 480, 66, 3785, 33, 4, 130, 12, 16, 38, 619, 5, 25, 124, 51, 36, 135, 48, 25, 1415, 33, 6, 22, 12, 215, 28, 77, 52, 5, 14, 407, 16, 82, 2, 8, 4, 107, 117, 5952, 15, 256, 4, 2, 7, 3766, 5, 723, 36, 71, 43, 530, 476, 26, 400, 317, 46, 7, 4, 2, 1029, 13, 104, 88, 4, 381, 15, 297, 98, 32, 2071, 56, 26, 141, 6, 194, 7486, 18, 4, 226, 22, 21, 134, 476, 26, 480, 5, 144, 30, 5535, 18, 51, 36, 28, 224, 92, 25, 104, 4, 226, 65, 16, 38, 1334, 88, 12, 16, 283, 5, 16, 4472, 113, 103, 32, 15, 16, 5345, 19, 178, 32]\n"
          ]
        }
      ],
      "source": [
        "def vectorize_text_sentence(text, word2int):\n",
        "    tokens = text.split(' ')\n",
        "    tokens_id = [word2int.get(tk,2) for tk in tokens]\n",
        "    return tokens_id\n",
        "\n",
        "text = get_words(train_data[0], int2word)\n",
        "print(text)\n",
        "print(vectorize_text_sentence(text, word2int))"
      ]
    },
    {
      "cell_type": "markdown",
      "metadata": {
        "id": "4P4GmfWDBpBF"
      },
      "source": [
        "We are going to use a bag of words model. BoW is a simplifying representation used in natural language processing. In this model, a text (such as a sentence or a document) is represented as the Each key is the word, and each value is the frequency of occurrences of that word in the given text document.\n",
        "\n",
        "- **Input document**: `\"John likes to watch movies Mary likes movies too\"`\n",
        "- **BoW**: `{'John': 0.11, 'likes': 0.22, 'to': 0.11, 'watch': 0.11, 'movies': 0.22, 'Mary': 0.11, 'too': 0.11}`\n"
      ]
    },
    {
      "cell_type": "code",
      "execution_count": 11,
      "metadata": {
        "colab": {
          "base_uri": "https://localhost:8080/"
        },
        "id": "N3x6kIL8BpBF",
        "outputId": "1c18c577-94eb-4056-c75d-71498db2ae24"
      },
      "outputs": [
        {
          "name": "stdout",
          "output_type": "stream",
          "text": [
            "text_example John likes to watch movies Mary likes movies too\n",
            "text splitted ['John', 'likes', 'to', 'watch', 'movies', 'Mary', 'likes', 'movies', 'too']\n",
            "bag_of_words {'John': 0.1111111111111111, 'likes': 0.2222222222222222, 'to': 0.1111111111111111, 'watch': 0.1111111111111111, 'movies': 0.2222222222222222, 'Mary': 0.1111111111111111, 'too': 0.1111111111111111}\n",
            "bag_of_words norm=False {'John': 1, 'likes': 2, 'to': 1, 'watch': 1, 'movies': 2, 'Mary': 1, 'too': 1}\n",
            "bag_of_words with indexes {308: 1, 1232: 2, 8: 1, 106: 1, 102: 2, 1083: 1, 99: 1}\n"
          ]
        }
      ],
      "source": [
        "def get_bag_of_words(sequence, norm=True):\n",
        "    word_count = Counter(sequence)\n",
        "    if norm:\n",
        "        total = sum(word_count.values())\n",
        "        word_freq = {w: n / total for w, n in word_count.items()}\n",
        "        return word_freq\n",
        "    else:\n",
        "        return dict(word_count.items())\n",
        "\n",
        "\n",
        "text_example = \"John likes to watch movies Mary likes movies too\"\n",
        "print('text_example', text_example)\n",
        "text_sequence = text_example.split()\n",
        "print('text splitted', text_sequence)\n",
        "bag_of_words = get_bag_of_words(text_sequence)\n",
        "print('bag_of_words', bag_of_words)\n",
        "print('bag_of_words norm=False', get_bag_of_words(text_sequence, norm=False))\n",
        "print(\n",
        "    'bag_of_words with indexes', {\n",
        "        word2int[w.lower()]: p\n",
        "        for w, p in get_bag_of_words(text_sequence, norm=False).items()\n",
        "    })"
      ]
    },
    {
      "cell_type": "markdown",
      "metadata": {
        "id": "3alPstiwBpBG"
      },
      "source": [
        "After that, we convert every BoW to a vector of `dim=num_words` with `vectorize_sequences`"
      ]
    },
    {
      "cell_type": "code",
      "execution_count": 12,
      "metadata": {
        "colab": {
          "base_uri": "https://localhost:8080/"
        },
        "id": "negdOAzfBpBG",
        "outputId": "a98a8313-0243-4943-8fd7-5719fb517fdf"
      },
      "outputs": [
        {
          "data": {
            "text/plain": [
              "((25000, 10003), (25000,))"
            ]
          },
          "execution_count": 12,
          "metadata": {},
          "output_type": "execute_result"
        }
      ],
      "source": [
        "def vectorize_sequence(sequence, num_words, norm=True):\n",
        "    vec = np.zeros(num_words)\n",
        "    bow = get_bag_of_words(sequence, norm)\n",
        "    for w, freq in bow.items():\n",
        "        if w < num_words:\n",
        "            vec[w] = freq\n",
        "    return vec\n",
        "\n",
        "\n",
        "def vectorize_sequences(sequences, num_words=num_words, norm=True):\n",
        "    \"\"\"Creates an all-zero matrix of shape (len(sequences), num_words)\"\"\"\n",
        "    results = np.zeros((len(sequences), num_words))\n",
        "    for i, sequence in enumerate(sequences):\n",
        "        results[i, :] = vectorize_sequence(sequence, num_words, norm)\n",
        "    return results\n",
        "\n",
        "\n",
        "x_train = vectorize_sequences(train_data, num_words=num_words)\n",
        "x_test = vectorize_sequences(test_data, num_words=num_words)\n",
        "y_train =np.asarray(train_labels).astype('float32')\n",
        "y_test = np.asarray(test_labels).astype('float32')\n",
        "x_train.shape, y_train.shape"
      ]
    },
    {
      "cell_type": "code",
      "execution_count": 13,
      "metadata": {
        "colab": {
          "base_uri": "https://localhost:8080/"
        },
        "id": "IwJrkj99BpBG",
        "outputId": "e3cd8824-ec49-4ede-f520-6e11e114e456"
      },
      "outputs": [
        {
          "data": {
            "text/plain": [
              "array([0.        , 0.00458716, 0.02752294, ..., 0.        , 0.        ,\n",
              "       0.        ])"
            ]
          },
          "execution_count": 13,
          "metadata": {},
          "output_type": "execute_result"
        }
      ],
      "source": [
        "x_train[0]"
      ]
    },
    {
      "cell_type": "markdown",
      "metadata": {
        "id": "tr7JgXlUBpBG"
      },
      "source": [
        "## Define and train a model\n",
        "Define, compile and fit your sequential model"
      ]
    },
    {
      "cell_type": "code",
      "execution_count": 16,
      "metadata": {
        "colab": {
          "base_uri": "https://localhost:8080/"
        },
        "id": "pZnLidyaIc31",
        "outputId": "7fd80c28-2d57-4073-e103-d1f781d61a6c"
      },
      "outputs": [
        {
          "data": {
            "text/plain": [
              "10003"
            ]
          },
          "execution_count": 16,
          "metadata": {},
          "output_type": "execute_result"
        }
      ],
      "source": [
        "num_words"
      ]
    },
    {
      "cell_type": "code",
      "execution_count": 17,
      "metadata": {
        "colab": {
          "base_uri": "https://localhost:8080/",
          "height": 289
        },
        "id": "jrNQmcIxBpBG",
        "outputId": "087b2555-f3b5-48ad-d7f7-40263d53868b"
      },
      "outputs": [
        {
          "data": {
            "text/html": [
              "<pre style=\"white-space:pre;overflow-x:auto;line-height:normal;font-family:Menlo,'DejaVu Sans Mono',consolas,'Courier New',monospace\"><span style=\"font-weight: bold\">Model: \"sequential\"</span>\n",
              "</pre>\n"
            ],
            "text/plain": [
              "\u001b[1mModel: \"sequential\"\u001b[0m\n"
            ]
          },
          "metadata": {},
          "output_type": "display_data"
        },
        {
          "data": {
            "text/html": [
              "<pre style=\"white-space:pre;overflow-x:auto;line-height:normal;font-family:Menlo,'DejaVu Sans Mono',consolas,'Courier New',monospace\">┏━━━━━━━━━━━━━━━━━━━━━━━━━━━━━━━━━━━━━━┳━━━━━━━━━━━━━━━━━━━━━━━━━━━━━┳━━━━━━━━━━━━━━━━━┓\n",
              "┃<span style=\"font-weight: bold\"> Layer (type)                         </span>┃<span style=\"font-weight: bold\"> Output Shape                </span>┃<span style=\"font-weight: bold\">         Param # </span>┃\n",
              "┡━━━━━━━━━━━━━━━━━━━━━━━━━━━━━━━━━━━━━━╇━━━━━━━━━━━━━━━━━━━━━━━━━━━━━╇━━━━━━━━━━━━━━━━━┩\n",
              "│ dense (<span style=\"color: #0087ff; text-decoration-color: #0087ff\">Dense</span>)                        │ (<span style=\"color: #00d7ff; text-decoration-color: #00d7ff\">None</span>, <span style=\"color: #00af00; text-decoration-color: #00af00\">10</span>)                  │         <span style=\"color: #00af00; text-decoration-color: #00af00\">100,040</span> │\n",
              "├──────────────────────────────────────┼─────────────────────────────┼─────────────────┤\n",
              "│ dropout (<span style=\"color: #0087ff; text-decoration-color: #0087ff\">Dropout</span>)                    │ (<span style=\"color: #00d7ff; text-decoration-color: #00d7ff\">None</span>, <span style=\"color: #00af00; text-decoration-color: #00af00\">10</span>)                  │               <span style=\"color: #00af00; text-decoration-color: #00af00\">0</span> │\n",
              "├──────────────────────────────────────┼─────────────────────────────┼─────────────────┤\n",
              "│ dense_1 (<span style=\"color: #0087ff; text-decoration-color: #0087ff\">Dense</span>)                      │ (<span style=\"color: #00d7ff; text-decoration-color: #00d7ff\">None</span>, <span style=\"color: #00af00; text-decoration-color: #00af00\">10</span>)                  │             <span style=\"color: #00af00; text-decoration-color: #00af00\">110</span> │\n",
              "├──────────────────────────────────────┼─────────────────────────────┼─────────────────┤\n",
              "│ dropout_1 (<span style=\"color: #0087ff; text-decoration-color: #0087ff\">Dropout</span>)                  │ (<span style=\"color: #00d7ff; text-decoration-color: #00d7ff\">None</span>, <span style=\"color: #00af00; text-decoration-color: #00af00\">10</span>)                  │               <span style=\"color: #00af00; text-decoration-color: #00af00\">0</span> │\n",
              "├──────────────────────────────────────┼─────────────────────────────┼─────────────────┤\n",
              "│ dense_2 (<span style=\"color: #0087ff; text-decoration-color: #0087ff\">Dense</span>)                      │ (<span style=\"color: #00d7ff; text-decoration-color: #00d7ff\">None</span>, <span style=\"color: #00af00; text-decoration-color: #00af00\">1</span>)                   │              <span style=\"color: #00af00; text-decoration-color: #00af00\">11</span> │\n",
              "└──────────────────────────────────────┴─────────────────────────────┴─────────────────┘\n",
              "</pre>\n"
            ],
            "text/plain": [
              "┏━━━━━━━━━━━━━━━━━━━━━━━━━━━━━━━━━━━━━━┳━━━━━━━━━━━━━━━━━━━━━━━━━━━━━┳━━━━━━━━━━━━━━━━━┓\n",
              "┃\u001b[1m \u001b[0m\u001b[1mLayer (type)                        \u001b[0m\u001b[1m \u001b[0m┃\u001b[1m \u001b[0m\u001b[1mOutput Shape               \u001b[0m\u001b[1m \u001b[0m┃\u001b[1m \u001b[0m\u001b[1m        Param #\u001b[0m\u001b[1m \u001b[0m┃\n",
              "┡━━━━━━━━━━━━━━━━━━━━━━━━━━━━━━━━━━━━━━╇━━━━━━━━━━━━━━━━━━━━━━━━━━━━━╇━━━━━━━━━━━━━━━━━┩\n",
              "│ dense (\u001b[38;5;33mDense\u001b[0m)                        │ (\u001b[38;5;45mNone\u001b[0m, \u001b[38;5;34m10\u001b[0m)                  │         \u001b[38;5;34m100,040\u001b[0m │\n",
              "├──────────────────────────────────────┼─────────────────────────────┼─────────────────┤\n",
              "│ dropout (\u001b[38;5;33mDropout\u001b[0m)                    │ (\u001b[38;5;45mNone\u001b[0m, \u001b[38;5;34m10\u001b[0m)                  │               \u001b[38;5;34m0\u001b[0m │\n",
              "├──────────────────────────────────────┼─────────────────────────────┼─────────────────┤\n",
              "│ dense_1 (\u001b[38;5;33mDense\u001b[0m)                      │ (\u001b[38;5;45mNone\u001b[0m, \u001b[38;5;34m10\u001b[0m)                  │             \u001b[38;5;34m110\u001b[0m │\n",
              "├──────────────────────────────────────┼─────────────────────────────┼─────────────────┤\n",
              "│ dropout_1 (\u001b[38;5;33mDropout\u001b[0m)                  │ (\u001b[38;5;45mNone\u001b[0m, \u001b[38;5;34m10\u001b[0m)                  │               \u001b[38;5;34m0\u001b[0m │\n",
              "├──────────────────────────────────────┼─────────────────────────────┼─────────────────┤\n",
              "│ dense_2 (\u001b[38;5;33mDense\u001b[0m)                      │ (\u001b[38;5;45mNone\u001b[0m, \u001b[38;5;34m1\u001b[0m)                   │              \u001b[38;5;34m11\u001b[0m │\n",
              "└──────────────────────────────────────┴─────────────────────────────┴─────────────────┘\n"
            ]
          },
          "metadata": {},
          "output_type": "display_data"
        },
        {
          "data": {
            "text/html": [
              "<pre style=\"white-space:pre;overflow-x:auto;line-height:normal;font-family:Menlo,'DejaVu Sans Mono',consolas,'Courier New',monospace\"><span style=\"font-weight: bold\"> Total params: </span><span style=\"color: #00af00; text-decoration-color: #00af00\">100,161</span> (391.25 KB)\n",
              "</pre>\n"
            ],
            "text/plain": [
              "\u001b[1m Total params: \u001b[0m\u001b[38;5;34m100,161\u001b[0m (391.25 KB)\n"
            ]
          },
          "metadata": {},
          "output_type": "display_data"
        },
        {
          "data": {
            "text/html": [
              "<pre style=\"white-space:pre;overflow-x:auto;line-height:normal;font-family:Menlo,'DejaVu Sans Mono',consolas,'Courier New',monospace\"><span style=\"font-weight: bold\"> Trainable params: </span><span style=\"color: #00af00; text-decoration-color: #00af00\">100,161</span> (391.25 KB)\n",
              "</pre>\n"
            ],
            "text/plain": [
              "\u001b[1m Trainable params: \u001b[0m\u001b[38;5;34m100,161\u001b[0m (391.25 KB)\n"
            ]
          },
          "metadata": {},
          "output_type": "display_data"
        },
        {
          "data": {
            "text/html": [
              "<pre style=\"white-space:pre;overflow-x:auto;line-height:normal;font-family:Menlo,'DejaVu Sans Mono',consolas,'Courier New',monospace\"><span style=\"font-weight: bold\"> Non-trainable params: </span><span style=\"color: #00af00; text-decoration-color: #00af00\">0</span> (0.00 B)\n",
              "</pre>\n"
            ],
            "text/plain": [
              "\u001b[1m Non-trainable params: \u001b[0m\u001b[38;5;34m0\u001b[0m (0.00 B)\n"
            ]
          },
          "metadata": {},
          "output_type": "display_data"
        }
      ],
      "source": [
        "model = Sequential(\n",
        "    [\n",
        "        Input(shape=(num_words,)),\n",
        "        Dense(10, activation=\"sigmoid\"),\n",
        "        Dropout(0.1),\n",
        "        Dense(10, activation=\"sigmoid\"),\n",
        "        Dropout(0.1),\n",
        "        Dense(1, activation=\"sigmoid\"),\n",
        "    ]\n",
        ")\n",
        "\n",
        "model.summary()"
      ]
    },
    {
      "cell_type": "code",
      "execution_count": 18,
      "metadata": {
        "id": "22HpKoaIvu5R"
      },
      "outputs": [],
      "source": [
        "model.compile(optimizer=\"adam\", loss=\"binary_crossentropy\", metrics=[\"accuracy\"])"
      ]
    },
    {
      "cell_type": "code",
      "execution_count": 19,
      "metadata": {
        "colab": {
          "base_uri": "https://localhost:8080/"
        },
        "id": "ng00bZHMvflB",
        "outputId": "91f94830-4a98-4c9a-beeb-6384f99437fb"
      },
      "outputs": [
        {
          "name": "stdout",
          "output_type": "stream",
          "text": [
            "Epoch 1/25\n",
            "\u001b[1m625/625\u001b[0m \u001b[32m━━━━━━━━━━━━━━━━━━━━\u001b[0m\u001b[37m\u001b[0m \u001b[1m6s\u001b[0m 5ms/step - accuracy: 0.5071 - loss: 0.6997 - val_accuracy: 0.6170 - val_loss: 0.6922\n",
            "Epoch 2/25\n",
            "\u001b[1m625/625\u001b[0m \u001b[32m━━━━━━━━━━━━━━━━━━━━\u001b[0m\u001b[37m\u001b[0m \u001b[1m3s\u001b[0m 4ms/step - accuracy: 0.5148 - loss: 0.6974 - val_accuracy: 0.7732 - val_loss: 0.6907\n",
            "Epoch 3/25\n",
            "\u001b[1m625/625\u001b[0m \u001b[32m━━━━━━━━━━━━━━━━━━━━\u001b[0m\u001b[37m\u001b[0m \u001b[1m2s\u001b[0m 2ms/step - accuracy: 0.5272 - loss: 0.6946 - val_accuracy: 0.7730 - val_loss: 0.6872\n",
            "Epoch 4/25\n",
            "\u001b[1m625/625\u001b[0m \u001b[32m━━━━━━━━━━━━━━━━━━━━\u001b[0m\u001b[37m\u001b[0m \u001b[1m2s\u001b[0m 3ms/step - accuracy: 0.5503 - loss: 0.6887 - val_accuracy: 0.7742 - val_loss: 0.6790\n",
            "Epoch 5/25\n",
            "\u001b[1m625/625\u001b[0m \u001b[32m━━━━━━━━━━━━━━━━━━━━\u001b[0m\u001b[37m\u001b[0m \u001b[1m2s\u001b[0m 2ms/step - accuracy: 0.5811 - loss: 0.6798 - val_accuracy: 0.7788 - val_loss: 0.6609\n",
            "Epoch 6/25\n",
            "\u001b[1m625/625\u001b[0m \u001b[32m━━━━━━━━━━━━━━━━━━━━\u001b[0m\u001b[37m\u001b[0m \u001b[1m2s\u001b[0m 3ms/step - accuracy: 0.6229 - loss: 0.6618 - val_accuracy: 0.7870 - val_loss: 0.6241\n",
            "Epoch 7/25\n",
            "\u001b[1m625/625\u001b[0m \u001b[32m━━━━━━━━━━━━━━━━━━━━\u001b[0m\u001b[37m\u001b[0m \u001b[1m4s\u001b[0m 4ms/step - accuracy: 0.6601 - loss: 0.6295 - val_accuracy: 0.7962 - val_loss: 0.5736\n",
            "Epoch 8/25\n",
            "\u001b[1m625/625\u001b[0m \u001b[32m━━━━━━━━━━━━━━━━━━━━\u001b[0m\u001b[37m\u001b[0m \u001b[1m2s\u001b[0m 4ms/step - accuracy: 0.6914 - loss: 0.5905 - val_accuracy: 0.8122 - val_loss: 0.5232\n",
            "Epoch 9/25\n",
            "\u001b[1m625/625\u001b[0m \u001b[32m━━━━━━━━━━━━━━━━━━━━\u001b[0m\u001b[37m\u001b[0m \u001b[1m1s\u001b[0m 2ms/step - accuracy: 0.7199 - loss: 0.5568 - val_accuracy: 0.8234 - val_loss: 0.4830\n",
            "Epoch 10/25\n",
            "\u001b[1m625/625\u001b[0m \u001b[32m━━━━━━━━━━━━━━━━━━━━\u001b[0m\u001b[37m\u001b[0m \u001b[1m1s\u001b[0m 2ms/step - accuracy: 0.7371 - loss: 0.5313 - val_accuracy: 0.8328 - val_loss: 0.4498\n",
            "Epoch 11/25\n",
            "\u001b[1m625/625\u001b[0m \u001b[32m━━━━━━━━━━━━━━━━━━━━\u001b[0m\u001b[37m\u001b[0m \u001b[1m2s\u001b[0m 2ms/step - accuracy: 0.7524 - loss: 0.5062 - val_accuracy: 0.8416 - val_loss: 0.4272\n",
            "Epoch 12/25\n",
            "\u001b[1m625/625\u001b[0m \u001b[32m━━━━━━━━━━━━━━━━━━━━\u001b[0m\u001b[37m\u001b[0m \u001b[1m3s\u001b[0m 3ms/step - accuracy: 0.7692 - loss: 0.4867 - val_accuracy: 0.8492 - val_loss: 0.4078\n",
            "Epoch 13/25\n",
            "\u001b[1m625/625\u001b[0m \u001b[32m━━━━━━━━━━━━━━━━━━━━\u001b[0m\u001b[37m\u001b[0m \u001b[1m2s\u001b[0m 2ms/step - accuracy: 0.7680 - loss: 0.4814 - val_accuracy: 0.8558 - val_loss: 0.3929\n",
            "Epoch 14/25\n",
            "\u001b[1m625/625\u001b[0m \u001b[32m━━━━━━━━━━━━━━━━━━━━\u001b[0m\u001b[37m\u001b[0m \u001b[1m3s\u001b[0m 3ms/step - accuracy: 0.7791 - loss: 0.4660 - val_accuracy: 0.8560 - val_loss: 0.3820\n",
            "Epoch 15/25\n",
            "\u001b[1m625/625\u001b[0m \u001b[32m━━━━━━━━━━━━━━━━━━━━\u001b[0m\u001b[37m\u001b[0m \u001b[1m2s\u001b[0m 3ms/step - accuracy: 0.7932 - loss: 0.4457 - val_accuracy: 0.8606 - val_loss: 0.3711\n",
            "Epoch 16/25\n",
            "\u001b[1m625/625\u001b[0m \u001b[32m━━━━━━━━━━━━━━━━━━━━\u001b[0m\u001b[37m\u001b[0m \u001b[1m2s\u001b[0m 2ms/step - accuracy: 0.7986 - loss: 0.4351 - val_accuracy: 0.8656 - val_loss: 0.3602\n",
            "Epoch 17/25\n",
            "\u001b[1m625/625\u001b[0m \u001b[32m━━━━━━━━━━━━━━━━━━━━\u001b[0m\u001b[37m\u001b[0m \u001b[1m2s\u001b[0m 2ms/step - accuracy: 0.8009 - loss: 0.4296 - val_accuracy: 0.8658 - val_loss: 0.3527\n",
            "Epoch 18/25\n",
            "\u001b[1m625/625\u001b[0m \u001b[32m━━━━━━━━━━━━━━━━━━━━\u001b[0m\u001b[37m\u001b[0m \u001b[1m3s\u001b[0m 2ms/step - accuracy: 0.8057 - loss: 0.4190 - val_accuracy: 0.8684 - val_loss: 0.3477\n",
            "Epoch 19/25\n",
            "\u001b[1m625/625\u001b[0m \u001b[32m━━━━━━━━━━━━━━━━━━━━\u001b[0m\u001b[37m\u001b[0m \u001b[1m2s\u001b[0m 3ms/step - accuracy: 0.8160 - loss: 0.4101 - val_accuracy: 0.8694 - val_loss: 0.3406\n",
            "Epoch 20/25\n",
            "\u001b[1m625/625\u001b[0m \u001b[32m━━━━━━━━━━━━━━━━━━━━\u001b[0m\u001b[37m\u001b[0m \u001b[1m2s\u001b[0m 3ms/step - accuracy: 0.8164 - loss: 0.4031 - val_accuracy: 0.8696 - val_loss: 0.3354\n",
            "Epoch 21/25\n",
            "\u001b[1m625/625\u001b[0m \u001b[32m━━━━━━━━━━━━━━━━━━━━\u001b[0m\u001b[37m\u001b[0m \u001b[1m3s\u001b[0m 4ms/step - accuracy: 0.8237 - loss: 0.3881 - val_accuracy: 0.8714 - val_loss: 0.3298\n",
            "Epoch 22/25\n",
            "\u001b[1m625/625\u001b[0m \u001b[32m━━━━━━━━━━━━━━━━━━━━\u001b[0m\u001b[37m\u001b[0m \u001b[1m2s\u001b[0m 3ms/step - accuracy: 0.8262 - loss: 0.3905 - val_accuracy: 0.8716 - val_loss: 0.3271\n",
            "Epoch 23/25\n",
            "\u001b[1m625/625\u001b[0m \u001b[32m━━━━━━━━━━━━━━━━━━━━\u001b[0m\u001b[37m\u001b[0m \u001b[1m2s\u001b[0m 3ms/step - accuracy: 0.8339 - loss: 0.3815 - val_accuracy: 0.8728 - val_loss: 0.3225\n",
            "Epoch 24/25\n",
            "\u001b[1m625/625\u001b[0m \u001b[32m━━━━━━━━━━━━━━━━━━━━\u001b[0m\u001b[37m\u001b[0m \u001b[1m2s\u001b[0m 2ms/step - accuracy: 0.8272 - loss: 0.3849 - val_accuracy: 0.8742 - val_loss: 0.3189\n",
            "Epoch 25/25\n",
            "\u001b[1m625/625\u001b[0m \u001b[32m━━━━━━━━━━━━━━━━━━━━\u001b[0m\u001b[37m\u001b[0m \u001b[1m2s\u001b[0m 3ms/step - accuracy: 0.8329 - loss: 0.3765 - val_accuracy: 0.8758 - val_loss: 0.3155\n"
          ]
        }
      ],
      "source": [
        "history = model.fit(x_train, y_train, epochs=25, validation_split=0.2)"
      ]
    },
    {
      "cell_type": "code",
      "execution_count": 21,
      "metadata": {
        "colab": {
          "base_uri": "https://localhost:8080/",
          "height": 458
        },
        "id": "Ummw_MALBpBH",
        "outputId": "517d7665-332c-49db-9204-88e061d9b4e8"
      },
      "outputs": [
        {
          "data": {
            "image/png": "[encoded data removed]",
            "text/plain": [
              "<Figure size 1600x600 with 2 Axes>"
            ]
          },
          "metadata": {},
          "output_type": "display_data"
        }
      ],
      "source": [
        "show_loss_accuracy_evolution(history)"
      ]
    },
    {
      "cell_type": "markdown",
      "metadata": {
        "id": "Oqv4jSWaBpBH"
      },
      "source": [
        "### Evaluate the model\n",
        "You need to obtain a Test Accuracy > 0.85. Try to get more than 0.9!"
      ]
    },
    {
      "cell_type": "code",
      "execution_count": 22,
      "metadata": {
        "colab": {
          "base_uri": "https://localhost:8080/"
        },
        "id": "NPBy4F06BpBH",
        "outputId": "e272cfcb-2dd6-4544-b226-5bec9d5466bb"
      },
      "outputs": [
        {
          "name": "stdout",
          "output_type": "stream",
          "text": [
            "\u001b[1m782/782\u001b[0m \u001b[32m━━━━━━━━━━━━━━━━━━━━\u001b[0m\u001b[37m\u001b[0m \u001b[1m1s\u001b[0m 2ms/step - accuracy: 0.8709 - loss: 0.3238\n",
            "Test Loss: 0.3241058886051178\n",
            "Test Accuracy: 0.8708000183105469\n"
          ]
        }
      ],
      "source": [
        "results = model.evaluate(x_test, y_test, verbose=1)\n",
        "print('Test Loss: {}'.format(results[0]))\n",
        "print('Test Accuracy: {}'.format(results[1]))"
      ]
    },
    {
      "cell_type": "markdown",
      "metadata": {
        "id": "rj2wKNJCBpBH"
      },
      "source": [
        "### Making predictioins with new data"
      ]
    },
    {
      "cell_type": "code",
      "execution_count": 23,
      "metadata": {
        "colab": {
          "base_uri": "https://localhost:8080/"
        },
        "id": "e6SjOvKHBpBH",
        "outputId": "ba160f3f-64b7-4b90-dab2-b0449d5ea562"
      },
      "outputs": [
        {
          "name": "stdout",
          "output_type": "stream",
          "text": [
            "\u001b[1m1/1\u001b[0m \u001b[32m━━━━━━━━━━━━━━━━━━━━\u001b[0m\u001b[37m\u001b[0m \u001b[1m0s\u001b[0m 288ms/step\n"
          ]
        },
        {
          "data": {
            "text/plain": [
              "array([[0.0172],\n",
              "       [0.9981],\n",
              "       [0.3659]], dtype=float32)"
            ]
          },
          "execution_count": 23,
          "metadata": {},
          "output_type": "execute_result"
        }
      ],
      "source": [
        "reviews = ['the film was really bad and i am very disappointed',\n",
        "           'The film was very funny entertaining and good we had a great time . brilliant film',\n",
        "           'this film was just brilliant']\n",
        "\n",
        "sequences = [vectorize_text_sentence(review.lower(), word2int)\n",
        "             for review in reviews]\n",
        "\n",
        "x_pred = vectorize_sequences(sequences, num_words=num_words)\n",
        "np.round(model.predict(x_pred), 4)"
      ]
    },
    {
      "cell_type": "markdown",
      "metadata": {
        "id": "qqaRwnqwBpBH"
      },
      "source": [
        "# RNN model\n",
        "\n",
        "Lets use a recurrent neural network and compare results\n"
      ]
    },
    {
      "cell_type": "markdown",
      "metadata": {
        "id": "Ec_XJvm-BpBH"
      },
      "source": [
        "### Simple RNN model\n",
        "\n",
        "There are three built-in RNN layers in Keras:\n",
        "\n",
        "1. [`SimpleRNN`](https://keras.io/api/layers/recurrent_layers/simple_rnn/), a fully-connected RNN where the output from previous\n",
        "timestep is to be fed to next timestep.\n",
        "\n",
        "```python\n",
        "SimpleRNN(\n",
        "    units,\n",
        "    dropout=0.0,\n",
        "    recurrent_dropout=0.0,\n",
        "    return_sequences=False,\n",
        "    return_state=False,\n",
        "    go_backwards=False,\n",
        "    stateful=False,\n",
        ")\n",
        "````\n",
        "\n",
        "2. [`GRU`](https://keras.io/api/layers/recurrent_layers/gru/), first proposed in\n",
        "[Cho et al., 2014](https://arxiv.org/abs/1406.1078).\n",
        "```python\n",
        "GRU(\n",
        "    units,\n",
        "    dropout=0.0,\n",
        "    recurrent_dropout=0.0,\n",
        "    return_sequences=False,\n",
        "    return_state=False,\n",
        "    go_backwards=False,\n",
        "    stateful=False,\n",
        ")\n",
        "```\n",
        "\n",
        "3. [`LSTM`](https://keras.io/api/layers/recurrent_layers/lstm/), first proposed in\n",
        "[Hochreiter & Schmidhuber, 1997](https://www.bioinf.jku.at/publications/older/2604.pdf).\n",
        "```python\n",
        "LSTM(\n",
        "    units,\n",
        "    dropout=0.0,\n",
        "    recurrent_dropout=0.0,\n",
        "    return_sequences=False,\n",
        "    return_state=False,\n",
        "    go_backwards=False,\n",
        "    stateful=False,\n",
        ")\n",
        "````\n",
        "For more information, see the\n",
        "[RNN API documentation](https://keras.io/api/layers/recurrent_layers/).\n",
        "\n",
        "\n",
        "\n",
        "\n",
        "\n",
        "In sequence classification we are going to use the **many-to-one** architecture with default parameter `return_sequences=False`.\n",
        "\n",
        "The shape of the output  for this architecture  is `(batch_size, units)`.\n",
        "where `units` corresponds to the `units` argument passed to the layer's constructor.\n",
        "\n",
        "Lets see one some examples for understanding the input/output dimensions:"
      ]
    },
    {
      "cell_type": "markdown",
      "metadata": {
        "id": "es-yhACeBpBI"
      },
      "source": [
        "### Deep RNN\n",
        "We can stack multiple layers of RNNs on top of each other. Each hidden state is continuously passed to both the next time step of the current layer and the current time step of the next layer.\n",
        "\n",
        "For stack another RNN layer to an existing one, we need to use the states with `return_sequences=True`"
      ]
    },
    {
      "cell_type": "code",
      "execution_count": 25,
      "metadata": {
        "colab": {
          "base_uri": "https://localhost:8080/"
        },
        "id": "AoGraWrQBpBI",
        "outputId": "ebf84278-c7c9-4dc6-c462-6df7da3dfa59"
      },
      "outputs": [
        {
          "name": "stdout",
          "output_type": "stream",
          "text": [
            "input dim (batch, tokens, embedding_dim):  (32, 10, 4)\n",
            "1. return_state=False output shape:  (32, 2)\n",
            "2. return_state=True output shape:  (32, 10, 2)\n"
          ]
        }
      ],
      "source": [
        "# dims of input: [batch, tokens, embedding_dim]\n",
        "inputs = tf.random.normal([32, 10, 4])\n",
        "print('input dim (batch, tokens, embedding_dim): ', inputs.shape)\n",
        "lstm = LSTM(units=2)\n",
        "output = lstm(inputs)\n",
        "print('1. return_state=False output shape: ',output.shape)\n",
        "lstm = LSTM(units=2, return_sequences=True)\n",
        "output = lstm(inputs)\n",
        "print('2. return_state=True output shape: ',output.shape)"
      ]
    },
    {
      "cell_type": "markdown",
      "metadata": {
        "id": "ay7N4z8LBpBI"
      },
      "source": [
        "### Loading Data"
      ]
    },
    {
      "cell_type": "code",
      "execution_count": 26,
      "metadata": {
        "colab": {
          "base_uri": "https://localhost:8080/"
        },
        "id": "vAMnRrp4BpBI",
        "outputId": "128a57c4-5418-47b6-d861-6551ae222bb8"
      },
      "outputs": [
        {
          "name": "stdout",
          "output_type": "stream",
          "text": [
            "(25000,) (25000,)\n"
          ]
        }
      ],
      "source": [
        "num_words = 2000\n",
        "((train_data, train_labels), (test_data, test_labels)\n",
        " ) = imdb.load_data(num_words=num_words)\n",
        "\n",
        "#  limit the data for class time\n",
        "'''size = 15000\n",
        "(train_data, train_labels), (test_data, test_labels) = (\n",
        "    (train_data[:size], train_labels[:size]), (test_data[:size], test_labels[:size]))\n",
        "'''\n",
        "# Transform word_id to word and reverse\n",
        "word2int = imdb.get_word_index()\n",
        "word2int = {w: i+3 for w, i in word2int.items()}\n",
        "word2int[\"<PAD>\"] = 0\n",
        "word2int[\"<START>\"] = 1\n",
        "word2int[\"<UNK>\"] = 2\n",
        "word2int[\"<UNUSED>\"] = 3\n",
        "int2word = {i: w for w, i in word2int.items()}\n",
        "num_words = num_words+3\n",
        "\n",
        "print(train_data.shape, test_data.shape)"
      ]
    },
    {
      "cell_type": "markdown",
      "metadata": {
        "id": "1Xbw5WjfBpBJ"
      },
      "source": [
        "### Create the RNN model\n",
        "\n",
        "For the input of the first rnn layer we need a tensor of `(timesteps, features)` or `(batchsize, timesteps, features)`. We have a matrix of sentences of `(train_size, max_len)`. Every sentence is a  `max_len`, we need to convert it to a sentence of one-hot vectors of dim `(max_len, num_words)`.\n",
        "For get the one-hot encoding of every sequence we are going to use:\n",
        "\n",
        "```python\n",
        "layers.Embedding(input_dim=num_words, output_dim=num_words,\n",
        "  input_length=max_len, embeddings_initializer='identity', trainable=False)\n",
        "```\n",
        "\n",
        "This layer converts the input tensor `(batch_size, max_len)` to one-hot encoded sequences `(batch_size, max_len, num_words)`\n",
        "\n",
        "\n",
        "\n"
      ]
    },
    {
      "cell_type": "code",
      "execution_count": 27,
      "metadata": {
        "colab": {
          "base_uri": "https://localhost:8080/"
        },
        "id": "hTYEfeaZjqyD",
        "outputId": "dc3e0c36-8129-4156-b9a9-edc5789ee4e0"
      },
      "outputs": [
        {
          "name": "stdout",
          "output_type": "stream",
          "text": [
            "train shape: (25000, 100)\n",
            "test shape: (25000, 100)\n"
          ]
        }
      ],
      "source": [
        "max_len = 100\n",
        "x_train_seq = tf.keras.preprocessing.sequence.pad_sequences(train_data, maxlen=max_len, truncating='post', padding='post')\n",
        "x_test_seq = tf.keras.preprocessing.sequence.pad_sequences(test_data, maxlen=max_len, truncating='post', padding='post')\n",
        "\n",
        "print('train shape:', x_train_seq.shape)\n",
        "print('test shape:', x_test_seq.shape)"
      ]
    },
    {
      "cell_type": "code",
      "execution_count": 30,
      "metadata": {
        "colab": {
          "base_uri": "https://localhost:8080/"
        },
        "id": "K667YvUnBpBJ",
        "outputId": "ca254b80-83c2-4bdf-e86b-c392b68c8ed4",
        "scrolled": true
      },
      "outputs": [
        {
          "name": "stdout",
          "output_type": "stream",
          "text": [
            "[[[0 1 2 2 0]]] (1, 1, 5)\n"
          ]
        },
        {
          "data": {
            "text/plain": [
              "<tf.Tensor: shape=(1, 1, 5, 3), dtype=float32, numpy=\n",
              "array([[[[1., 0., 0.],\n",
              "         [0., 1., 0.],\n",
              "         [0., 0., 1.],\n",
              "         [0., 0., 1.],\n",
              "         [1., 0., 0.]]]], dtype=float32)>"
            ]
          },
          "execution_count": 30,
          "metadata": {},
          "output_type": "execute_result"
        }
      ],
      "source": [
        "seq = np.array([[[0, 1, 2, 2, 0]]])\n",
        "print(seq, seq.shape)\n",
        "Embedding(input_dim=3,\n",
        "          output_dim=3,\n",
        "          embeddings_initializer='identity',\n",
        "          trainable=False)(seq)"
      ]
    },
    {
      "cell_type": "markdown",
      "metadata": {
        "id": "AFXjtrrEBpBJ"
      },
      "source": [
        "### RNN model\n",
        "Use `SimpleRNN`,  `GRU`,  `LSTM` or `Bidirectional`\n"
      ]
    },
    {
      "cell_type": "code",
      "execution_count": 32,
      "metadata": {
        "colab": {
          "base_uri": "https://localhost:8080/",
          "height": 225
        },
        "id": "4-XP0mU-BpBK",
        "outputId": "26f5d969-85a7-4543-b908-7db5a79503d6"
      },
      "outputs": [
        {
          "data": {
            "text/html": [
              "<pre style=\"white-space:pre;overflow-x:auto;line-height:normal;font-family:Menlo,'DejaVu Sans Mono',consolas,'Courier New',monospace\"><span style=\"font-weight: bold\">Model: \"sequential_1\"</span>\n",
              "</pre>\n"
            ],
            "text/plain": [
              "\u001b[1mModel: \"sequential_1\"\u001b[0m\n"
            ]
          },
          "metadata": {},
          "output_type": "display_data"
        },
        {
          "data": {
            "text/html": [
              "<pre style=\"white-space:pre;overflow-x:auto;line-height:normal;font-family:Menlo,'DejaVu Sans Mono',consolas,'Courier New',monospace\">┏━━━━━━━━━━━━━━━━━━━━━━━━━━━━━━━━━━━━━━┳━━━━━━━━━━━━━━━━━━━━━━━━━━━━━┳━━━━━━━━━━━━━━━━━┓\n",
              "┃<span style=\"font-weight: bold\"> Layer (type)                         </span>┃<span style=\"font-weight: bold\"> Output Shape                </span>┃<span style=\"font-weight: bold\">         Param # </span>┃\n",
              "┡━━━━━━━━━━━━━━━━━━━━━━━━━━━━━━━━━━━━━━╇━━━━━━━━━━━━━━━━━━━━━━━━━━━━━╇━━━━━━━━━━━━━━━━━┩\n",
              "│ embedding_2 (<span style=\"color: #0087ff; text-decoration-color: #0087ff\">Embedding</span>)              │ (<span style=\"color: #00d7ff; text-decoration-color: #00d7ff\">None</span>, <span style=\"color: #00af00; text-decoration-color: #00af00\">100</span>, <span style=\"color: #00af00; text-decoration-color: #00af00\">2003</span>)           │       <span style=\"color: #00af00; text-decoration-color: #00af00\">4,012,009</span> │\n",
              "├──────────────────────────────────────┼─────────────────────────────┼─────────────────┤\n",
              "│ simple_rnn (<span style=\"color: #0087ff; text-decoration-color: #0087ff\">SimpleRNN</span>)               │ (<span style=\"color: #00d7ff; text-decoration-color: #00d7ff\">None</span>, <span style=\"color: #00af00; text-decoration-color: #00af00\">16</span>)                  │          <span style=\"color: #00af00; text-decoration-color: #00af00\">32,320</span> │\n",
              "├──────────────────────────────────────┼─────────────────────────────┼─────────────────┤\n",
              "│ dense_3 (<span style=\"color: #0087ff; text-decoration-color: #0087ff\">Dense</span>)                      │ (<span style=\"color: #00d7ff; text-decoration-color: #00d7ff\">None</span>, <span style=\"color: #00af00; text-decoration-color: #00af00\">1</span>)                   │              <span style=\"color: #00af00; text-decoration-color: #00af00\">17</span> │\n",
              "└──────────────────────────────────────┴─────────────────────────────┴─────────────────┘\n",
              "</pre>\n"
            ],
            "text/plain": [
              "┏━━━━━━━━━━━━━━━━━━━━━━━━━━━━━━━━━━━━━━┳━━━━━━━━━━━━━━━━━━━━━━━━━━━━━┳━━━━━━━━━━━━━━━━━┓\n",
              "┃\u001b[1m \u001b[0m\u001b[1mLayer (type)                        \u001b[0m\u001b[1m \u001b[0m┃\u001b[1m \u001b[0m\u001b[1mOutput Shape               \u001b[0m\u001b[1m \u001b[0m┃\u001b[1m \u001b[0m\u001b[1m        Param #\u001b[0m\u001b[1m \u001b[0m┃\n",
              "┡━━━━━━━━━━━━━━━━━━━━━━━━━━━━━━━━━━━━━━╇━━━━━━━━━━━━━━━━━━━━━━━━━━━━━╇━━━━━━━━━━━━━━━━━┩\n",
              "│ embedding_2 (\u001b[38;5;33mEmbedding\u001b[0m)              │ (\u001b[38;5;45mNone\u001b[0m, \u001b[38;5;34m100\u001b[0m, \u001b[38;5;34m2003\u001b[0m)           │       \u001b[38;5;34m4,012,009\u001b[0m │\n",
              "├──────────────────────────────────────┼─────────────────────────────┼─────────────────┤\n",
              "│ simple_rnn (\u001b[38;5;33mSimpleRNN\u001b[0m)               │ (\u001b[38;5;45mNone\u001b[0m, \u001b[38;5;34m16\u001b[0m)                  │          \u001b[38;5;34m32,320\u001b[0m │\n",
              "├──────────────────────────────────────┼─────────────────────────────┼─────────────────┤\n",
              "│ dense_3 (\u001b[38;5;33mDense\u001b[0m)                      │ (\u001b[38;5;45mNone\u001b[0m, \u001b[38;5;34m1\u001b[0m)                   │              \u001b[38;5;34m17\u001b[0m │\n",
              "└──────────────────────────────────────┴─────────────────────────────┴─────────────────┘\n"
            ]
          },
          "metadata": {},
          "output_type": "display_data"
        },
        {
          "data": {
            "text/html": [
              "<pre style=\"white-space:pre;overflow-x:auto;line-height:normal;font-family:Menlo,'DejaVu Sans Mono',consolas,'Courier New',monospace\"><span style=\"font-weight: bold\"> Total params: </span><span style=\"color: #00af00; text-decoration-color: #00af00\">4,044,346</span> (15.43 MB)\n",
              "</pre>\n"
            ],
            "text/plain": [
              "\u001b[1m Total params: \u001b[0m\u001b[38;5;34m4,044,346\u001b[0m (15.43 MB)\n"
            ]
          },
          "metadata": {},
          "output_type": "display_data"
        },
        {
          "data": {
            "text/html": [
              "<pre style=\"white-space:pre;overflow-x:auto;line-height:normal;font-family:Menlo,'DejaVu Sans Mono',consolas,'Courier New',monospace\"><span style=\"font-weight: bold\"> Trainable params: </span><span style=\"color: #00af00; text-decoration-color: #00af00\">32,337</span> (126.32 KB)\n",
              "</pre>\n"
            ],
            "text/plain": [
              "\u001b[1m Trainable params: \u001b[0m\u001b[38;5;34m32,337\u001b[0m (126.32 KB)\n"
            ]
          },
          "metadata": {},
          "output_type": "display_data"
        },
        {
          "data": {
            "text/html": [
              "<pre style=\"white-space:pre;overflow-x:auto;line-height:normal;font-family:Menlo,'DejaVu Sans Mono',consolas,'Courier New',monospace\"><span style=\"font-weight: bold\"> Non-trainable params: </span><span style=\"color: #00af00; text-decoration-color: #00af00\">4,012,009</span> (15.30 MB)\n",
              "</pre>\n"
            ],
            "text/plain": [
              "\u001b[1m Non-trainable params: \u001b[0m\u001b[38;5;34m4,012,009\u001b[0m (15.30 MB)\n"
            ]
          },
          "metadata": {},
          "output_type": "display_data"
        }
      ],
      "source": [
        "model = Sequential(\n",
        "    [\n",
        "        Input(shape=(max_len,), name='input'),\n",
        "        ## one-hot encoding\n",
        "        Embedding(input_dim=num_words,\n",
        "                  output_dim=num_words,\n",
        "                  embeddings_initializer='identity',\n",
        "                  trainable=False),\n",
        "        ## recurrent layers\n",
        "        SimpleRNN(16, return_sequences=False),\n",
        "        Dense(1, activation='sigmoid')\n",
        "    ]\n",
        ")\n",
        "\n",
        "model.summary()"
      ]
    },
    {
      "cell_type": "code",
      "execution_count": 33,
      "metadata": {
        "colab": {
          "base_uri": "https://localhost:8080/"
        },
        "id": "ouKP4QNnBpBK",
        "outputId": "f97ddd86-9420-47d3-8396-dd54be933c69"
      },
      "outputs": [
        {
          "name": "stdout",
          "output_type": "stream",
          "text": [
            "Epoch 1/5\n",
            "\u001b[1m88/88\u001b[0m \u001b[32m━━━━━━━━━━━━━━━━━━━━\u001b[0m\u001b[37m\u001b[0m \u001b[1m7s\u001b[0m 56ms/step - accuracy: 0.5593 - loss: 0.6822 - val_accuracy: 0.7072 - val_loss: 0.5998\n",
            "Epoch 2/5\n",
            "\u001b[1m88/88\u001b[0m \u001b[32m━━━━━━━━━━━━━━━━━━━━\u001b[0m\u001b[37m\u001b[0m \u001b[1m2s\u001b[0m 22ms/step - accuracy: 0.7409 - loss: 0.5685 - val_accuracy: 0.7564 - val_loss: 0.5209\n",
            "Epoch 3/5\n",
            "\u001b[1m88/88\u001b[0m \u001b[32m━━━━━━━━━━━━━━━━━━━━\u001b[0m\u001b[37m\u001b[0m \u001b[1m3s\u001b[0m 32ms/step - accuracy: 0.8121 - loss: 0.4518 - val_accuracy: 0.7724 - val_loss: 0.4914\n",
            "Epoch 4/5\n",
            "\u001b[1m88/88\u001b[0m \u001b[32m━━━━━━━━━━━━━━━━━━━━\u001b[0m\u001b[37m\u001b[0m \u001b[1m4s\u001b[0m 23ms/step - accuracy: 0.8306 - loss: 0.4134 - val_accuracy: 0.7952 - val_loss: 0.4530\n",
            "Epoch 5/5\n",
            "\u001b[1m88/88\u001b[0m \u001b[32m━━━━━━━━━━━━━━━━━━━━\u001b[0m\u001b[37m\u001b[0m \u001b[1m2s\u001b[0m 22ms/step - accuracy: 0.8441 - loss: 0.3902 - val_accuracy: 0.7836 - val_loss: 0.4804\n"
          ]
        }
      ],
      "source": [
        "## set the loss and see the results\n",
        "# https://www.tensorflow.org/api_docs/python/tf/keras/losses\n",
        "model.compile(\n",
        "    optimizer='adam',\n",
        "    loss='binary_crossentropy',\n",
        "    metrics=['accuracy']\n",
        ")\n",
        "epochs = 5\n",
        "history = model.fit(x_train_seq, train_labels,\n",
        "                    validation_split=0.1, epochs=epochs,\n",
        "                    batch_size=256)\n"
      ]
    },
    {
      "cell_type": "code",
      "execution_count": 34,
      "metadata": {
        "colab": {
          "base_uri": "https://localhost:8080/",
          "height": 514
        },
        "id": "whDlc7WnBpBL",
        "outputId": "56876ddd-2c3d-4e8a-9095-d7ea27ae0ab6"
      },
      "outputs": [
        {
          "data": {
            "image/png": "[encoded data removed]",
            "text/plain": [
              "<Figure size 1600x600 with 2 Axes>"
            ]
          },
          "metadata": {},
          "output_type": "display_data"
        },
        {
          "name": "stdout",
          "output_type": "stream",
          "text": [
            "\u001b[1m782/782\u001b[0m \u001b[32m━━━━━━━━━━━━━━━━━━━━\u001b[0m\u001b[37m\u001b[0m \u001b[1m6s\u001b[0m 7ms/step - accuracy: 0.7747 - loss: 0.4941\n",
            "Test Loss: 0.49750518798828125\n",
            "Test Accuracy: 0.7746400237083435\n"
          ]
        }
      ],
      "source": [
        "show_loss_accuracy_evolution(history)\n",
        "results = model.evaluate(x_test_seq, test_labels, verbose=1)\n",
        "print('Test Loss: {}'.format(results[0]))\n",
        "print('Test Accuracy: {}'.format(results[1]))"
      ]
    },
    {
      "cell_type": "code",
      "execution_count": 35,
      "metadata": {
        "colab": {
          "base_uri": "https://localhost:8080/"
        },
        "id": "r4A_Q_RfBpBL",
        "outputId": "4fabdfea-00a6-4d41-8e58-21c8de8ebbca"
      },
      "outputs": [
        {
          "name": "stdout",
          "output_type": "stream",
          "text": [
            "\u001b[1m782/782\u001b[0m \u001b[32m━━━━━━━━━━━━━━━━━━━━\u001b[0m\u001b[37m\u001b[0m \u001b[1m6s\u001b[0m 7ms/step\n",
            "Predicted : 1, real : 0, lenght: 726\n",
            "<START> i can imagine what happened for this film to come into being a bunch of studio guys are sitting around <UNK> <UNK> and <UNK> maybe a <UNK> and one of them comes up with the idea that it would be great if they could find a film that would <UNK> the <UNK> <UNK> which at that time was about as far apart as <UNK> <UNK> and <UNK> <UNK> something that both college age <UNK> and their parents would find equally interesting for different reasons perhaps but still a <UNK> is a <UNK> what interested <UNK> <UNK> <UNK> <UNK> and wild sets and costumes what interested their parents <UNK> eye candy a feel good script and <UNK> very well then lost <UNK> the old classic as a musical in color can't miss right it was a <UNK> lost <UNK> by james <UNK> is perhaps less than a classic but not a bad novel in <UNK> terms he <UNK> out a <UNK> society in <UNK> la the <UNK> of the blue moon near <UNK> <UNK> by <UNK> <UNK> <UNK> who <UNK> an <UNK> of i very i long lived <UNK> <UNK> into <UNK> is a <UNK> island like of <UNK> a <UNK> of <UNK> a <UNK> etc each with their own <UNK> on the situation what plot there is <UNK> the <UNK> of each of them to being presented with a choice to live in <UNK> or try to return to the <UNK> of the <UNK> century taken on its own terms it's <UNK> pop <UNK> <UNK> <UNK> <UNK> own <UNK> british <UNK> in <UNK> <UNK> as <UNK> and as familiar as a <UNK> <UNK> as <UNK> <UNK> <UNK> of the <UNK> the <UNK> are <UNK> to leave the <UNK> but never <UNK> into work or <UNK> not that the <UNK> do too much of that themselves treated <UNK> and given simple yet <UNK> <UNK> want to escape in this middle american heaven on earth the <UNK> are both <UNK> and wise the <UNK> is <UNK> the food is <UNK> and <UNK> the <UNK> are <UNK> and nothing ever changes the <UNK> are <UNK> but <UNK> to look pretty and even <UNK> a bit the reason given is one of the most <UNK> <UNK> <UNK> of <UNK> sex i've ever read even their <UNK> is <UNK> <UNK> as a best of both <UNK> <UNK> of <UNK> and <UNK> there's little to <UNK> any but the <UNK> or the <UNK> out there who actually knew something about <UNK> which in the early <UNK> was a very small number br br as a <UNK> film <UNK> on the adventure character <UNK> <UNK> it was <UNK> and perhaps <UNK> could have made it <UNK> if <UNK> been around as an early <UNK> hollywood <UNK> the adventure was over too quickly and the <UNK> <UNK> of characters too bland to make much of an impression <UNK> of the <UNK> <UNK> <UNK> of classic b w the <UNK> <UNK> a de beauty <UNK> in white and <UNK> blue and while at least some of the <UNK> <UNK> tried for historical <UNK> most of the rest of the <UNK> looked as if on their way to a morning <UNK> and <UNK> with a couple of holes of <UNK> in the <UNK> maybe <UNK> <UNK> could have <UNK> some <UNK> to the story playing up the very real conflict inside each character's <UNK> just five years <UNK> brian would have <UNK> the <UNK> atmosphere to a t instead <UNK> and <UNK> david were given the job of writing the songs which <UNK> <UNK> like <UNK> with some of the new <UNK> <UNK> ever <UNK> quite naturally for the time every song <UNK> for a dance number which <UNK> from the merely <UNK> to the completely boring and so is the script which has not one line worth <UNK> br br <UNK> <UNK> with this movie were <UNK> there were everything from to <UNK> <UNK> to <UNK> this film and such was the <UNK> that i actually went out and bought the <UNK> just about the only thing good i can say about it is that it made enough of an impression on me to write this review completely from memory nearly <UNK> years after the next <UNK> i read bought a copy of the and <UNK> <UNK> about real <UNK> culture <UNK> br br\n",
            "\n",
            "Predicted : 0, real : 1, lenght: 128\n",
            "<START> this was <UNK> a remake of <UNK> murder <UNK> <UNK> <UNK> scott <UNK> charlie <UNK> dick is playing a college <UNK> who <UNK> <UNK> <UNK> and can't even find his own <UNK> <UNK> is now a private eye not <UNK> to dick this lets <UNK> shoot at guys <UNK> away from him which a cop can not do <UNK> still gets the girl in the end <UNK> <UNK> <UNK> the girl she is the <UNK> suspect and dick and <UNK> believe she's innocent and prove it that's all the spoiler you get the ending is <UNK> <UNK> that you don't already know it half way through the movie br br don't take it seriously don't <UNK> it just sit back and enjoy dick and <UNK> van <UNK>\n",
            "\n",
            "Predicted : 0, real : 1, lenght: 137\n",
            "<START> this is a good film no doubt but with some odd aspects without <UNK> anything it takes place in 3 places only a <UNK> <UNK> the <UNK> and <UNK> island new york all shots are close up so we never see a <UNK> <UNK> of anything i wonder if this was to save money no street scenes anywhere and we don't even see the <UNK> except in close ups and the music what on earth was going on with playing <UNK> <UNK> songs <UNK> before they were out i could have done without the <UNK> river business too but hey before you think of me as a pure <UNK> let me <UNK> this is a very good film with moments wonderful photography great characters and more <UNK> than the usual american <UNK> at the <UNK> experience\n",
            "\n",
            "Predicted : 0, real : 1, lenght: 211\n",
            "<START> it's a talking <UNK> happy <UNK> ass cop i have seen the first and second episodes the <UNK> and animation <UNK> very well note the <UNK> <UNK> <UNK> the main character being a gun <UNK> <UNK> wearing <UNK> of <UNK> <UNK> shooting at <UNK> he thinks to be <UNK> or <UNK> so far the episodes have had simple and <UNK> plots that work very well with <UNK> don <UNK> partner <UNK> the <UNK> <UNK> to a a <UNK> and random i've got a <UNK> leads lines are very funny and clever here's one for example i've got one <UNK> and its got your <UNK> <UNK> on it don't make me hit <UNK> <UNK> looks like your in box just got some new <UNK> the think box at <UNK> <UNK> are so far <UNK> and on <UNK> as for the sound it's perfect the sound effects and voice work are 9 10 sounds like <UNK> <UNK> all <UNK> up don <UNK> the <UNK> the <UNK> of police all have <UNK> that fit there <UNK> very well i recommend this to anyone who wants to catch a few laughs before they go to bed as it does air on adult <UNK> on <UNK> <UNK> very funny <UNK> <UNK> different comedy 10 10\n",
            "\n",
            "Predicted : 1, real : 0, lenght: 390\n",
            "<START> i have seen <UNK> <UNK> years ago and that was one of those movies i kept in memory for a very long time it was intense from beginning to end and with plenty of <UNK> twists but all of these made sense br br i can't tell the same about dead <UNK> above the title is a <UNK> that <UNK> it to be even better than <UNK> <UNK> this is a big <UNK> br br dead <UNK> <UNK> <UNK> and gets far less convincing during the movie br br two supporting characters for example turn out to be a whole lot less innocent than they first appeared to be that could work as a surprise but it didn't surprise me i could see it coming minutes before and that is a big difference with <UNK> <UNK> br br another thing i have to mention is that characters in this movie often <UNK> not very realistic they <UNK> like that more often when the movie gets to it's end br br i would have found it far more interesting if some of the characters would have <UNK> completely innocent not knowing what is going on it would have been better for the <UNK> with for example <UNK> and his friend who have to carry a huge secret with them br br but no for some stupid reason the makers of this movie decided that all characters should show their <UNK> <UNK> it does not work in a movie like this br br the end felt much like an open end it left me with an <UNK> feeling i expected a whole lot more of it br br at first i would have given this movie six stars because it is not entirely a bad movie i liked watching it most of the time br br but <UNK> i saw some really poor acting and <UNK> scenes and because of the disappointing open end i stick to four stars this time and because it turned out to be a mistake that i have spend my time and money to it unlike <UNK> <UNK> i will probably forget dead <UNK> very soon it is just not such a special movie br br the makers could have done a far better job with this movie it is a shame that they did not\n",
            "\n",
            "Predicted : 0, real : 1, lenght: 294\n",
            "<START> i like <UNK> <UNK> from his work in black books although i found some of his stand up to be really <UNK> in terms of long confused <UNK> however i was <UNK> to see this film starring he and michael <UNK> and <UNK> got the better of me br br i was <UNK> br br <UNK> <UNK> <UNK> and <UNK> of the different people he was playing in the film was absolutely perfect something beyond the skills of a <UNK> stand up <UNK> and really truly on a <UNK> with <UNK> <UNK> john hurt and the other <UNK> truly he was <UNK> in his portrayal br br michael <UNK> was a very convincing <UNK> <UNK> and the standard british film <UNK> of having a <UNK> child on hand to be <UNK> wise and <UNK> worked the only aspect i didn't really like was the <UNK> plot feature of the chemistry between <UNK> and the <UNK> hard man played by <UNK> br br other than that it was great br br i also like the non cop out ending where it did end up <UNK> ever after but with <UNK> getting a <UNK> ok it's not exactly being <UNK> up by your <UNK> and which is what a real crime boss would do to you if you <UNK> off them but it showed at least a small <UNK> of reality in the story br br i liked the film and i would recommend it to anyone but i would also <UNK> them not to turn it off after 15 minutes because it started a bit slow if you stick it out then it will all come back br br and with <UNK> to the <UNK> well they're in <UNK> it wouldn't be real otherwise\n",
            "\n",
            "Predicted : 1, real : 0, lenght: 273\n",
            "<START> back in the cold and creepy early <UNK> a show called family <UNK> <UNK> and became an <UNK> classic the <UNK> was to buy a <UNK> in standard family situations and their <UNK> and <UNK> some attempts to <UNK> <UNK> in it and you had yourself a lovely little <UNK> is wrong parents are right show so that worked out fine so <UNK> had a new <UNK> plan making the <UNK> same show again br br here's the difference though family <UNK> had step by step has the guy from those <UNK> <UNK> nobody saw he says things like and the <UNK> <UNK> and somehow the audience is still not supposed to hate him i mean seriously how can you even get that across your <UNK> br br the rest of the people were mostly white <UNK> of the whole <UNK> bunch <UNK> with some more one or zero <UNK> characters like the dumb guy <UNK> well eddie the smart girl <UNK> and a pretty girl who <UNK> her days looking pretty in <UNK> the character development was just awful in this show <UNK> and the <UNK> monster have more depth than the <UNK> family everybody just <UNK> their <UNK> for what they were worth they weren't worth much br br <UNK> by a <UNK> laugh and <UNK> <UNK> <UNK> from something funny this show <UNK> for a <UNK> 7 years which was <UNK> for the <UNK> although you'll have to note that this is the time where family <UNK> were pretty much all big hits everybody just <UNK> their because well it was the <UNK> one more <UNK> show didn't hurt\n",
            "\n",
            "Predicted : 0, real : 1, lenght: 107\n",
            "<START> the worst movie ever hardly this is one of the best animated movies i have ever seen it has <UNK> from all the great characters from the animated tv series <UNK> very <UNK> for small children and the <UNK> capture their attention like no other there is an evil <UNK> trying to <UNK> the <UNK> planet which would in turn cause all life on earth to <UNK> this tells the tale of how <UNK> and her new friend are able to stop the evil plot and <UNK> life and color back to earth it's <UNK> that kids can make a difference <UNK> will live on forever\n",
            "\n",
            "Predicted : 0, real : 1, lenght: 533\n",
            "<START> when this film gets it right it really gets it right and when it goes wrong i'd say that a full 3 of the film is great i can even <UNK> the bad bit it's everything that has to do with the romance everything that you need to know about it is said in the first five minutes but it <UNK> on for about 30 i'd recommend <UNK> that <UNK> if you can it does nothing except explain his <UNK> it should have been a minor plot point quickly <UNK> aside <UNK> the period from about <UNK> 30 and 1 <UNK> 2 <UNK> the end is excellent br br there are a number of excellent performances in this film and an <UNK> number of terrible ones just like everything else in this movie the acting is either perfect or terrible peter <UNK> as the <UNK> one <UNK> <UNK> is perfect it is one of his best performances up there with his role in <UNK> <UNK> <UNK> as the <UNK> is also perfect again one of his best roles jean <UNK> is wasted as <UNK> the perfect girl in love with our hero john <UNK> gives a nice supporting role as a <UNK> <UNK> <UNK> and michael <UNK> is excellent as the <UNK> <UNK> who tries to bring <UNK> and <UNK> to <UNK> only to see it fall apart due to his <UNK> to fight now for the bad <UNK> <UNK> as is sadly <UNK> this is <UNK> <UNK> as he is the main character the entire film <UNK> around him he actually does rather good as the <UNK> <UNK> and the wise old man this is because of his <UNK> limited <UNK> he doesn't seem able to put any passion into his words this is especially apparent during the love scenes which are beyond <UNK> he <UNK> the last half of the film as an old man a performance at which he is decent enough at he does have the perfect voice for the character the less said about <UNK> as the <UNK> <UNK> woman the better br br the <UNK> and sets are <UNK> this is the only film that i know of that attempts to <UNK> life in <UNK> that isn't <UNK> by <UNK> or <UNK> the film takes place in the <UNK> century b c which is before even <UNK> the only are the <UNK> and his <UNK> there is the same strong element of religious <UNK> that can be found in most <UNK> but it is done <UNK> and it only shows up at the very end an interesting note by having followed by as <UNK> the film completely <UNK> over the most famous <UNK> of all seems kind of a strange thing to do when using that name could <UNK> <UNK> of the film br br be <UNK> this is a <UNK> epic film if you don't like that type of thing then don't expect this one to be different it is different but it is still an epic i appreciate this film and i appreciate what it did and what it tried to do this is a film that should be better <UNK> than it is\n",
            "\n",
            "Predicted : 1, real : 0, lenght: 241\n",
            "<START> such a highly <UNK> remake of a <UNK> musical classic and such a <UNK> <UNK> it was to have to take very very hard to <UNK> all of it it didn't have an <UNK> of <UNK> anywhere and when you don't have a <UNK> you don't have a show br br <UNK> <UNK> seemed born to play this part yet all she was able to <UNK> was a cute funny <UNK> <UNK> <UNK> <UNK> <UNK> down with all the familiar <UNK> <UNK> has nothing to <UNK> about she can rest in her <UNK> knowing she is still the <UNK> <UNK> <UNK> of film anyway br br i thought <UNK> was really going to put it across this time to throw herself into what is one of the greatest musical roles of all time like she did in the <UNK> but no she played it <UNK> she played herself she made <UNK> a total <UNK> theatre cartoon even her songs were <UNK> it was <UNK> to watch knowing <UNK> has the talent to <UNK> above her money making <UNK> she showed <UNK> only once in this <UNK> and that was with <UNK> turn but by then it was too little too late br br a <UNK> <UNK> as the <UNK> heroine gave the film its only true <UNK> and when the role of <UNK> <UNK> that of <UNK> you know there's trouble in river city br br a huge huge <UNK>\n",
            "\n"
          ]
        }
      ],
      "source": [
        "def show_errors(x_test, model, labels, int2word, n_samples=10):\n",
        "    preds = 1.0 * (model.predict(x_test).flatten() > 0.5)\n",
        "    bad_pred_inds = np.where(preds != labels)[0]\n",
        "    n_samples = min(len(bad_pred_inds), n_samples)\n",
        "    samples_inds = np.random.choice(bad_pred_inds, n_samples)\n",
        "    for ind in samples_inds:\n",
        "        print('Predicted : {0}, real : {1}, lenght: {2}'.format(\n",
        "            int(preds[ind]), labels[ind], len(test_data[ind])))\n",
        "        print(get_words(test_data[ind], int2word))\n",
        "        print()\n",
        "    return\n",
        "\n",
        "show_errors(x_test_seq, model, test_labels, int2word, n_samples=10)"
      ]
    },
    {
      "cell_type": "markdown",
      "metadata": {
        "id": "PEnXNWuOBpBL"
      },
      "source": [
        "#### Making predictions with new data"
      ]
    },
    {
      "cell_type": "code",
      "execution_count": 36,
      "metadata": {
        "colab": {
          "base_uri": "https://localhost:8080/"
        },
        "id": "2tGGGeKPBpBL",
        "outputId": "c1bf0047-7d69-47a3-9d79-5d8a69f40b88"
      },
      "outputs": [
        {
          "name": "stdout",
          "output_type": "stream",
          "text": [
            "\u001b[1m1/1\u001b[0m \u001b[32m━━━━━━━━━━━━━━━━━━━━\u001b[0m\u001b[37m\u001b[0m \u001b[1m0s\u001b[0m 297ms/step\n"
          ]
        },
        {
          "data": {
            "text/plain": [
              "array([[0.0913],\n",
              "       [0.897 ],\n",
              "       [0.8933],\n",
              "       [0.4278],\n",
              "       [0.0916],\n",
              "       [0.0915]], dtype=float32)"
            ]
          },
          "execution_count": 36,
          "metadata": {},
          "output_type": "execute_result"
        }
      ],
      "source": [
        "reviews = ['the film was really bad and i am very disappointed',\n",
        "           'The film was very funny entertaining and good we had a great time . brilliant film',\n",
        "           'this film was just brilliant',\n",
        "           'the film is not good',\n",
        "           'the film is not bad',\n",
        "          'the movie is not bad I like it']\n",
        "sequences = [vectorize_text_sentence(review.lower(), word2int)\n",
        "             for review in reviews]\n",
        "\n",
        "## Padding the sequences\n",
        "x_pred  = tf.keras.preprocessing.sequence.pad_sequences(sequences, maxlen=max_len, truncating='post', padding='post')# ...\n",
        "\n",
        "np.round(model.predict(x_pred), 4)"
      ]
    },
    {
      "cell_type": "code",
      "execution_count": 37,
      "metadata": {
        "colab": {
          "base_uri": "https://localhost:8080/"
        },
        "id": "ESP4EzChBpBL",
        "outputId": "cea3db5e-3ef9-45d2-96fe-f889a0cacf54"
      },
      "outputs": [
        {
          "name": "stdout",
          "output_type": "stream",
          "text": [
            "\u001b[1m1/1\u001b[0m \u001b[32m━━━━━━━━━━━━━━━━━━━━\u001b[0m\u001b[37m\u001b[0m \u001b[1m0s\u001b[0m 20ms/step\n"
          ]
        },
        {
          "data": {
            "text/plain": [
              "array([[0.],\n",
              "       [1.],\n",
              "       [1.],\n",
              "       [0.],\n",
              "       [0.],\n",
              "       [0.]])"
            ]
          },
          "execution_count": 37,
          "metadata": {},
          "output_type": "execute_result"
        }
      ],
      "source": [
        "1.0*(model.predict(x_pred) > 0.5)"
      ]
    },
    {
      "cell_type": "markdown",
      "metadata": {
        "id": "-KbNMlJcBpBL"
      },
      "source": [
        "### GRU model\n",
        "Use `GRU`\n"
      ]
    },
    {
      "cell_type": "code",
      "execution_count": 38,
      "metadata": {
        "colab": {
          "base_uri": "https://localhost:8080/",
          "height": 257
        },
        "id": "lnjQHR1gBpBL",
        "outputId": "97cbddcb-2a19-46da-a9fa-73bed4e92b33"
      },
      "outputs": [
        {
          "data": {
            "text/html": [
              "<pre style=\"white-space:pre;overflow-x:auto;line-height:normal;font-family:Menlo,'DejaVu Sans Mono',consolas,'Courier New',monospace\"><span style=\"font-weight: bold\">Model: \"sequential_2\"</span>\n",
              "</pre>\n"
            ],
            "text/plain": [
              "\u001b[1mModel: \"sequential_2\"\u001b[0m\n"
            ]
          },
          "metadata": {},
          "output_type": "display_data"
        },
        {
          "data": {
            "text/html": [
              "<pre style=\"white-space:pre;overflow-x:auto;line-height:normal;font-family:Menlo,'DejaVu Sans Mono',consolas,'Courier New',monospace\">┏━━━━━━━━━━━━━━━━━━━━━━━━━━━━━━━━━━━━━━┳━━━━━━━━━━━━━━━━━━━━━━━━━━━━━┳━━━━━━━━━━━━━━━━━┓\n",
              "┃<span style=\"font-weight: bold\"> Layer (type)                         </span>┃<span style=\"font-weight: bold\"> Output Shape                </span>┃<span style=\"font-weight: bold\">         Param # </span>┃\n",
              "┡━━━━━━━━━━━━━━━━━━━━━━━━━━━━━━━━━━━━━━╇━━━━━━━━━━━━━━━━━━━━━━━━━━━━━╇━━━━━━━━━━━━━━━━━┩\n",
              "│ embedding_3 (<span style=\"color: #0087ff; text-decoration-color: #0087ff\">Embedding</span>)              │ (<span style=\"color: #00d7ff; text-decoration-color: #00d7ff\">None</span>, <span style=\"color: #00af00; text-decoration-color: #00af00\">100</span>, <span style=\"color: #00af00; text-decoration-color: #00af00\">2003</span>)           │       <span style=\"color: #00af00; text-decoration-color: #00af00\">4,012,009</span> │\n",
              "├──────────────────────────────────────┼─────────────────────────────┼─────────────────┤\n",
              "│ gru (<span style=\"color: #0087ff; text-decoration-color: #0087ff\">GRU</span>)                            │ (<span style=\"color: #00d7ff; text-decoration-color: #00d7ff\">None</span>, <span style=\"color: #00af00; text-decoration-color: #00af00\">100</span>, <span style=\"color: #00af00; text-decoration-color: #00af00\">16</span>)             │          <span style=\"color: #00af00; text-decoration-color: #00af00\">97,008</span> │\n",
              "├──────────────────────────────────────┼─────────────────────────────┼─────────────────┤\n",
              "│ gru_1 (<span style=\"color: #0087ff; text-decoration-color: #0087ff\">GRU</span>)                          │ (<span style=\"color: #00d7ff; text-decoration-color: #00d7ff\">None</span>, <span style=\"color: #00af00; text-decoration-color: #00af00\">16</span>)                  │           <span style=\"color: #00af00; text-decoration-color: #00af00\">1,632</span> │\n",
              "├──────────────────────────────────────┼─────────────────────────────┼─────────────────┤\n",
              "│ dense_4 (<span style=\"color: #0087ff; text-decoration-color: #0087ff\">Dense</span>)                      │ (<span style=\"color: #00d7ff; text-decoration-color: #00d7ff\">None</span>, <span style=\"color: #00af00; text-decoration-color: #00af00\">1</span>)                   │              <span style=\"color: #00af00; text-decoration-color: #00af00\">17</span> │\n",
              "└──────────────────────────────────────┴─────────────────────────────┴─────────────────┘\n",
              "</pre>\n"
            ],
            "text/plain": [
              "┏━━━━━━━━━━━━━━━━━━━━━━━━━━━━━━━━━━━━━━┳━━━━━━━━━━━━━━━━━━━━━━━━━━━━━┳━━━━━━━━━━━━━━━━━┓\n",
              "┃\u001b[1m \u001b[0m\u001b[1mLayer (type)                        \u001b[0m\u001b[1m \u001b[0m┃\u001b[1m \u001b[0m\u001b[1mOutput Shape               \u001b[0m\u001b[1m \u001b[0m┃\u001b[1m \u001b[0m\u001b[1m        Param #\u001b[0m\u001b[1m \u001b[0m┃\n",
              "┡━━━━━━━━━━━━━━━━━━━━━━━━━━━━━━━━━━━━━━╇━━━━━━━━━━━━━━━━━━━━━━━━━━━━━╇━━━━━━━━━━━━━━━━━┩\n",
              "│ embedding_3 (\u001b[38;5;33mEmbedding\u001b[0m)              │ (\u001b[38;5;45mNone\u001b[0m, \u001b[38;5;34m100\u001b[0m, \u001b[38;5;34m2003\u001b[0m)           │       \u001b[38;5;34m4,012,009\u001b[0m │\n",
              "├──────────────────────────────────────┼─────────────────────────────┼─────────────────┤\n",
              "│ gru (\u001b[38;5;33mGRU\u001b[0m)                            │ (\u001b[38;5;45mNone\u001b[0m, \u001b[38;5;34m100\u001b[0m, \u001b[38;5;34m16\u001b[0m)             │          \u001b[38;5;34m97,008\u001b[0m │\n",
              "├──────────────────────────────────────┼─────────────────────────────┼─────────────────┤\n",
              "│ gru_1 (\u001b[38;5;33mGRU\u001b[0m)                          │ (\u001b[38;5;45mNone\u001b[0m, \u001b[38;5;34m16\u001b[0m)                  │           \u001b[38;5;34m1,632\u001b[0m │\n",
              "├──────────────────────────────────────┼─────────────────────────────┼─────────────────┤\n",
              "│ dense_4 (\u001b[38;5;33mDense\u001b[0m)                      │ (\u001b[38;5;45mNone\u001b[0m, \u001b[38;5;34m1\u001b[0m)                   │              \u001b[38;5;34m17\u001b[0m │\n",
              "└──────────────────────────────────────┴─────────────────────────────┴─────────────────┘\n"
            ]
          },
          "metadata": {},
          "output_type": "display_data"
        },
        {
          "data": {
            "text/html": [
              "<pre style=\"white-space:pre;overflow-x:auto;line-height:normal;font-family:Menlo,'DejaVu Sans Mono',consolas,'Courier New',monospace\"><span style=\"font-weight: bold\"> Total params: </span><span style=\"color: #00af00; text-decoration-color: #00af00\">4,110,666</span> (15.68 MB)\n",
              "</pre>\n"
            ],
            "text/plain": [
              "\u001b[1m Total params: \u001b[0m\u001b[38;5;34m4,110,666\u001b[0m (15.68 MB)\n"
            ]
          },
          "metadata": {},
          "output_type": "display_data"
        },
        {
          "data": {
            "text/html": [
              "<pre style=\"white-space:pre;overflow-x:auto;line-height:normal;font-family:Menlo,'DejaVu Sans Mono',consolas,'Courier New',monospace\"><span style=\"font-weight: bold\"> Trainable params: </span><span style=\"color: #00af00; text-decoration-color: #00af00\">98,657</span> (385.38 KB)\n",
              "</pre>\n"
            ],
            "text/plain": [
              "\u001b[1m Trainable params: \u001b[0m\u001b[38;5;34m98,657\u001b[0m (385.38 KB)\n"
            ]
          },
          "metadata": {},
          "output_type": "display_data"
        },
        {
          "data": {
            "text/html": [
              "<pre style=\"white-space:pre;overflow-x:auto;line-height:normal;font-family:Menlo,'DejaVu Sans Mono',consolas,'Courier New',monospace\"><span style=\"font-weight: bold\"> Non-trainable params: </span><span style=\"color: #00af00; text-decoration-color: #00af00\">4,012,009</span> (15.30 MB)\n",
              "</pre>\n"
            ],
            "text/plain": [
              "\u001b[1m Non-trainable params: \u001b[0m\u001b[38;5;34m4,012,009\u001b[0m (15.30 MB)\n"
            ]
          },
          "metadata": {},
          "output_type": "display_data"
        }
      ],
      "source": [
        "model = Sequential(\n",
        "    [\n",
        "        Input(shape=(max_len,), name='input'),\n",
        "        ## one-hot encoding\n",
        "        Embedding(input_dim=num_words,\n",
        "                  output_dim=num_words,\n",
        "                  embeddings_initializer='identity',\n",
        "                  trainable=False),\n",
        "        ## recurrent layers\n",
        "        GRU(16, return_sequences=True),\n",
        "        GRU(16, return_sequences=False),\n",
        "        Dense(1, activation='sigmoid')\n",
        "    ]\n",
        ")\n",
        "\n",
        "model.summary()"
      ]
    },
    {
      "cell_type": "code",
      "execution_count": 39,
      "metadata": {
        "colab": {
          "base_uri": "https://localhost:8080/"
        },
        "id": "irdeGDnOBpBM",
        "outputId": "d24228bd-17dc-4b3d-ebbc-e987fffba667"
      },
      "outputs": [
        {
          "name": "stdout",
          "output_type": "stream",
          "text": [
            "Epoch 1/5\n",
            "\u001b[1m88/88\u001b[0m \u001b[32m━━━━━━━━━━━━━━━━━━━━\u001b[0m\u001b[37m\u001b[0m \u001b[1m8s\u001b[0m 30ms/step - accuracy: 0.5117 - loss: 0.6925 - val_accuracy: 0.5712 - val_loss: 0.6838\n",
            "Epoch 2/5\n",
            "\u001b[1m88/88\u001b[0m \u001b[32m━━━━━━━━━━━━━━━━━━━━\u001b[0m\u001b[37m\u001b[0m \u001b[1m2s\u001b[0m 26ms/step - accuracy: 0.6589 - loss: 0.6149 - val_accuracy: 0.7908 - val_loss: 0.4534\n",
            "Epoch 3/5\n",
            "\u001b[1m88/88\u001b[0m \u001b[32m━━━━━━━━━━━━━━━━━━━━\u001b[0m\u001b[37m\u001b[0m \u001b[1m2s\u001b[0m 28ms/step - accuracy: 0.8141 - loss: 0.4146 - val_accuracy: 0.8116 - val_loss: 0.4171\n",
            "Epoch 4/5\n",
            "\u001b[1m88/88\u001b[0m \u001b[32m━━━━━━━━━━━━━━━━━━━━\u001b[0m\u001b[37m\u001b[0m \u001b[1m3s\u001b[0m 35ms/step - accuracy: 0.8355 - loss: 0.3774 - val_accuracy: 0.8136 - val_loss: 0.4128\n",
            "Epoch 5/5\n",
            "\u001b[1m88/88\u001b[0m \u001b[32m━━━━━━━━━━━━━━━━━━━━\u001b[0m\u001b[37m\u001b[0m \u001b[1m5s\u001b[0m 28ms/step - accuracy: 0.8481 - loss: 0.3574 - val_accuracy: 0.8140 - val_loss: 0.4191\n"
          ]
        }
      ],
      "source": [
        "## set the loss and see the results\n",
        "model.compile(\n",
        "    optimizer='adam',\n",
        "    loss='binary_crossentropy',\n",
        "    metrics=['accuracy']\n",
        ")\n",
        "epochs = 5\n",
        "history = model.fit(x_train_seq, train_labels,\n",
        "                    validation_split=0.1, epochs=epochs,\n",
        "                    batch_size=256)"
      ]
    },
    {
      "cell_type": "code",
      "execution_count": 40,
      "metadata": {
        "colab": {
          "base_uri": "https://localhost:8080/"
        },
        "id": "ktxaOvXlBpBM",
        "outputId": "37050486-e950-4f39-e504-f163a2c78af0"
      },
      "outputs": [
        {
          "name": "stdout",
          "output_type": "stream",
          "text": [
            "\u001b[1m782/782\u001b[0m \u001b[32m━━━━━━━━━━━━━━━━━━━━\u001b[0m\u001b[37m\u001b[0m \u001b[1m4s\u001b[0m 5ms/step - accuracy: 0.8039 - loss: 0.4323\n",
            "Test Loss: 0.43579983711242676\n",
            "Test Accuracy: 0.8011199831962585\n"
          ]
        }
      ],
      "source": [
        "results = model.evaluate(x_test_seq, test_labels, verbose=1)\n",
        "print('Test Loss: {}'.format(results[0]))\n",
        "print('Test Accuracy: {}'.format(results[1]))"
      ]
    },
    {
      "cell_type": "markdown",
      "metadata": {
        "id": "Ydp-oblgBpBM"
      },
      "source": [
        "### LSTM model\n",
        "Use `LSTM`\n"
      ]
    },
    {
      "cell_type": "code",
      "execution_count": 41,
      "metadata": {
        "colab": {
          "base_uri": "https://localhost:8080/",
          "height": 257
        },
        "id": "eHb5lJZ3BpBM",
        "outputId": "f89acc7c-b70a-48b2-9faf-a369c1250774"
      },
      "outputs": [
        {
          "data": {
            "text/html": [
              "<pre style=\"white-space:pre;overflow-x:auto;line-height:normal;font-family:Menlo,'DejaVu Sans Mono',consolas,'Courier New',monospace\"><span style=\"font-weight: bold\">Model: \"sequential_3\"</span>\n",
              "</pre>\n"
            ],
            "text/plain": [
              "\u001b[1mModel: \"sequential_3\"\u001b[0m\n"
            ]
          },
          "metadata": {},
          "output_type": "display_data"
        },
        {
          "data": {
            "text/html": [
              "<pre style=\"white-space:pre;overflow-x:auto;line-height:normal;font-family:Menlo,'DejaVu Sans Mono',consolas,'Courier New',monospace\">┏━━━━━━━━━━━━━━━━━━━━━━━━━━━━━━━━━━━━━━┳━━━━━━━━━━━━━━━━━━━━━━━━━━━━━┳━━━━━━━━━━━━━━━━━┓\n",
              "┃<span style=\"font-weight: bold\"> Layer (type)                         </span>┃<span style=\"font-weight: bold\"> Output Shape                </span>┃<span style=\"font-weight: bold\">         Param # </span>┃\n",
              "┡━━━━━━━━━━━━━━━━━━━━━━━━━━━━━━━━━━━━━━╇━━━━━━━━━━━━━━━━━━━━━━━━━━━━━╇━━━━━━━━━━━━━━━━━┩\n",
              "│ embedding_4 (<span style=\"color: #0087ff; text-decoration-color: #0087ff\">Embedding</span>)              │ (<span style=\"color: #00d7ff; text-decoration-color: #00d7ff\">None</span>, <span style=\"color: #00af00; text-decoration-color: #00af00\">100</span>, <span style=\"color: #00af00; text-decoration-color: #00af00\">2003</span>)           │       <span style=\"color: #00af00; text-decoration-color: #00af00\">4,012,009</span> │\n",
              "├──────────────────────────────────────┼─────────────────────────────┼─────────────────┤\n",
              "│ lstm_2 (<span style=\"color: #0087ff; text-decoration-color: #0087ff\">LSTM</span>)                        │ (<span style=\"color: #00d7ff; text-decoration-color: #00d7ff\">None</span>, <span style=\"color: #00af00; text-decoration-color: #00af00\">100</span>, <span style=\"color: #00af00; text-decoration-color: #00af00\">16</span>)             │         <span style=\"color: #00af00; text-decoration-color: #00af00\">129,280</span> │\n",
              "├──────────────────────────────────────┼─────────────────────────────┼─────────────────┤\n",
              "│ lstm_3 (<span style=\"color: #0087ff; text-decoration-color: #0087ff\">LSTM</span>)                        │ (<span style=\"color: #00d7ff; text-decoration-color: #00d7ff\">None</span>, <span style=\"color: #00af00; text-decoration-color: #00af00\">16</span>)                  │           <span style=\"color: #00af00; text-decoration-color: #00af00\">2,112</span> │\n",
              "├──────────────────────────────────────┼─────────────────────────────┼─────────────────┤\n",
              "│ dense_5 (<span style=\"color: #0087ff; text-decoration-color: #0087ff\">Dense</span>)                      │ (<span style=\"color: #00d7ff; text-decoration-color: #00d7ff\">None</span>, <span style=\"color: #00af00; text-decoration-color: #00af00\">1</span>)                   │              <span style=\"color: #00af00; text-decoration-color: #00af00\">17</span> │\n",
              "└──────────────────────────────────────┴─────────────────────────────┴─────────────────┘\n",
              "</pre>\n"
            ],
            "text/plain": [
              "┏━━━━━━━━━━━━━━━━━━━━━━━━━━━━━━━━━━━━━━┳━━━━━━━━━━━━━━━━━━━━━━━━━━━━━┳━━━━━━━━━━━━━━━━━┓\n",
              "┃\u001b[1m \u001b[0m\u001b[1mLayer (type)                        \u001b[0m\u001b[1m \u001b[0m┃\u001b[1m \u001b[0m\u001b[1mOutput Shape               \u001b[0m\u001b[1m \u001b[0m┃\u001b[1m \u001b[0m\u001b[1m        Param #\u001b[0m\u001b[1m \u001b[0m┃\n",
              "┡━━━━━━━━━━━━━━━━━━━━━━━━━━━━━━━━━━━━━━╇━━━━━━━━━━━━━━━━━━━━━━━━━━━━━╇━━━━━━━━━━━━━━━━━┩\n",
              "│ embedding_4 (\u001b[38;5;33mEmbedding\u001b[0m)              │ (\u001b[38;5;45mNone\u001b[0m, \u001b[38;5;34m100\u001b[0m, \u001b[38;5;34m2003\u001b[0m)           │       \u001b[38;5;34m4,012,009\u001b[0m │\n",
              "├──────────────────────────────────────┼─────────────────────────────┼─────────────────┤\n",
              "│ lstm_2 (\u001b[38;5;33mLSTM\u001b[0m)                        │ (\u001b[38;5;45mNone\u001b[0m, \u001b[38;5;34m100\u001b[0m, \u001b[38;5;34m16\u001b[0m)             │         \u001b[38;5;34m129,280\u001b[0m │\n",
              "├──────────────────────────────────────┼─────────────────────────────┼─────────────────┤\n",
              "│ lstm_3 (\u001b[38;5;33mLSTM\u001b[0m)                        │ (\u001b[38;5;45mNone\u001b[0m, \u001b[38;5;34m16\u001b[0m)                  │           \u001b[38;5;34m2,112\u001b[0m │\n",
              "├──────────────────────────────────────┼─────────────────────────────┼─────────────────┤\n",
              "│ dense_5 (\u001b[38;5;33mDense\u001b[0m)                      │ (\u001b[38;5;45mNone\u001b[0m, \u001b[38;5;34m1\u001b[0m)                   │              \u001b[38;5;34m17\u001b[0m │\n",
              "└──────────────────────────────────────┴─────────────────────────────┴─────────────────┘\n"
            ]
          },
          "metadata": {},
          "output_type": "display_data"
        },
        {
          "data": {
            "text/html": [
              "<pre style=\"white-space:pre;overflow-x:auto;line-height:normal;font-family:Menlo,'DejaVu Sans Mono',consolas,'Courier New',monospace\"><span style=\"font-weight: bold\"> Total params: </span><span style=\"color: #00af00; text-decoration-color: #00af00\">4,143,418</span> (15.81 MB)\n",
              "</pre>\n"
            ],
            "text/plain": [
              "\u001b[1m Total params: \u001b[0m\u001b[38;5;34m4,143,418\u001b[0m (15.81 MB)\n"
            ]
          },
          "metadata": {},
          "output_type": "display_data"
        },
        {
          "data": {
            "text/html": [
              "<pre style=\"white-space:pre;overflow-x:auto;line-height:normal;font-family:Menlo,'DejaVu Sans Mono',consolas,'Courier New',monospace\"><span style=\"font-weight: bold\"> Trainable params: </span><span style=\"color: #00af00; text-decoration-color: #00af00\">131,409</span> (513.32 KB)\n",
              "</pre>\n"
            ],
            "text/plain": [
              "\u001b[1m Trainable params: \u001b[0m\u001b[38;5;34m131,409\u001b[0m (513.32 KB)\n"
            ]
          },
          "metadata": {},
          "output_type": "display_data"
        },
        {
          "data": {
            "text/html": [
              "<pre style=\"white-space:pre;overflow-x:auto;line-height:normal;font-family:Menlo,'DejaVu Sans Mono',consolas,'Courier New',monospace\"><span style=\"font-weight: bold\"> Non-trainable params: </span><span style=\"color: #00af00; text-decoration-color: #00af00\">4,012,009</span> (15.30 MB)\n",
              "</pre>\n"
            ],
            "text/plain": [
              "\u001b[1m Non-trainable params: \u001b[0m\u001b[38;5;34m4,012,009\u001b[0m (15.30 MB)\n"
            ]
          },
          "metadata": {},
          "output_type": "display_data"
        }
      ],
      "source": [
        "model = Sequential(\n",
        "    [\n",
        "        Input(shape=(max_len,), name='input'),\n",
        "        ## one-hot encoding\n",
        "        Embedding(input_dim=num_words,\n",
        "                  output_dim=num_words,\n",
        "                  embeddings_initializer='identity',\n",
        "                  trainable=False),\n",
        "        ## recurrent layers\n",
        "        LSTM(16, return_sequences=True),\n",
        "        LSTM(16, return_sequences=False),\n",
        "        Dense(1, activation='sigmoid')\n",
        "    ]\n",
        ")\n",
        "\n",
        "model.summary()"
      ]
    },
    {
      "cell_type": "code",
      "execution_count": 42,
      "metadata": {
        "colab": {
          "base_uri": "https://localhost:8080/"
        },
        "id": "t4VzZ-JVBpBM",
        "outputId": "673e5b9c-61f9-473a-ae3b-eef67c68d324"
      },
      "outputs": [
        {
          "name": "stdout",
          "output_type": "stream",
          "text": [
            "Epoch 1/5\n",
            "\u001b[1m88/88\u001b[0m \u001b[32m━━━━━━━━━━━━━━━━━━━━\u001b[0m\u001b[37m\u001b[0m \u001b[1m5s\u001b[0m 33ms/step - accuracy: 0.5376 - loss: 0.6817 - val_accuracy: 0.7768 - val_loss: 0.4846\n",
            "Epoch 2/5\n",
            "\u001b[1m88/88\u001b[0m \u001b[32m━━━━━━━━━━━━━━━━━━━━\u001b[0m\u001b[37m\u001b[0m \u001b[1m5s\u001b[0m 31ms/step - accuracy: 0.7969 - loss: 0.4460 - val_accuracy: 0.8104 - val_loss: 0.4235\n",
            "Epoch 3/5\n",
            "\u001b[1m88/88\u001b[0m \u001b[32m━━━━━━━━━━━━━━━━━━━━\u001b[0m\u001b[37m\u001b[0m \u001b[1m5s\u001b[0m 28ms/step - accuracy: 0.8378 - loss: 0.3762 - val_accuracy: 0.8080 - val_loss: 0.4285\n",
            "Epoch 4/5\n",
            "\u001b[1m88/88\u001b[0m \u001b[32m━━━━━━━━━━━━━━━━━━━━\u001b[0m\u001b[37m\u001b[0m \u001b[1m3s\u001b[0m 31ms/step - accuracy: 0.8462 - loss: 0.3585 - val_accuracy: 0.8104 - val_loss: 0.4123\n",
            "Epoch 5/5\n",
            "\u001b[1m88/88\u001b[0m \u001b[32m━━━━━━━━━━━━━━━━━━━━\u001b[0m\u001b[37m\u001b[0m \u001b[1m3s\u001b[0m 29ms/step - accuracy: 0.8489 - loss: 0.3528 - val_accuracy: 0.8088 - val_loss: 0.4160\n"
          ]
        }
      ],
      "source": [
        "## set the loss and see the results\n",
        "model.compile(\n",
        "    optimizer='adam',\n",
        "    loss='binary_crossentropy',\n",
        "    metrics=['accuracy']\n",
        ")\n",
        "epochs = 5\n",
        "history = model.fit(x_train_seq, train_labels,\n",
        "                    validation_split=0.1, epochs=epochs,\n",
        "                    batch_size=256)"
      ]
    },
    {
      "cell_type": "code",
      "execution_count": 43,
      "metadata": {
        "colab": {
          "base_uri": "https://localhost:8080/"
        },
        "id": "Ml6AP9yeBpBM",
        "outputId": "695edfb2-21eb-450a-d9ef-bc644a0a574d"
      },
      "outputs": [
        {
          "name": "stdout",
          "output_type": "stream",
          "text": [
            "\u001b[1m782/782\u001b[0m \u001b[32m━━━━━━━━━━━━━━━━━━━━\u001b[0m\u001b[37m\u001b[0m \u001b[1m4s\u001b[0m 5ms/step - accuracy: 0.7970 - loss: 0.4292\n",
            "Test Loss: 0.4333950877189636\n",
            "Test Accuracy: 0.7959200143814087\n"
          ]
        }
      ],
      "source": [
        "results = model.evaluate(x_test_seq, test_labels, verbose=1)\n",
        "print('Test Loss: {}'.format(results[0]))\n",
        "print('Test Accuracy: {}'.format(results[1]))"
      ]
    },
    {
      "cell_type": "markdown",
      "metadata": {
        "id": "eKJ2PWsXBpBN"
      },
      "source": [
        "### Bidirectional model\n",
        "Use `SimpleRNN`,  `GRU`,  `LSTM` with `Bidirectional`\n"
      ]
    },
    {
      "cell_type": "code",
      "execution_count": 51,
      "metadata": {
        "colab": {
          "base_uri": "https://localhost:8080/",
          "height": 321
        },
        "id": "todCRq0gBpBO",
        "outputId": "80bd3819-3df5-4d75-d4aa-e7499217bbf2"
      },
      "outputs": [
        {
          "data": {
            "text/html": [
              "<pre style=\"white-space:pre;overflow-x:auto;line-height:normal;font-family:Menlo,'DejaVu Sans Mono',consolas,'Courier New',monospace\"><span style=\"font-weight: bold\">Model: \"sequential_6\"</span>\n",
              "</pre>\n"
            ],
            "text/plain": [
              "\u001b[1mModel: \"sequential_6\"\u001b[0m\n"
            ]
          },
          "metadata": {},
          "output_type": "display_data"
        },
        {
          "data": {
            "text/html": [
              "<pre style=\"white-space:pre;overflow-x:auto;line-height:normal;font-family:Menlo,'DejaVu Sans Mono',consolas,'Courier New',monospace\">┏━━━━━━━━━━━━━━━━━━━━━━━━━━━━━━━━━━━━━━┳━━━━━━━━━━━━━━━━━━━━━━━━━━━━━┳━━━━━━━━━━━━━━━━━┓\n",
              "┃<span style=\"font-weight: bold\"> Layer (type)                         </span>┃<span style=\"font-weight: bold\"> Output Shape                </span>┃<span style=\"font-weight: bold\">         Param # </span>┃\n",
              "┡━━━━━━━━━━━━━━━━━━━━━━━━━━━━━━━━━━━━━━╇━━━━━━━━━━━━━━━━━━━━━━━━━━━━━╇━━━━━━━━━━━━━━━━━┩\n",
              "│ embedding_6 (<span style=\"color: #0087ff; text-decoration-color: #0087ff\">Embedding</span>)              │ (<span style=\"color: #00d7ff; text-decoration-color: #00d7ff\">None</span>, <span style=\"color: #00af00; text-decoration-color: #00af00\">100</span>, <span style=\"color: #00af00; text-decoration-color: #00af00\">2003</span>)           │       <span style=\"color: #00af00; text-decoration-color: #00af00\">4,012,009</span> │\n",
              "├──────────────────────────────────────┼─────────────────────────────┼─────────────────┤\n",
              "│ bidirectional_2 (<span style=\"color: #0087ff; text-decoration-color: #0087ff\">Bidirectional</span>)      │ (<span style=\"color: #00d7ff; text-decoration-color: #00d7ff\">None</span>, <span style=\"color: #00af00; text-decoration-color: #00af00\">100</span>, <span style=\"color: #00af00; text-decoration-color: #00af00\">64</span>)             │         <span style=\"color: #00af00; text-decoration-color: #00af00\">521,216</span> │\n",
              "├──────────────────────────────────────┼─────────────────────────────┼─────────────────┤\n",
              "│ dropout_4 (<span style=\"color: #0087ff; text-decoration-color: #0087ff\">Dropout</span>)                  │ (<span style=\"color: #00d7ff; text-decoration-color: #00d7ff\">None</span>, <span style=\"color: #00af00; text-decoration-color: #00af00\">100</span>, <span style=\"color: #00af00; text-decoration-color: #00af00\">64</span>)             │               <span style=\"color: #00af00; text-decoration-color: #00af00\">0</span> │\n",
              "├──────────────────────────────────────┼─────────────────────────────┼─────────────────┤\n",
              "│ bidirectional_3 (<span style=\"color: #0087ff; text-decoration-color: #0087ff\">Bidirectional</span>)      │ (<span style=\"color: #00d7ff; text-decoration-color: #00d7ff\">None</span>, <span style=\"color: #00af00; text-decoration-color: #00af00\">64</span>)                  │          <span style=\"color: #00af00; text-decoration-color: #00af00\">24,832</span> │\n",
              "├──────────────────────────────────────┼─────────────────────────────┼─────────────────┤\n",
              "│ dropout_5 (<span style=\"color: #0087ff; text-decoration-color: #0087ff\">Dropout</span>)                  │ (<span style=\"color: #00d7ff; text-decoration-color: #00d7ff\">None</span>, <span style=\"color: #00af00; text-decoration-color: #00af00\">64</span>)                  │               <span style=\"color: #00af00; text-decoration-color: #00af00\">0</span> │\n",
              "├──────────────────────────────────────┼─────────────────────────────┼─────────────────┤\n",
              "│ dense_7 (<span style=\"color: #0087ff; text-decoration-color: #0087ff\">Dense</span>)                      │ (<span style=\"color: #00d7ff; text-decoration-color: #00d7ff\">None</span>, <span style=\"color: #00af00; text-decoration-color: #00af00\">1</span>)                   │              <span style=\"color: #00af00; text-decoration-color: #00af00\">65</span> │\n",
              "└──────────────────────────────────────┴─────────────────────────────┴─────────────────┘\n",
              "</pre>\n"
            ],
            "text/plain": [
              "┏━━━━━━━━━━━━━━━━━━━━━━━━━━━━━━━━━━━━━━┳━━━━━━━━━━━━━━━━━━━━━━━━━━━━━┳━━━━━━━━━━━━━━━━━┓\n",
              "┃\u001b[1m \u001b[0m\u001b[1mLayer (type)                        \u001b[0m\u001b[1m \u001b[0m┃\u001b[1m \u001b[0m\u001b[1mOutput Shape               \u001b[0m\u001b[1m \u001b[0m┃\u001b[1m \u001b[0m\u001b[1m        Param #\u001b[0m\u001b[1m \u001b[0m┃\n",
              "┡━━━━━━━━━━━━━━━━━━━━━━━━━━━━━━━━━━━━━━╇━━━━━━━━━━━━━━━━━━━━━━━━━━━━━╇━━━━━━━━━━━━━━━━━┩\n",
              "│ embedding_6 (\u001b[38;5;33mEmbedding\u001b[0m)              │ (\u001b[38;5;45mNone\u001b[0m, \u001b[38;5;34m100\u001b[0m, \u001b[38;5;34m2003\u001b[0m)           │       \u001b[38;5;34m4,012,009\u001b[0m │\n",
              "├──────────────────────────────────────┼─────────────────────────────┼─────────────────┤\n",
              "│ bidirectional_2 (\u001b[38;5;33mBidirectional\u001b[0m)      │ (\u001b[38;5;45mNone\u001b[0m, \u001b[38;5;34m100\u001b[0m, \u001b[38;5;34m64\u001b[0m)             │         \u001b[38;5;34m521,216\u001b[0m │\n",
              "├──────────────────────────────────────┼─────────────────────────────┼─────────────────┤\n",
              "│ dropout_4 (\u001b[38;5;33mDropout\u001b[0m)                  │ (\u001b[38;5;45mNone\u001b[0m, \u001b[38;5;34m100\u001b[0m, \u001b[38;5;34m64\u001b[0m)             │               \u001b[38;5;34m0\u001b[0m │\n",
              "├──────────────────────────────────────┼─────────────────────────────┼─────────────────┤\n",
              "│ bidirectional_3 (\u001b[38;5;33mBidirectional\u001b[0m)      │ (\u001b[38;5;45mNone\u001b[0m, \u001b[38;5;34m64\u001b[0m)                  │          \u001b[38;5;34m24,832\u001b[0m │\n",
              "├──────────────────────────────────────┼─────────────────────────────┼─────────────────┤\n",
              "│ dropout_5 (\u001b[38;5;33mDropout\u001b[0m)                  │ (\u001b[38;5;45mNone\u001b[0m, \u001b[38;5;34m64\u001b[0m)                  │               \u001b[38;5;34m0\u001b[0m │\n",
              "├──────────────────────────────────────┼─────────────────────────────┼─────────────────┤\n",
              "│ dense_7 (\u001b[38;5;33mDense\u001b[0m)                      │ (\u001b[38;5;45mNone\u001b[0m, \u001b[38;5;34m1\u001b[0m)                   │              \u001b[38;5;34m65\u001b[0m │\n",
              "└──────────────────────────────────────┴─────────────────────────────┴─────────────────┘\n"
            ]
          },
          "metadata": {},
          "output_type": "display_data"
        },
        {
          "data": {
            "text/html": [
              "<pre style=\"white-space:pre;overflow-x:auto;line-height:normal;font-family:Menlo,'DejaVu Sans Mono',consolas,'Courier New',monospace\"><span style=\"font-weight: bold\"> Total params: </span><span style=\"color: #00af00; text-decoration-color: #00af00\">4,558,122</span> (17.39 MB)\n",
              "</pre>\n"
            ],
            "text/plain": [
              "\u001b[1m Total params: \u001b[0m\u001b[38;5;34m4,558,122\u001b[0m (17.39 MB)\n"
            ]
          },
          "metadata": {},
          "output_type": "display_data"
        },
        {
          "data": {
            "text/html": [
              "<pre style=\"white-space:pre;overflow-x:auto;line-height:normal;font-family:Menlo,'DejaVu Sans Mono',consolas,'Courier New',monospace\"><span style=\"font-weight: bold\"> Trainable params: </span><span style=\"color: #00af00; text-decoration-color: #00af00\">546,113</span> (2.08 MB)\n",
              "</pre>\n"
            ],
            "text/plain": [
              "\u001b[1m Trainable params: \u001b[0m\u001b[38;5;34m546,113\u001b[0m (2.08 MB)\n"
            ]
          },
          "metadata": {},
          "output_type": "display_data"
        },
        {
          "data": {
            "text/html": [
              "<pre style=\"white-space:pre;overflow-x:auto;line-height:normal;font-family:Menlo,'DejaVu Sans Mono',consolas,'Courier New',monospace\"><span style=\"font-weight: bold\"> Non-trainable params: </span><span style=\"color: #00af00; text-decoration-color: #00af00\">4,012,009</span> (15.30 MB)\n",
              "</pre>\n"
            ],
            "text/plain": [
              "\u001b[1m Non-trainable params: \u001b[0m\u001b[38;5;34m4,012,009\u001b[0m (15.30 MB)\n"
            ]
          },
          "metadata": {},
          "output_type": "display_data"
        }
      ],
      "source": [
        "model = Sequential(\n",
        "    [\n",
        "        Input(shape=(max_len,), name='input'),\n",
        "        ## one-hot encoding\n",
        "        Embedding(input_dim=num_words,\n",
        "                  output_dim=num_words,\n",
        "                  embeddings_initializer='identity',\n",
        "                  trainable=False),\n",
        "        ## recurrent layers\n",
        "        Bidirectional(LSTM(32, return_sequences=True)),\n",
        "        Dropout(0.3),\n",
        "        Bidirectional(LSTM(32, return_sequences=False)),\n",
        "        Dropout(0.1),\n",
        "        Dense(1, activation='sigmoid')\n",
        "    ]\n",
        ")\n",
        "\n",
        "model.summary()"
      ]
    },
    {
      "cell_type": "code",
      "execution_count": 52,
      "metadata": {
        "colab": {
          "base_uri": "https://localhost:8080/"
        },
        "id": "Q6h_9V5fBpBO",
        "outputId": "3b826e72-4d5f-4bbe-d7dd-fddc1e04378c"
      },
      "outputs": [
        {
          "name": "stdout",
          "output_type": "stream",
          "text": [
            "Epoch 1/50\n",
            "\u001b[1m167/167\u001b[0m \u001b[32m━━━━━━━━━━━━━━━━━━━━\u001b[0m\u001b[37m\u001b[0m \u001b[1m11s\u001b[0m 47ms/step - accuracy: 0.4918 - loss: 0.6933 - val_accuracy: 0.5360 - val_loss: 0.6926\n",
            "Epoch 2/50\n",
            "\u001b[1m167/167\u001b[0m \u001b[32m━━━━━━━━━━━━━━━━━━━━\u001b[0m\u001b[37m\u001b[0m \u001b[1m9s\u001b[0m 42ms/step - accuracy: 0.5477 - loss: 0.6925 - val_accuracy: 0.5677 - val_loss: 0.6918\n",
            "Epoch 3/50\n",
            "\u001b[1m167/167\u001b[0m \u001b[32m━━━━━━━━━━━━━━━━━━━━\u001b[0m\u001b[37m\u001b[0m \u001b[1m8s\u001b[0m 46ms/step - accuracy: 0.5770 - loss: 0.6915 - val_accuracy: 0.5968 - val_loss: 0.6902\n",
            "Epoch 4/50\n",
            "\u001b[1m167/167\u001b[0m \u001b[32m━━━━━━━━━━━━━━━━━━━━\u001b[0m\u001b[37m\u001b[0m \u001b[1m11s\u001b[0m 51ms/step - accuracy: 0.6113 - loss: 0.6890 - val_accuracy: 0.6187 - val_loss: 0.6830\n",
            "Epoch 5/50\n",
            "\u001b[1m167/167\u001b[0m \u001b[32m━━━━━━━━━━━━━━━━━━━━\u001b[0m\u001b[37m\u001b[0m \u001b[1m9s\u001b[0m 55ms/step - accuracy: 0.6459 - loss: 0.6651 - val_accuracy: 0.7203 - val_loss: 0.5635\n",
            "Epoch 6/50\n",
            "\u001b[1m167/167\u001b[0m \u001b[32m━━━━━━━━━━━━━━━━━━━━\u001b[0m\u001b[37m\u001b[0m \u001b[1m9s\u001b[0m 49ms/step - accuracy: 0.7474 - loss: 0.5342 - val_accuracy: 0.7725 - val_loss: 0.4922\n",
            "Epoch 7/50\n",
            "\u001b[1m167/167\u001b[0m \u001b[32m━━━━━━━━━━━━━━━━━━━━\u001b[0m\u001b[37m\u001b[0m \u001b[1m9s\u001b[0m 44ms/step - accuracy: 0.7868 - loss: 0.4652 - val_accuracy: 0.7869 - val_loss: 0.4653\n",
            "Epoch 8/50\n",
            "\u001b[1m167/167\u001b[0m \u001b[32m━━━━━━━━━━━━━━━━━━━━\u001b[0m\u001b[37m\u001b[0m \u001b[1m11s\u001b[0m 48ms/step - accuracy: 0.8056 - loss: 0.4336 - val_accuracy: 0.7912 - val_loss: 0.4546\n",
            "Epoch 9/50\n",
            "\u001b[1m167/167\u001b[0m \u001b[32m━━━━━━━━━━━━━━━━━━━━\u001b[0m\u001b[37m\u001b[0m \u001b[1m7s\u001b[0m 42ms/step - accuracy: 0.8149 - loss: 0.4134 - val_accuracy: 0.7941 - val_loss: 0.4472\n",
            "Epoch 10/50\n",
            "\u001b[1m167/167\u001b[0m \u001b[32m━━━━━━━━━━━━━━━━━━━━\u001b[0m\u001b[37m\u001b[0m \u001b[1m10s\u001b[0m 42ms/step - accuracy: 0.8218 - loss: 0.3990 - val_accuracy: 0.7965 - val_loss: 0.4424\n",
            "Epoch 11/50\n",
            "\u001b[1m167/167\u001b[0m \u001b[32m━━━━━━━━━━━━━━━━━━━━\u001b[0m\u001b[37m\u001b[0m \u001b[1m10s\u001b[0m 44ms/step - accuracy: 0.8265 - loss: 0.3868 - val_accuracy: 0.8008 - val_loss: 0.4392\n",
            "Epoch 12/50\n",
            "\u001b[1m167/167\u001b[0m \u001b[32m━━━━━━━━━━━━━━━━━━━━\u001b[0m\u001b[37m\u001b[0m \u001b[1m7s\u001b[0m 43ms/step - accuracy: 0.8326 - loss: 0.3754 - val_accuracy: 0.8056 - val_loss: 0.4374\n",
            "Epoch 13/50\n",
            "\u001b[1m167/167\u001b[0m \u001b[32m━━━━━━━━━━━━━━━━━━━━\u001b[0m\u001b[37m\u001b[0m \u001b[1m7s\u001b[0m 42ms/step - accuracy: 0.8366 - loss: 0.3668 - val_accuracy: 0.8059 - val_loss: 0.4374\n",
            "Epoch 14/50\n",
            "\u001b[1m167/167\u001b[0m \u001b[32m━━━━━━━━━━━━━━━━━━━━\u001b[0m\u001b[37m\u001b[0m \u001b[1m8s\u001b[0m 49ms/step - accuracy: 0.8384 - loss: 0.3592 - val_accuracy: 0.8040 - val_loss: 0.4408\n",
            "Epoch 15/50\n",
            "\u001b[1m167/167\u001b[0m \u001b[32m━━━━━━━━━━━━━━━━━━━━\u001b[0m\u001b[37m\u001b[0m \u001b[1m10s\u001b[0m 49ms/step - accuracy: 0.8415 - loss: 0.3534 - val_accuracy: 0.8067 - val_loss: 0.4431\n",
            "Epoch 16/50\n",
            "\u001b[1m167/167\u001b[0m \u001b[32m━━━━━━━━━━━━━━━━━━━━\u001b[0m\u001b[37m\u001b[0m \u001b[1m7s\u001b[0m 45ms/step - accuracy: 0.8448 - loss: 0.3470 - val_accuracy: 0.8067 - val_loss: 0.4442\n",
            "Epoch 17/50\n",
            "\u001b[1m167/167\u001b[0m \u001b[32m━━━━━━━━━━━━━━━━━━━━\u001b[0m\u001b[37m\u001b[0m \u001b[1m7s\u001b[0m 43ms/step - accuracy: 0.8500 - loss: 0.3414 - val_accuracy: 0.8069 - val_loss: 0.4481\n",
            "Epoch 17: early stopping\n"
          ]
        }
      ],
      "source": [
        "## set the loss and see the results\n",
        "model.compile(\n",
        "    optimizer=Adam(learning_rate=3e-5),\n",
        "    loss='binary_crossentropy',\n",
        "    metrics=['accuracy']\n",
        ")\n",
        "\n",
        "early_stopping = EarlyStopping(\n",
        "    monitor='val_loss',\n",
        "    patience=5,\n",
        "    verbose=1)\n",
        "\n",
        "epochs = 50\n",
        "history = model.fit(x_train_seq, train_labels,\n",
        "                    validation_split=0.15, epochs=epochs,\n",
        "                    batch_size=128, callbacks=[early_stopping])"
      ]
    },
    {
      "cell_type": "code",
      "execution_count": 53,
      "metadata": {
        "colab": {
          "base_uri": "https://localhost:8080/"
        },
        "id": "yge6tIcqBpBO",
        "outputId": "ae4002ac-bab4-422a-a6b4-b227f848df53"
      },
      "outputs": [
        {
          "name": "stdout",
          "output_type": "stream",
          "text": [
            "\u001b[1m782/782\u001b[0m \u001b[32m━━━━━━━━━━━━━━━━━━━━\u001b[0m\u001b[37m\u001b[0m \u001b[1m8s\u001b[0m 10ms/step - accuracy: 0.8022 - loss: 0.4462\n",
            "Test Loss: 0.45212504267692566\n",
            "Test Accuracy: 0.7975999712944031\n"
          ]
        }
      ],
      "source": [
        "results = model.evaluate(x_test_seq, test_labels, verbose=1)\n",
        "print('Test Loss: {}'.format(results[0]))\n",
        "print('Test Accuracy: {}'.format(results[1]))"
      ]
    },
    {
      "cell_type": "markdown",
      "metadata": {
        "id": "tiMT5iyaBpBO"
      },
      "source": [
        "#### Making predictioins with new data"
      ]
    },
    {
      "cell_type": "code",
      "execution_count": 54,
      "metadata": {
        "colab": {
          "base_uri": "https://localhost:8080/"
        },
        "id": "_BKO5oIHBpBO",
        "outputId": "c64b7a2d-feb1-443f-c634-dc2833557bc7"
      },
      "outputs": [
        {
          "name": "stdout",
          "output_type": "stream",
          "text": [
            "\u001b[1m1/1\u001b[0m \u001b[32m━━━━━━━━━━━━━━━━━━━━\u001b[0m\u001b[37m\u001b[0m \u001b[1m1s\u001b[0m 563ms/step\n"
          ]
        },
        {
          "data": {
            "text/plain": [
              "array([[0.2603],\n",
              "       [0.9443],\n",
              "       [0.8488],\n",
              "       [0.7283],\n",
              "       [0.347 ],\n",
              "       [0.3416]], dtype=float32)"
            ]
          },
          "execution_count": 54,
          "metadata": {},
          "output_type": "execute_result"
        }
      ],
      "source": [
        "reviews = ['the film was really bad and i am very disappointed',\n",
        "           'The film was very funny entertaining and good we had a great time . brilliant film',\n",
        "           'this film was just brilliant',\n",
        "           'the film is not good',\n",
        "           'the film is not bad',\n",
        "          'the movie is not bad I like it']\n",
        "sequences = [vectorize_text_sentence(review.lower(), word2int)\n",
        "             for review in reviews]\n",
        "\n",
        "## Padding the sequences\n",
        "x_pred  = tf.keras.preprocessing.sequence.pad_sequences(sequences, maxlen=max_len, truncating='post', padding='post')# ...\n",
        "\n",
        "np.round(model.predict(x_pred), 4)"
      ]
    },
    {
      "cell_type": "code",
      "execution_count": 55,
      "metadata": {
        "colab": {
          "base_uri": "https://localhost:8080/"
        },
        "id": "3_COwgOpBpBO",
        "outputId": "8af2308e-911e-4086-d078-620c4032f52c"
      },
      "outputs": [
        {
          "name": "stdout",
          "output_type": "stream",
          "text": [
            "\u001b[1m782/782\u001b[0m \u001b[32m━━━━━━━━━━━━━━━━━━━━\u001b[0m\u001b[37m\u001b[0m \u001b[1m8s\u001b[0m 9ms/step\n",
            "Predicted : 1, real : 0, lenght: 51\n",
            "<START> this movie shows me that americans have no knowledge about the situation in the sad <UNK> brother war please if you want to see <UNK> movies with this theme watch <UNK> and you will see that nobody is bad and nobody is good in this land of tears and <UNK>\n",
            "\n",
            "Predicted : 0, real : 1, lenght: 304\n",
            "<START> the house of <UNK> really has nothing new to offer in the way of <UNK> or <UNK> or new twists on an already tired storyline this film was made as a <UNK> sequel to the fairly better made house of <UNK> from a year earlier in house of <UNK> you can see the <UNK> like production values of <UNK> taking their <UNK> on an otherwise <UNK> scary movie <UNK> footage from previous films in the series and then the ending from ghost of <UNK> used as the ending here just makes for an <UNK> flick <UNK> lies the shame of the studio and the producer considering that they had top <UNK> talent and merely wasted <UNK> time and effort on a quick money return <UNK> but that seems to have been the <UNK> all throughout hollywood at the end of <UNK> this is what brought on some of those <UNK> <UNK> <UNK> of the <UNK> with all their <UNK> of <UNK> <UNK> in order to make them appear as <UNK> the days of james <UNK> and <UNK> <UNK> to mention two were over as far as creating real mood and atmosphere in this genre keep in mind also that the <UNK> genius jack <UNK> who actually did <UNK> <UNK> in order to create all of our <UNK> was <UNK> <UNK> right after this particular film was released a <UNK> <UNK> <UNK> man by the name of <UNK> <UNK> was then <UNK> as the head of this <UNK> at <UNK> soon to be <UNK> international not to <UNK> mr ability but horror films were just not his <UNK> ok to watch or not to watch watch this film but only as part of the <UNK> order of the <UNK> series and you'll see how this all ended up as comic <UNK> for <UNK> <UNK>\n",
            "\n",
            "Predicted : 1, real : 0, lenght: 239\n",
            "<START> <UNK> about fans are always <UNK> and never worth seeing through but i found this one made by some of the fans themselves more than usually <UNK> as a <UNK> of the original <UNK> <UNK> <UNK> years ago i'd <UNK> for more than the obvious which doesn't always <UNK> to the true if there's anyone living who doesn't already know the nature of a <UNK> any <UNK> from having been or known a fan he won't discover it here between <UNK> to which the actors from the films are particularly <UNK> and acting out by fans making the most if not the best of their one shot at <UNK> i could <UNK> little of the special appeal of <UNK> the special emotional <UNK> it <UNK> and the <UNK> of the special creative <UNK> those <UNK> can take in addition the film is rather <UNK> it some <UNK> that could have been got across with little effort e g what the <UNK> <UNK> <UNK> was the <UNK> of a <UNK> notice that <UNK> the <UNK> <UNK> <UNK> in the u s speaking of which i take strong exception to the film's <UNK> of the <UNK> on that <UNK> as <UNK> and <UNK> which they were not they were the work of jack a very able <UNK> <UNK> of the period and some fans including me found them more <UNK> and more attractive than the <UNK> on the <UNK> set\n",
            "\n",
            "Predicted : 0, real : 1, lenght: 378\n",
            "<START> in <UNK> <UNK> <UNK> introduced the two <UNK> in the grand day out in <UNK> they <UNK> an evil <UNK> in the wrong <UNK> and in <UNK> they had to <UNK> <UNK> from an evil <UNK> dog in a close <UNK> in <UNK> they're back and they are going to fight something that used to be cute and in the <UNK> of the were <UNK> in this full feature film <UNK> and <UNK> work in a <UNK> control business there's going to be a giant <UNK> <UNK> but <UNK> keep eating the <UNK> <UNK> and <UNK> takes care with that problem but <UNK> had an idea he will <UNK> the <UNK> with his machine after doing that something suddenly <UNK> all of the in the <UNK> and it's big it's up to <UNK> and <UNK> to save the day as a fan of these two characters i was impressed it kept what the 3 previous <UNK> had and instead <UNK> a lot of hollywood actors for voice <UNK> they put a no name cast to the job and boy they did a fantastic job <UNK> and <UNK> has not changed <UNK> is still the <UNK> loving <UNK> like he always was and <UNK> is the silent <UNK> reading dog also the script was not too <UNK> like other family movies were there is a twist of who the were <UNK> really is the direction from nick park the director of the 3 previous <UNK> does a really good job with the storyline instead of <UNK> the hollywood <UNK> in it he just took the style of the previous <UNK> and adds a bit of a dark fantasy twist in it well done nick the <UNK> are also funny and <UNK> but the funniest <UNK> in the movie is one who has the mix of <UNK> in him the characters were not bad and they weren't annoying but <UNK> never top <UNK> and <UNK> the animation is indeed fantastic and wonderful i've never seen a <UNK> animated movie that is so amazing since <UNK> run overall fans of the two <UNK> including the <UNK> will love this fantastic film it is a well done film that should get an oscar next year <UNK> <UNK> and <UNK> 10 10\n",
            "\n",
            "Predicted : 1, real : 0, lenght: 472\n",
            "<START> i am almost a two <UNK> old human who's been reading <UNK> most of my life i'm not a huge fan of the fantastic four but i'm fairly familiar with them in <UNK> <UNK> <UNK> b movie legend produced the first i think feature length fantastic four film the result was such pure <UNK> that it was never given a release still <UNK> exist mostly on the <UNK> and at <UNK> if you're looking for a laugh and can find a copy do yourself a <UNK> and check this thing out br br the film basically <UNK> the <UNK> and an <UNK> with doctor <UNK> and a villain named the <UNK> the <UNK> man with a <UNK> for <UNK> <UNK> as is the case with these comic book movies everything has to <UNK> into everything so the <UNK> play a <UNK> role in dr <UNK> <UNK> and he and the play a <UNK> role in <UNK> br br first i'd just like to mention that despite everything that went bad in this movie i actually sort of liked the guy that played <UNK> he doesn't get many decent lines but when he does he hits them the <UNK> looks pretty good too br br as for the rest it's a dirty dirty mess bad plots bad acting bad effects bad everything basically <UNK> especially to <UNK> <UNK> <UNK> new meaning to the word <UNK> as johnny <UNK> he's not <UNK> he's br br as for the <UNK> well they all sort of look right and <UNK> played by a very attractive actress but they just don't seem like a real team for one thing they have no reason for <UNK> and johnny to go into space in an early <UNK> ben and <UNK> go to visit the two <UNK> like 8 and <UNK> about 12 it only stands to make their <UNK> romantic <UNK> a <UNK> lot <UNK> the thing <UNK> looks more <UNK> than anything else not very <UNK> and the only time the human <UNK> is really a human <UNK> he looks like the <UNK> <UNK> <UNK> red br br i could type for hours but i think the scene that best <UNK> it up is a <UNK> <UNK> featuring the <UNK> not so human <UNK> he's <UNK> a <UNK> <UNK> and he eventually <UNK> it with a <UNK> yes a <UNK> a <UNK> <UNK> with a <UNK> then he <UNK> around and goes a whole lot <UNK> the camera <UNK> down and he <UNK> back toward earth <UNK> <UNK> the <UNK> <UNK> to <UNK> johnny that fire doesn't exist in the <UNK> of space this and many other scenes <UNK> like <UNK> if the character doesn't know they are over a <UNK> they don't fall br br i laughed i <UNK> i was glad it was never released\n",
            "\n",
            "Predicted : 0, real : 1, lenght: 145\n",
            "<START> <UNK> <UNK> the <UNK> part ii <UNK> <UNK> this is the single greatest piece of <UNK> ever created and <UNK> upon humanity <UNK> ray <UNK> in a role that <UNK> academy <UNK> stars as <UNK> the <UNK> cat in the <UNK> he clearly does not take any <UNK> from no <UNK> i myself am unfortunately a <UNK> and proves it with his powers of <UNK> <UNK> and <UNK> <UNK> this is <UNK> at its absolute finest a <UNK> example of the genre with its low budget <UNK> <UNK> and <UNK> for <UNK> <UNK> eating <UNK> <UNK> the true <UNK> of <UNK> not this new <UNK> nonsense <UNK> is something of a <UNK> of acting <UNK> somehow <UNK> to be the most <UNK> awful actor of the <UNK> and thats saying something this one is highly recommended folks if not for the one <UNK> alone\n",
            "\n",
            "Predicted : 0, real : 1, lenght: 163\n",
            "<START> i really like this show it has drama romance and comedy all <UNK> into one i am <UNK> and i am a married mother so i can <UNK> both with and <UNK> in the show i have been watching mostly the <UNK> on the family channel <UNK> so i am not up to date on what is going on now i think <UNK> would like this show more than <UNK> but i know some men out there would enjoy it i really like that is an hour long and not a half hour as <UNK> hour seems to <UNK> by when i am watching it give it a chance if you have never seen the show i think and <UNK> are my favorite characters on the show though mainly because of the way they are with one another how could you not see something was there or take that long to see it i guess i should say br br happy viewing\n",
            "\n",
            "Predicted : 1, real : 0, lenght: 169\n",
            "<START> <UNK> single mom in <UNK> <UNK> town finds an <UNK> love <UNK> and <UNK> it to <UNK> into action her <UNK> love life <UNK> project for actress co producer kate <UNK> who gives a <UNK> nicely <UNK> lead performance yet this story is so <UNK> and the direction and editing so <UNK> that a <UNK> <UNK> <UNK> in <UNK> <UNK> <UNK> <UNK> several of her friends reading the love <UNK> to her an interesting visual joke but the first person they do this <UNK> with is <UNK> <UNK> who doesn't play a <UNK> but who comes off as one because of this <UNK> different ideas are <UNK> about in the hopes that one would stick and the <UNK> is extremely <UNK> supporting cast including tom <UNK> and tom <UNK> scott who mostly acts with his <UNK> off is very good but they can't save the final act which is disappointing low <UNK> in a <UNK> <UNK> way but it is <UNK> good <UNK> nothing more 1 2 from\n",
            "\n",
            "Predicted : 0, real : 1, lenght: 408\n",
            "<START> i finally managed to get myself a copy of <UNK> <UNK> opera and i tell you that was about time it was the last <UNK> movie i had yet to see and i'm a fan of most of his work i <UNK> that most of his work is extremely important for the genre of horror but some of his movies <UNK> to <UNK> like <UNK> but the plot idea of opera always <UNK> to me and it turns out i was right i enjoyed every shot in opera and i was <UNK> by this movie for the first minute <UNK> the last out of all the <UNK> movies opera went straight to the number one spot and i hope i can <UNK> as many people as possible to see this one as well br br the script and plot idea of opera is rather simple especially compared to <UNK> previous movie <UNK> that had too many ideas in it and ended up being a mess the plot of opera is creepy and <UNK> but at the same time it's an excellent <UNK> comment almost a <UNK> towards the <UNK> of <UNK> violence spoilers a young opera singer the gorgeous <UNK> is being <UNK> by a <UNK> <UNK> <UNK> during every <UNK> he <UNK> he forces <UNK> to watch his actions with her eyes wide open there are <UNK> <UNK> to her <UNK> and when she <UNK> them they're getting <UNK> apart end spoilers to this simple yet effective idea <UNK> adds a lot of <UNK> elements like <UNK> the classic piece and <UNK> of <UNK> and the whole <UNK> location of the opera building and the music especially the presence of the creepy <UNK> are and extra value <UNK> <UNK> like <UNK> allen <UNK> already knew these black <UNK> have a lot of mystery <UNK> around them and <UNK> <UNK> knows it as well br br the violence and gore is very well presented in opera and that's what makes this a true <UNK> picture his best in my opinion with <UNK> <UNK> as a close second i surely hope to recommend this movie to a lot of people among you especially for fans of the italian horror business this is an absolute must favorite <UNK> scene <UNK> shows his visual talent the best in the scene where <UNK> friend is getting shot in the eye while she's trying to see who's in front of the door\n",
            "\n",
            "Predicted : 0, real : 1, lenght: 415\n",
            "<START> my <UNK> and i spent the <UNK> of a <UNK> <UNK> watching a <UNK> of bad movies among the flicks we watched the <UNK> <UNK> for quality bad movie <UNK> was easily jack o it's <UNK> that movies such as <UNK> <UNK> and you got <UNK> are <UNK> in <UNK> bottom 100 while they're certainly bad movies they don't <UNK> in the bottom 100 they're <UNK> jack o and <UNK> of time etc of the bad movie <UNK> they so <UNK> deserve br br so what makes jack o so great in bad movie terms for <UNK> steve the director decided to cast his son <UNK> in the role of <UNK> kelly unfortunately for steve <UNK> was <UNK> close to being out acted by a <UNK> of <UNK> the kid seriously has no ability to <UNK> whatsoever the end result <UNK> comic gold the kid could be <UNK> to a joke or just moments away from getting his head <UNK> <UNK> and his <UNK> is one of <UNK> br br the other aspect of the movie that we found awesome was the <UNK> number of double <UNK> sequences what is a double dream well it's when a character <UNK> up from a nightmare and then something equally <UNK> happens and then the character <UNK> up again basically they <UNK> up after <UNK> about <UNK> up from a nightmare clever <UNK> no i believe the character of <UNK> kelly <UNK> no less than 3 double <UNK> sequences br br let's see what else oh yeah this movie has a <UNK> cast of <UNK> it's truly stunning to see how many speaking roles are introduced throughout the course of the movie best of all almost none of the characters have anything to do with the story they're either killed by jack o or they <UNK> no purpose whatsoever br br jack o himself was pretty sweet like most other b movie monsters jack o has the amazing ability to seemingly <UNK> over great <UNK> he's <UNK> <UNK> out somewhere in the background whenever you're dealing with a major character what's <UNK> however is that when he's actually <UNK> someone he moves at a <UNK> <UNK> <UNK> and yet he's able to keep up with people who are <UNK> br br that's all for now <UNK> <UNK> if you're looking for a <UNK> hilarious bad movie you can't go wrong by <UNK> this <UNK> br br bad movie score 7 10 good movie score 3 5 10\n",
            "\n"
          ]
        }
      ],
      "source": [
        "show_errors(x_test_seq, model, test_labels, int2word, n_samples=10)"
      ]
    },
    {
      "cell_type": "markdown",
      "metadata": {
        "id": "Kkve-5AaBpBO"
      },
      "source": [
        "###  Use a convolutional network instead of a RNN\n",
        "\n",
        "```python\n",
        "Conv1D(filters, kernel_size)\n",
        "```\n",
        "\n",
        "```python\n",
        "MaxPool1D(pool_size=2)\n",
        "```\n",
        "\n",
        "```python\n",
        "Flatten()\n",
        "```"
      ]
    },
    {
      "cell_type": "code",
      "execution_count": 56,
      "metadata": {
        "id": "AV_lyjMHBpBP"
      },
      "outputs": [],
      "source": [
        "num_words = 2000\n",
        "((train_data, train_labels), (test_data, test_labels)\n",
        " ) = imdb.load_data(num_words=num_words)\n",
        "\n",
        "#  limit the data for class time\n",
        "# Transform word_id to word and reverse\n",
        "word2int = imdb.get_word_index()\n",
        "word2int = {w: i+3 for w, i in word2int.items()}\n",
        "word2int[\"<PAD>\"] = 0\n",
        "word2int[\"<START>\"] = 1\n",
        "word2int[\"<UNK>\"] = 2\n",
        "word2int[\"<UNUSED>\"] = 3\n",
        "int2word = {i: w for w, i in word2int.items()}\n",
        "num_words = num_words+3\n"
      ]
    },
    {
      "cell_type": "code",
      "execution_count": 57,
      "metadata": {
        "colab": {
          "base_uri": "https://localhost:8080/"
        },
        "id": "LeJSL1WmBpBP",
        "outputId": "303d9991-2b13-4d0e-a019-405c408745c6"
      },
      "outputs": [
        {
          "name": "stdout",
          "output_type": "stream",
          "text": [
            "train shape: (25000, 100)\n",
            "test shape: (25000, 100)\n"
          ]
        }
      ],
      "source": [
        "max_len = 100\n",
        "x_train_seq = tf.keras.preprocessing.sequence.pad_sequences(train_data, maxlen=max_len, truncating='post', padding='post')\n",
        "x_test_seq = tf.keras.preprocessing.sequence.pad_sequences(test_data, maxlen=max_len, truncating='post', padding='post')\n",
        "\n",
        "print('train shape:', x_train_seq.shape)\n",
        "print('test shape:', x_test_seq.shape)"
      ]
    },
    {
      "cell_type": "code",
      "execution_count": 58,
      "metadata": {
        "colab": {
          "base_uri": "https://localhost:8080/",
          "height": 449
        },
        "id": "wQ3TDPJz1q_Y",
        "outputId": "08e59ae8-eb59-40d3-cf7f-7dd96fd7d0be"
      },
      "outputs": [
        {
          "data": {
            "text/html": [
              "<pre style=\"white-space:pre;overflow-x:auto;line-height:normal;font-family:Menlo,'DejaVu Sans Mono',consolas,'Courier New',monospace\"><span style=\"font-weight: bold\">Model: \"sequential_7\"</span>\n",
              "</pre>\n"
            ],
            "text/plain": [
              "\u001b[1mModel: \"sequential_7\"\u001b[0m\n"
            ]
          },
          "metadata": {},
          "output_type": "display_data"
        },
        {
          "data": {
            "text/html": [
              "<pre style=\"white-space:pre;overflow-x:auto;line-height:normal;font-family:Menlo,'DejaVu Sans Mono',consolas,'Courier New',monospace\">┏━━━━━━━━━━━━━━━━━━━━━━━━━━━━━━━━━━━━━━┳━━━━━━━━━━━━━━━━━━━━━━━━━━━━━┳━━━━━━━━━━━━━━━━━┓\n",
              "┃<span style=\"font-weight: bold\"> Layer (type)                         </span>┃<span style=\"font-weight: bold\"> Output Shape                </span>┃<span style=\"font-weight: bold\">         Param # </span>┃\n",
              "┡━━━━━━━━━━━━━━━━━━━━━━━━━━━━━━━━━━━━━━╇━━━━━━━━━━━━━━━━━━━━━━━━━━━━━╇━━━━━━━━━━━━━━━━━┩\n",
              "│ embedding_7 (<span style=\"color: #0087ff; text-decoration-color: #0087ff\">Embedding</span>)              │ (<span style=\"color: #00d7ff; text-decoration-color: #00d7ff\">None</span>, <span style=\"color: #00af00; text-decoration-color: #00af00\">100</span>, <span style=\"color: #00af00; text-decoration-color: #00af00\">2003</span>)           │       <span style=\"color: #00af00; text-decoration-color: #00af00\">4,012,009</span> │\n",
              "├──────────────────────────────────────┼─────────────────────────────┼─────────────────┤\n",
              "│ conv1d (<span style=\"color: #0087ff; text-decoration-color: #0087ff\">Conv1D</span>)                      │ (<span style=\"color: #00d7ff; text-decoration-color: #00d7ff\">None</span>, <span style=\"color: #00af00; text-decoration-color: #00af00\">98</span>, <span style=\"color: #00af00; text-decoration-color: #00af00\">32</span>)              │         <span style=\"color: #00af00; text-decoration-color: #00af00\">192,320</span> │\n",
              "├──────────────────────────────────────┼─────────────────────────────┼─────────────────┤\n",
              "│ max_pooling1d (<span style=\"color: #0087ff; text-decoration-color: #0087ff\">MaxPooling1D</span>)         │ (<span style=\"color: #00d7ff; text-decoration-color: #00d7ff\">None</span>, <span style=\"color: #00af00; text-decoration-color: #00af00\">49</span>, <span style=\"color: #00af00; text-decoration-color: #00af00\">32</span>)              │               <span style=\"color: #00af00; text-decoration-color: #00af00\">0</span> │\n",
              "├──────────────────────────────────────┼─────────────────────────────┼─────────────────┤\n",
              "│ dropout_6 (<span style=\"color: #0087ff; text-decoration-color: #0087ff\">Dropout</span>)                  │ (<span style=\"color: #00d7ff; text-decoration-color: #00d7ff\">None</span>, <span style=\"color: #00af00; text-decoration-color: #00af00\">49</span>, <span style=\"color: #00af00; text-decoration-color: #00af00\">32</span>)              │               <span style=\"color: #00af00; text-decoration-color: #00af00\">0</span> │\n",
              "├──────────────────────────────────────┼─────────────────────────────┼─────────────────┤\n",
              "│ conv1d_1 (<span style=\"color: #0087ff; text-decoration-color: #0087ff\">Conv1D</span>)                    │ (<span style=\"color: #00d7ff; text-decoration-color: #00d7ff\">None</span>, <span style=\"color: #00af00; text-decoration-color: #00af00\">47</span>, <span style=\"color: #00af00; text-decoration-color: #00af00\">32</span>)              │           <span style=\"color: #00af00; text-decoration-color: #00af00\">3,104</span> │\n",
              "├──────────────────────────────────────┼─────────────────────────────┼─────────────────┤\n",
              "│ max_pooling1d_1 (<span style=\"color: #0087ff; text-decoration-color: #0087ff\">MaxPooling1D</span>)       │ (<span style=\"color: #00d7ff; text-decoration-color: #00d7ff\">None</span>, <span style=\"color: #00af00; text-decoration-color: #00af00\">23</span>, <span style=\"color: #00af00; text-decoration-color: #00af00\">32</span>)              │               <span style=\"color: #00af00; text-decoration-color: #00af00\">0</span> │\n",
              "├──────────────────────────────────────┼─────────────────────────────┼─────────────────┤\n",
              "│ dropout_7 (<span style=\"color: #0087ff; text-decoration-color: #0087ff\">Dropout</span>)                  │ (<span style=\"color: #00d7ff; text-decoration-color: #00d7ff\">None</span>, <span style=\"color: #00af00; text-decoration-color: #00af00\">23</span>, <span style=\"color: #00af00; text-decoration-color: #00af00\">32</span>)              │               <span style=\"color: #00af00; text-decoration-color: #00af00\">0</span> │\n",
              "├──────────────────────────────────────┼─────────────────────────────┼─────────────────┤\n",
              "│ flatten (<span style=\"color: #0087ff; text-decoration-color: #0087ff\">Flatten</span>)                    │ (<span style=\"color: #00d7ff; text-decoration-color: #00d7ff\">None</span>, <span style=\"color: #00af00; text-decoration-color: #00af00\">736</span>)                 │               <span style=\"color: #00af00; text-decoration-color: #00af00\">0</span> │\n",
              "├──────────────────────────────────────┼─────────────────────────────┼─────────────────┤\n",
              "│ dense_8 (<span style=\"color: #0087ff; text-decoration-color: #0087ff\">Dense</span>)                      │ (<span style=\"color: #00d7ff; text-decoration-color: #00d7ff\">None</span>, <span style=\"color: #00af00; text-decoration-color: #00af00\">32</span>)                  │          <span style=\"color: #00af00; text-decoration-color: #00af00\">23,584</span> │\n",
              "├──────────────────────────────────────┼─────────────────────────────┼─────────────────┤\n",
              "│ dense_9 (<span style=\"color: #0087ff; text-decoration-color: #0087ff\">Dense</span>)                      │ (<span style=\"color: #00d7ff; text-decoration-color: #00d7ff\">None</span>, <span style=\"color: #00af00; text-decoration-color: #00af00\">1</span>)                   │              <span style=\"color: #00af00; text-decoration-color: #00af00\">33</span> │\n",
              "└──────────────────────────────────────┴─────────────────────────────┴─────────────────┘\n",
              "</pre>\n"
            ],
            "text/plain": [
              "┏━━━━━━━━━━━━━━━━━━━━━━━━━━━━━━━━━━━━━━┳━━━━━━━━━━━━━━━━━━━━━━━━━━━━━┳━━━━━━━━━━━━━━━━━┓\n",
              "┃\u001b[1m \u001b[0m\u001b[1mLayer (type)                        \u001b[0m\u001b[1m \u001b[0m┃\u001b[1m \u001b[0m\u001b[1mOutput Shape               \u001b[0m\u001b[1m \u001b[0m┃\u001b[1m \u001b[0m\u001b[1m        Param #\u001b[0m\u001b[1m \u001b[0m┃\n",
              "┡━━━━━━━━━━━━━━━━━━━━━━━━━━━━━━━━━━━━━━╇━━━━━━━━━━━━━━━━━━━━━━━━━━━━━╇━━━━━━━━━━━━━━━━━┩\n",
              "│ embedding_7 (\u001b[38;5;33mEmbedding\u001b[0m)              │ (\u001b[38;5;45mNone\u001b[0m, \u001b[38;5;34m100\u001b[0m, \u001b[38;5;34m2003\u001b[0m)           │       \u001b[38;5;34m4,012,009\u001b[0m │\n",
              "├──────────────────────────────────────┼─────────────────────────────┼─────────────────┤\n",
              "│ conv1d (\u001b[38;5;33mConv1D\u001b[0m)                      │ (\u001b[38;5;45mNone\u001b[0m, \u001b[38;5;34m98\u001b[0m, \u001b[38;5;34m32\u001b[0m)              │         \u001b[38;5;34m192,320\u001b[0m │\n",
              "├──────────────────────────────────────┼─────────────────────────────┼─────────────────┤\n",
              "│ max_pooling1d (\u001b[38;5;33mMaxPooling1D\u001b[0m)         │ (\u001b[38;5;45mNone\u001b[0m, \u001b[38;5;34m49\u001b[0m, \u001b[38;5;34m32\u001b[0m)              │               \u001b[38;5;34m0\u001b[0m │\n",
              "├──────────────────────────────────────┼─────────────────────────────┼─────────────────┤\n",
              "│ dropout_6 (\u001b[38;5;33mDropout\u001b[0m)                  │ (\u001b[38;5;45mNone\u001b[0m, \u001b[38;5;34m49\u001b[0m, \u001b[38;5;34m32\u001b[0m)              │               \u001b[38;5;34m0\u001b[0m │\n",
              "├──────────────────────────────────────┼─────────────────────────────┼─────────────────┤\n",
              "│ conv1d_1 (\u001b[38;5;33mConv1D\u001b[0m)                    │ (\u001b[38;5;45mNone\u001b[0m, \u001b[38;5;34m47\u001b[0m, \u001b[38;5;34m32\u001b[0m)              │           \u001b[38;5;34m3,104\u001b[0m │\n",
              "├──────────────────────────────────────┼─────────────────────────────┼─────────────────┤\n",
              "│ max_pooling1d_1 (\u001b[38;5;33mMaxPooling1D\u001b[0m)       │ (\u001b[38;5;45mNone\u001b[0m, \u001b[38;5;34m23\u001b[0m, \u001b[38;5;34m32\u001b[0m)              │               \u001b[38;5;34m0\u001b[0m │\n",
              "├──────────────────────────────────────┼─────────────────────────────┼─────────────────┤\n",
              "│ dropout_7 (\u001b[38;5;33mDropout\u001b[0m)                  │ (\u001b[38;5;45mNone\u001b[0m, \u001b[38;5;34m23\u001b[0m, \u001b[38;5;34m32\u001b[0m)              │               \u001b[38;5;34m0\u001b[0m │\n",
              "├──────────────────────────────────────┼─────────────────────────────┼─────────────────┤\n",
              "│ flatten (\u001b[38;5;33mFlatten\u001b[0m)                    │ (\u001b[38;5;45mNone\u001b[0m, \u001b[38;5;34m736\u001b[0m)                 │               \u001b[38;5;34m0\u001b[0m │\n",
              "├──────────────────────────────────────┼─────────────────────────────┼─────────────────┤\n",
              "│ dense_8 (\u001b[38;5;33mDense\u001b[0m)                      │ (\u001b[38;5;45mNone\u001b[0m, \u001b[38;5;34m32\u001b[0m)                  │          \u001b[38;5;34m23,584\u001b[0m │\n",
              "├──────────────────────────────────────┼─────────────────────────────┼─────────────────┤\n",
              "│ dense_9 (\u001b[38;5;33mDense\u001b[0m)                      │ (\u001b[38;5;45mNone\u001b[0m, \u001b[38;5;34m1\u001b[0m)                   │              \u001b[38;5;34m33\u001b[0m │\n",
              "└──────────────────────────────────────┴─────────────────────────────┴─────────────────┘\n"
            ]
          },
          "metadata": {},
          "output_type": "display_data"
        },
        {
          "data": {
            "text/html": [
              "<pre style=\"white-space:pre;overflow-x:auto;line-height:normal;font-family:Menlo,'DejaVu Sans Mono',consolas,'Courier New',monospace\"><span style=\"font-weight: bold\"> Total params: </span><span style=\"color: #00af00; text-decoration-color: #00af00\">4,231,050</span> (16.14 MB)\n",
              "</pre>\n"
            ],
            "text/plain": [
              "\u001b[1m Total params: \u001b[0m\u001b[38;5;34m4,231,050\u001b[0m (16.14 MB)\n"
            ]
          },
          "metadata": {},
          "output_type": "display_data"
        },
        {
          "data": {
            "text/html": [
              "<pre style=\"white-space:pre;overflow-x:auto;line-height:normal;font-family:Menlo,'DejaVu Sans Mono',consolas,'Courier New',monospace\"><span style=\"font-weight: bold\"> Trainable params: </span><span style=\"color: #00af00; text-decoration-color: #00af00\">219,041</span> (855.63 KB)\n",
              "</pre>\n"
            ],
            "text/plain": [
              "\u001b[1m Trainable params: \u001b[0m\u001b[38;5;34m219,041\u001b[0m (855.63 KB)\n"
            ]
          },
          "metadata": {},
          "output_type": "display_data"
        },
        {
          "data": {
            "text/html": [
              "<pre style=\"white-space:pre;overflow-x:auto;line-height:normal;font-family:Menlo,'DejaVu Sans Mono',consolas,'Courier New',monospace\"><span style=\"font-weight: bold\"> Non-trainable params: </span><span style=\"color: #00af00; text-decoration-color: #00af00\">4,012,009</span> (15.30 MB)\n",
              "</pre>\n"
            ],
            "text/plain": [
              "\u001b[1m Non-trainable params: \u001b[0m\u001b[38;5;34m4,012,009\u001b[0m (15.30 MB)\n"
            ]
          },
          "metadata": {},
          "output_type": "display_data"
        }
      ],
      "source": [
        "model = Sequential(\n",
        "    [\n",
        "        Input(shape=(max_len,), name='input'),\n",
        "        ## one-hot encoding\n",
        "        Embedding(input_dim=num_words,\n",
        "                  output_dim=num_words,\n",
        "                  embeddings_initializer='identity',\n",
        "                  trainable=False),\n",
        "        ## convolutional layers\n",
        "        Conv1D(32, 3, activation='relu'),\n",
        "        MaxPooling1D(2),\n",
        "        Dropout(0.5),\n",
        "        Conv1D(32, 3, activation='relu'),\n",
        "        MaxPooling1D(2),\n",
        "        Dropout(0.5),\n",
        "        Flatten(),\n",
        "        Dense(32, activation='relu'),\n",
        "        Dense(1, activation='sigmoid')\n",
        "    ]\n",
        ")\n",
        "\n",
        "model.summary()"
      ]
    },
    {
      "cell_type": "code",
      "execution_count": 59,
      "metadata": {
        "colab": {
          "base_uri": "https://localhost:8080/"
        },
        "id": "hrNycmPPBpBP",
        "outputId": "51975b89-c042-4f87-f874-90750f2baf3c"
      },
      "outputs": [
        {
          "name": "stdout",
          "output_type": "stream",
          "text": [
            "Epoch 1/5\n",
            "\u001b[1m88/88\u001b[0m \u001b[32m━━━━━━━━━━━━━━━━━━━━\u001b[0m\u001b[37m\u001b[0m \u001b[1m12s\u001b[0m 74ms/step - accuracy: 0.5079 - loss: 0.6932 - val_accuracy: 0.5912 - val_loss: 0.6761\n",
            "Epoch 2/5\n",
            "\u001b[1m88/88\u001b[0m \u001b[32m━━━━━━━━━━━━━━━━━━━━\u001b[0m\u001b[37m\u001b[0m \u001b[1m12s\u001b[0m 17ms/step - accuracy: 0.6690 - loss: 0.6039 - val_accuracy: 0.7988 - val_loss: 0.4411\n",
            "Epoch 3/5\n",
            "\u001b[1m88/88\u001b[0m \u001b[32m━━━━━━━━━━━━━━━━━━━━\u001b[0m\u001b[37m\u001b[0m \u001b[1m3s\u001b[0m 17ms/step - accuracy: 0.8065 - loss: 0.4208 - val_accuracy: 0.8048 - val_loss: 0.4220\n",
            "Epoch 4/5\n",
            "\u001b[1m88/88\u001b[0m \u001b[32m━━━━━━━━━━━━━━━━━━━━\u001b[0m\u001b[37m\u001b[0m \u001b[1m3s\u001b[0m 21ms/step - accuracy: 0.8425 - loss: 0.3571 - val_accuracy: 0.8160 - val_loss: 0.4061\n",
            "Epoch 5/5\n",
            "\u001b[1m88/88\u001b[0m \u001b[32m━━━━━━━━━━━━━━━━━━━━\u001b[0m\u001b[37m\u001b[0m \u001b[1m2s\u001b[0m 17ms/step - accuracy: 0.8655 - loss: 0.3172 - val_accuracy: 0.8164 - val_loss: 0.4112\n"
          ]
        }
      ],
      "source": [
        "model.compile(\n",
        "    optimizer='adam',\n",
        "    loss='binary_crossentropy',\n",
        "    metrics=['accuracy']\n",
        ")\n",
        "epochs = 5\n",
        "history = model.fit(x_train_seq, train_labels,\n",
        "                    validation_split=0.1, epochs=epochs,\n",
        "                    batch_size=256)"
      ]
    },
    {
      "cell_type": "code",
      "execution_count": 62,
      "metadata": {
        "colab": {
          "base_uri": "https://localhost:8080/"
        },
        "id": "TDStxIQ_RA_X",
        "outputId": "b9f4e0cc-7631-4103-cac4-e89ed5a0ee33"
      },
      "outputs": [
        {
          "name": "stdout",
          "output_type": "stream",
          "text": [
            "\u001b[1m782/782\u001b[0m \u001b[32m━━━━━━━━━━━━━━━━━━━━\u001b[0m\u001b[37m\u001b[0m \u001b[1m3s\u001b[0m 3ms/step - accuracy: 0.8162 - loss: 0.4034\n",
            "Test Loss: 0.4034242331981659\n",
            "Test Accuracy: 0.81632000207901\n"
          ]
        }
      ],
      "source": [
        "results = model.evaluate(x_test_seq, test_labels, verbose=1)\n",
        "print('Test Loss: {}'.format(results[0]))\n",
        "print('Test Accuracy: {}'.format(results[1]))"
      ]
    },
    {
      "cell_type": "code",
      "execution_count": 60,
      "metadata": {
        "colab": {
          "base_uri": "https://localhost:8080/"
        },
        "id": "7rDhHY9H-2dV",
        "outputId": "f38a244c-c67d-4d9a-b5f5-cc275756f632"
      },
      "outputs": [
        {
          "name": "stdout",
          "output_type": "stream",
          "text": [
            "\u001b[1m1/1\u001b[0m \u001b[32m━━━━━━━━━━━━━━━━━━━━\u001b[0m\u001b[37m\u001b[0m \u001b[1m3s\u001b[0m 3s/step\n"
          ]
        },
        {
          "data": {
            "text/plain": [
              "array([[0.1571],\n",
              "       [0.8681],\n",
              "       [0.752 ],\n",
              "       [0.5413],\n",
              "       [0.2963],\n",
              "       [0.3391]], dtype=float32)"
            ]
          },
          "execution_count": 60,
          "metadata": {},
          "output_type": "execute_result"
        }
      ],
      "source": [
        "reviews = ['the film was really bad and i am very disappointed',\n",
        "           'The film was very funny entertaining and good we had a great time . brilliant film',\n",
        "           'this film was just brilliant',\n",
        "           'the film is not good',\n",
        "           'the film is not bad',\n",
        "          'the movie is not bad I like it']\n",
        "sequences = [vectorize_text_sentence(review.lower(), word2int)\n",
        "             for review in reviews]\n",
        "\n",
        "## Padding the sequences\n",
        "x_pred  = tf.keras.preprocessing.sequence.pad_sequences(sequences, maxlen=max_len, truncating='post', padding='post')# ...\n",
        "\n",
        "np.round(model.predict(x_pred), 4)"
      ]
    },
    {
      "cell_type": "code",
      "execution_count": 61,
      "metadata": {
        "colab": {
          "base_uri": "https://localhost:8080/"
        },
        "id": "jhTb9wLNQw6L",
        "outputId": "38cf2e84-3af4-406b-bf0a-5c6b55b5ca64"
      },
      "outputs": [
        {
          "name": "stdout",
          "output_type": "stream",
          "text": [
            "\u001b[1m782/782\u001b[0m \u001b[32m━━━━━━━━━━━━━━━━━━━━\u001b[0m\u001b[37m\u001b[0m \u001b[1m3s\u001b[0m 3ms/step\n",
            "Predicted : 0, real : 1, lenght: 521\n",
            "<START> i never expected such an old film to be as impressive as this <UNK> western turned out to be the scenes of the <UNK> <UNK> west in their <UNK> <UNK> <UNK> <UNK> and <UNK> river <UNK> indian <UNK> and every manner of <UNK> and <UNK> are <UNK> in their <UNK> <UNK> much of the film was shot <UNK> and the movie has a truly epic feel about it the actors must have <UNK> much the same <UNK> as the original <UNK> did and the results are <UNK> the <UNK> the <UNK> every single detail looks and feels right the characters are simple but believable with a <UNK> story that <UNK> like the <UNK> train to its <UNK> br br john <UNK> is <UNK> and <UNK> in one of his first roles as the <UNK> leading the <UNK> and he does a fine job as the <UNK> young <UNK> he's up against a <UNK> <UNK> of villains including <UNK> <UNK> as a <UNK> <UNK> charles <UNK> as a <UNK> <UNK> and <UNK> power <UNK> as the <UNK> like <UNK> <UNK> <UNK> <UNK> <UNK> than life portrayal is both comic and <UNK> i keep <UNK> him with a gold <UNK> <UNK> and black eye <UNK> with a <UNK> on his <UNK> as he <UNK> and <UNK> various <UNK> and <UNK> his character could easily be <UNK> to a <UNK> ship with no <UNK> at all he nearly <UNK> the whole picture br br <UNK> <UNK> is delightful as a <UNK> old <UNK> who is <UNK> best friend the lovely <UNK> <UNK> makes a <UNK> heroine whose <UNK> <UNK> with <UNK> is a hilarious mix up <UNK> in a long running <UNK> <UNK> of <UNK> and <UNK> <UNK> on her part to <UNK> <UNK> <UNK> on his the results are quite humorous and one is glad to see them finally get together at the end br br the scenery is amazing with the <UNK> <UNK> real <UNK> and having to be <UNK> by <UNK> down <UNK> <UNK> who are clearly the <UNK> <UNK> and not white actors in <UNK> appear as both friends and <UNK> and are treated with <UNK> <UNK> character tells an <UNK> group of young boys that the <UNK> are his friends who <UNK> him everything he knows about <UNK> in the <UNK> br br the big <UNK> is an <UNK> tale told well by a talented cast and crew it will probably appear <UNK> to many modern viewers but there is a quiet <UNK> about it that never lets it become <UNK> there is a great deal of <UNK> humor including a <UNK> <UNK> of a <UNK> who makes loud animal sounds from <UNK> every time the <UNK> <UNK> <UNK> <UNK> tries to <UNK> the beautiful heroine into <UNK> him his <UNK> <UNK> about the <UNK> he <UNK> <UNK> are <UNK> by very realistic <UNK> of <UNK> <UNK> and <UNK> <UNK> <UNK> the would be <UNK> to look around in <UNK> for the <UNK> <UNK> br br highly recommended both for western fans and lovers of old movies in general this is truly a classic film for the <UNK>\n",
            "\n",
            "Predicted : 1, real : 0, lenght: 115\n",
            "<START> this is one entertaining flick i suggest you rent it buy a couple of <UNK> and <UNK> the whole crew over for this one my favorite parts were 1 the <UNK> that were so well <UNK> that john <UNK> himself was <UNK> 2 the wonderful special effects 3 the academy award winning acting and 4 the fact that every single <UNK> in the film seemed to be doing a bad <UNK> <UNK> i mean master p as a <UNK> <UNK> this is <UNK> <UNK> and with well written dialogue including lines like the only difference between you and me <UNK> is i'm alive and your dead this movie is truly a masterpiece yeah right\n",
            "\n",
            "Predicted : 1, real : 0, lenght: 416\n",
            "<START> <UNK> <UNK> you might remember him as mr in <UNK> <UNK> little <UNK> of <UNK> <UNK> this somewhat interesting yet <UNK> <UNK> tale of dr <UNK> daughter <UNK> on her <UNK> work after his death and creating a creature not for its <UNK> ability or its <UNK> to be do good but rather for its sex appeal you see <UNK> though a doctor and scientist in her own right is concerned with really nothing more than <UNK> her <UNK> <UNK> for the <UNK> boy and making some super sex <UNK> by using his body with the excellent brain of a man she does not love the story is <UNK> thin here and one gets what one might expect lots of <UNK> and <UNK> comments surprisingly most from the female lead special effects that are not so special acting that lacks depth of <UNK> and not really much action or suspense and while this film is almost <UNK> in <UNK> to good <UNK> lady <UNK> does <UNK> have some aspects which make it watchable not highly watchable but watchable <UNK> italian actress <UNK> <UNK> <UNK> <UNK> <UNK> <UNK> plays the <UNK> daughter with some <UNK> and lots and lots of sex appeal she <UNK> desire and <UNK> quite well her performance is pretty one <UNK> but she is quite lovely and plays over the top a little too well she is also very open with her performance if you catch my <UNK> poor <UNK> <UNK> now <UNK> to european horror films for money plays the father in a brief yet <UNK> performance he is the star <UNK> but gone before the film really <UNK> into a <UNK> as for the rest of the cast paul <UNK> is somewhat effective as dr charles <UNK> the <UNK> <UNK> and an <UNK> of the daughter for some time as <UNK> and missing <UNK> begin to <UNK> in the <UNK> <UNK> i wasn't <UNK> this <UNK> <UNK> starts to <UNK> for <UNK> despite what you might think not to her <UNK> where the movie really loses <UNK> is in the final third of the film where the suspect script weak performances and <UNK> direction all head further south the creature is <UNK> and looks quite ridiculous the film ends somewhat <UNK> with one of the <UNK> <UNK> very common in the <UNK> while not nearly as bad and <UNK> as some might want you to think lady <UNK> is indeed a very <UNK> film with some <UNK> <UNK> intriguing <UNK>\n",
            "\n",
            "Predicted : 0, real : 1, lenght: 84\n",
            "<START> <UNK> 4 this movie was <UNK> after the <UNK> <UNK> movies this one was released in the same years as <UNK> 3 was released in <UNK> <UNK> 4 takes you in space as they <UNK> for the humans in a space ship i doubt if there will be a <UNK> 5 because the ending for the <UNK> was quite a good ending which brought the end to the <UNK> as there was no more left i give this movie 10 out of 10\n",
            "\n",
            "Predicted : 1, real : 0, lenght: 119\n",
            "<START> to judge a movie just for the <UNK> <UNK> costumes it is just not right you are missing the <UNK> the story br br a movie has to <UNK> something to tell a story something that <UNK> you yes i was <UNK> by the <UNK> <UNK> clear water and all that but there is the plot br br they are more interesting movies with mad people such as <UNK> over the <UNK> s <UNK> etc etc this one is about a crazy woman who is more <UNK> to <UNK> than his children or his husband just a clear <UNK> case nothing <UNK> unfortunately a waste of time and there is all that <UNK> coming from <UNK> <UNK> <UNK>\n",
            "\n",
            "Predicted : 0, real : 1, lenght: 132\n",
            "<START> i would like if they brought back <UNK> i really enjoyed the show along with my family i felt the plot development and storyline were first rate like the other person said it seems that everything gets <UNK> to the <UNK> common <UNK> nothing but bland <UNK> <UNK> <UNK> <UNK> just look at the <UNK> to see how many people were watching the show also it is not nice to leave us <UNK> as to what happened the all of the characters on the show this is the same thing that happened to the time <UNK> show i think was called 8 days but should have been called did the <UNK> kill <UNK> i know the writers <UNK> killed another one of my favorite shows years ago called greatest american hero\n",
            "\n",
            "Predicted : 0, real : 1, lenght: 352\n",
            "<START> edge of the city is another movie that <UNK> a lot of credit to on the <UNK> from it's <UNK> locations to its score to the <UNK> that whatever trouble you may be in you can somehow right your <UNK> br br edge also <UNK> with ideas like <UNK> and <UNK> in my opinion that is where the movie does not <UNK> like <UNK> at <UNK> minutes the movie <UNK> through the <UNK> of relationships and <UNK> everything up so quickly that much of it seems forced and unbelievable br br possible spoilers br br the relationship between <UNK> <UNK> and john <UNK> could have been further developed in the beginning i don't believe that these two characters from two very different places would have <UNK> such a strong relationship so quickly br br i think that the whole love sub plot with <UNK> could have been <UNK> he is so <UNK> with a woman that it becomes painful to watch the only reason why it is in the movie is so that she can <UNK> him to do the right thing at the end there are other ways that they could have shown this i would have also liked to see some scenes of <UNK> in the army to <UNK> why he is the way he is br br the acting is excellent <UNK> is terrific in a role that is beautifully written his role as <UNK> is interesting and <UNK> <UNK> and especially for <UNK> a man who is <UNK> <UNK> and intelligent <UNK> as <UNK> <UNK> while very good does not seem quite right for the part <UNK> is terrific as the boss who knows secret although his fight scene with <UNK> at the end is <UNK> <UNK> too many break away <UNK> i thought <UNK> <UNK> was wonderful in role of <UNK> wife br br on the whole edge of the city is a smart movie with a very good cast that tries too hard to be an interesting noir style picture without taking the time to let the drama build br br 7 out of 10\n",
            "\n",
            "Predicted : 1, real : 0, lenght: 166\n",
            "<START> i didn't watch this show that much when i was little and i think i only watched 1 episode which was about <UNK> i believe because i liked <UNK> and still do even then i thought it was a baby show i mostly watched arthur the songs are pretty weird too and i don't think it's that <UNK> either they just sing some dumb <UNK> <UNK> this is a dumb show any adults who like it are crazy if you want some good kids shows watch something like arthur <UNK> <UNK> <UNK> or even better <UNK> <UNK> <UNK> i thought <UNK> street was boring when i was little but even that is better than <UNK> trust me this show is pretty dumb there are other kids shows that are better than this one i can see many of the reviews here that a lot of people don't like this show now there are some <UNK> people i hope they take this show off air soon\n",
            "\n",
            "Predicted : 0, real : 1, lenght: 145\n",
            "<START> <UNK> <UNK> poorly filmed you <UNK> zero budget they <UNK> <UNK> it on their <UNK> brilliant anyway or because of it for sure br br this movie <UNK> and makes fun of everything that was classic about the <UNK> teen horror genre characters with absolutely no depth <UNK> into a <UNK> roll they never escape for a moment <UNK> trying to <UNK> a <UNK> by some mysterious force they <UNK> by doing something <UNK> <UNK> completely <UNK> nudity impossible <UNK> of blood coming out of victims slow moving zombies great one <UNK> and our hero even <UNK> a michael jackson <UNK> br br this is not an all out <UNK> like scary movie but more a <UNK> film to the lost <UNK> of the <UNK> horror movies when being scared and <UNK> out could also be a fun silly sexy and <UNK> good time\n",
            "\n",
            "Predicted : 0, real : 1, lenght: 258\n",
            "<START> i have just seen a very original film that i would recommend to everyone including the young the <UNK> ' however i guess some of the <UNK> violence and sexual <UNK> in the movie are not <UNK> for all your children ' <UNK> before the <UNK> <UNK> up the <UNK> let me tell you the name of the film <UNK> <UNK> ' <UNK> <UNK> stars as <UNK> she is a <UNK> <UNK> who falls under a <UNK> and thinks she is a real life character of her favorite soap opera because of this she goes on a journey to <UNK> <UNK> to <UNK> with her supposed soap opera character lover dr <UNK> to add <UNK> to the fire she is also being <UNK> by some <UNK> one life not to <UNK> who think she has <UNK> their drugs you could say that is how <UNK> <UNK> <UNK> the days of her <UNK> throughout the movie this very situation eventually leads her to the set of her <UNK> soap opera however the only problem is that <UNK> thinks this is all real it is like her mind is in another world ' ok enough i will <UNK> off my mouth with soap and not mention any more soap names i have already <UNK> my <UNK> for <UNK> as a best actress oscar <UNK> also <UNK> <UNK> performance as dr <UNK> was as good as it gets in his acting <UNK> to <UNK> it up my final <UNK> is that everyone should call in for <UNK> <UNK> ' excellent\n",
            "\n"
          ]
        }
      ],
      "source": [
        "show_errors(x_test_seq, model, test_labels, int2word, n_samples=10)"
      ]
    }
  ],
  "metadata": {
    "accelerator": "GPU",
    "colab": {
      "gpuType": "T4",
      "provenance": [],
      "toc_visible": true
    },
    "kernelspec": {
      "display_name": "Python 3",
      "name": "python3"
    },
    "language_info": {
      "codemirror_mode": {
        "name": "ipython",
        "version": 3
      },
      "file_extension": ".py",
      "mimetype": "text/x-python",
      "name": "python",
      "nbconvert_exporter": "python",
      "pygments_lexer": "ipython3",
      "version": "3.8.5"
    }
  },
  "nbformat": 4,
  "nbformat_minor": 0
}
